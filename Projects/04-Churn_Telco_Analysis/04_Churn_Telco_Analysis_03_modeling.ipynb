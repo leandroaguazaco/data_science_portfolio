{
  "nbformat": 4,
  "nbformat_minor": 0,
  "metadata": {
    "colab": {
      "provenance": [],
      "toc_visible": true,
      "authorship_tag": "ABX9TyMENjxsaioh/hK36mUsOL3A",
      "include_colab_link": true
    },
    "kernelspec": {
      "name": "python3",
      "display_name": "Python 3"
    },
    "language_info": {
      "name": "python"
    }
  },
  "cells": [
    {
      "cell_type": "markdown",
      "metadata": {
        "id": "view-in-github",
        "colab_type": "text"
      },
      "source": [
        "<a href=\"https://colab.research.google.com/github/leandroaguazaco/data_science_portfolio/blob/main/Projects/04-Churn_Telco_Analysis/04_Churn_Telco_Analysis_03_modeling.ipynb\" target=\"_parent\"><img src=\"https://colab.research.google.com/assets/colab-badge.svg\" alt=\"Open In Colab\"/></a>"
      ]
    },
    {
      "cell_type": "markdown",
      "source": [
        "<h1 align=\"center\"> 4 - CHURN TELCO ANALYSIS </h1>\n",
        "\n",
        "<div align=\"center\">\n",
        "\n",
        "  <img alt=\"Static Badge\" src=\"https://img.shields.io/badge/active_project-true-blue\">\n",
        "\n",
        "</div>  \n",
        "\n",
        "<h2 align=\"center\"> 4.3 - Modeling </h2>\n",
        "\n",
        "<div align=\"center\">\n",
        "\n",
        "  <img alt=\"Static Badge\" src=\"https://img.shields.io/badge/active_section-true-blue\">\n",
        "\n",
        "  <img alt=\"Static Badge\" src=\"https://img.shields.io/badge/section_status-in progress-green\">\n",
        "\n",
        "</div>  \n",
        "\n",
        "<object\n",
        "data=\"https://img.shields.io/badge/contact-Felipe_Leandro_Aguazaco-blue?style=flat&link=https%3A%2F%2Fwww.linkedin.com%2Fin%2Ffelipe-leandro-aguazaco%2F\">\n",
        "</object>"
      ],
      "metadata": {
        "id": "l-Uu24JFMaYa"
      }
    },
    {
      "cell_type": "markdown",
      "source": [
        "## a. Project summary\n",
        "\n",
        "The aim of this project is to analyze and predict customer churn in the telco industry. The information pertains to client behavior, including in-call, out-call, and internet service consumption. There is a variable called 'Churn' that determines whether a customer churned within two weeks after canceling services. The information summarizes eight weeks of data for each telco line or client."
      ],
      "metadata": {
        "id": "pwcEGX9LM0lP"
      }
    },
    {
      "cell_type": "markdown",
      "source": [
        "<h3 align=\"center\"> <font color='orange'>NOTE: The project is distributed across multiple sections, separated into notebook files, in the following way:</font> </h3>\n",
        "\n",
        "\n",
        "\n",
        "4.1 - Preprocessig data: load, join and clean data, and Exploratory data analysis, EDA.\n",
        "\n",
        "4.2 - Premodeling: predict customer churn based on PyCaret library.\n",
        "\n",
        "> <font color='gray'>  4.3 - Modeling: predict customer churn based on sklearn pipelines. </font> ✍ ▶ <font color='orange'> Current section </font>\n",
        "\n",
        "4.4 - Analyzing and explaining predictions.\n",
        "\n",
        "4.5 - Detecting vulneabilities in final machine learnig model.\n",
        "\n",
        "4.6 - Model deployment with Streamlit."
      ],
      "metadata": {
        "id": "sEeV682OM1o-"
      }
    },
    {
      "cell_type": "markdown",
      "source": [
        "## b. Install libraries"
      ],
      "metadata": {
        "id": "4FvXgp1vNXKd"
      }
    },
    {
      "cell_type": "code",
      "source": [
        "%%capture\n",
        "!pip install polars\n",
        "!pip install pyjanitor # Clean DataFrame\n",
        "!pip install colorama\n",
        "!pip install adjustText\n",
        "!pip install scikit-optimize # BayesSearchCV\n",
        "!pip install -U imbalanced-learn\n",
        "!pip install umap-learn # Dimension reduction\n",
        "!pip install mlflow\n",
        "!pip install pyngrok\n",
        "!pip install xgboost\n",
        "!pip install lightgbm\n",
        "!pip install catboost"
      ],
      "metadata": {
        "id": "9EPp-kizOqvz"
      },
      "execution_count": 1,
      "outputs": []
    },
    {
      "cell_type": "markdown",
      "source": [
        "## c. Import libraries"
      ],
      "metadata": {
        "id": "Q-Nkq9TbNXzg"
      }
    },
    {
      "cell_type": "code",
      "source": [
        "%%capture\n",
        "# c.1 Python Utilies\n",
        "import pandas as pd\n",
        "import polars as pl\n",
        "import numpy as np\n",
        "import math\n",
        "import warnings\n",
        "from scipy.stats import spearmanr\n",
        "from statsmodels.stats.outliers_influence import variance_inflation_factor\n",
        "import scipy.stats as stats\n",
        "from janitor import clean_names, remove_empty\n",
        "from colorama import Fore, Style\n",
        "import rpy2\n",
        "import shutil\n",
        "import os\n",
        "from google.colab import drive\n",
        "import matplotlib.pyplot as plt\n",
        "import seaborn as sns"
      ],
      "metadata": {
        "id": "fG0_XirEPKtv"
      },
      "execution_count": 2,
      "outputs": []
    },
    {
      "cell_type": "code",
      "source": [
        "%%capture\n",
        "# c.2 Machine learning with sklearn\n",
        "\n",
        "import mlflow\n",
        "from pyngrok import ngrok\n",
        "import xgboost as xgb\n",
        "import lightgbm as lgb\n",
        "import catboost as catb\n",
        "\n",
        "  ## Sklearn\n",
        "    ### Imputation\n",
        "from sklearn.experimental import enable_iterative_imputer\n",
        "from sklearn.impute import IterativeImputer\n",
        "    ### Preporcessing\n",
        "from sklearn.base import BaseEstimator, TransformerMixin\n",
        "from sklearn.model_selection import train_test_split\n",
        "from sklearn.preprocessing import LabelEncoder, OneHotEncoder, OrdinalEncoder, RobustScaler, PowerTransformer\n",
        "from sklearn.preprocessing import FunctionTransformer\n",
        "from sklearn.pipeline import make_pipeline\n",
        "from sklearn.compose import ColumnTransformer\n",
        "from sklearn.feature_selection import VarianceThreshold\n",
        "from sklearn.decomposition import PCA\n",
        "    ### Models\n",
        "from sklearn.ensemble import RandomForestClassifier, AdaBoostClassifier, ExtraTreesClassifier\n",
        "from sklearn.naive_bayes import GaussianNB\n",
        "from sklearn.linear_model import BayesianRidge, LogisticRegression\n",
        "from sklearn.feature_selection import SelectKBest, f_classif, mutual_info_classif # Univariate feature selection\n",
        "from umap import UMAP # Dimensionallity reduction and feature selection\n",
        "    ### Pipeline cache\n",
        "from shutil import rmtree\n",
        "from tempfile import mkdtemp\n",
        "from joblib import Memory\n",
        "    ### Imbalance data\n",
        "from imblearn.combine import SMOTEENN, SMOTETomek # Combination of over- and under-sampling\n",
        "from imblearn.over_sampling import SMOTE, SMOTENC # Synthetic Minority Over-sampling Technique\n",
        "from imblearn.under_sampling import EditedNearestNeighbours # Undersampling\n",
        "from imblearn.pipeline import make_pipeline as imb_make_pipeline\n",
        "from imblearn.pipeline import Pipeline as imb_Pipeline\n",
        "from sklearn.utils.class_weight import compute_class_weight\n",
        "    ### Metrics for classification\n",
        "from sklearn.metrics import confusion_matrix, classification_report, roc_curve, RocCurveDisplay\n",
        "from sklearn.metrics import accuracy_score, precision_score, balanced_accuracy_score, recall_score, f1_score, jaccard_score ## Higher better\n",
        "from sklearn.metrics import roc_auc_score, matthews_corrcoef, cohen_kappa_score\n",
        "    ### Cross validation and Hyperparameter tuning\n",
        "from skopt import BayesSearchCV\n",
        "from skopt.space import Real, Categorical, Integer\n",
        "# from sklearn.model_selection import RandomizedSearchCV, GridSearchCV\n",
        "from sklearn.model_selection import KFold, RepeatedKFold, StratifiedKFold , RepeatedStratifiedKFold, ShuffleSplit, StratifiedShuffleSplit\n",
        "from sklearn.model_selection import cross_validate, cross_val_score, cross_val_predict"
      ],
      "metadata": {
        "id": "VQb2gI9SQm7v",
        "colab": {
          "base_uri": "https://localhost:8080/"
        },
        "outputId": "5a1278b1-579e-455d-e6e6-a34fb1c5e5c4"
      },
      "execution_count": 3,
      "outputs": [
        {
          "output_type": "stream",
          "name": "stderr",
          "text": [
            "/usr/local/lib/python3.10/dist-packages/ipykernel/ipkernel.py:283: DeprecationWarning: `should_run_async` will not call `transform_cell` automatically in the future. Please pass the result to `transformed_cell` argument and any exception that happen during thetransform in `preprocessing_exc_tuple` in IPython 7.17 and above.\n",
            "  and should_run_async(code)\n"
          ]
        }
      ]
    },
    {
      "cell_type": "code",
      "source": [
        "# c.3 Setups\n",
        "%matplotlib inline\n",
        "plt.style.use(\"ggplot\")\n",
        "warnings.simplefilter(\"ignore\")"
      ],
      "metadata": {
        "id": "-57wzUwaTCm7",
        "colab": {
          "base_uri": "https://localhost:8080/"
        },
        "outputId": "ed2df415-b637-4f7c-9dd6-2a52cb56d4b6"
      },
      "execution_count": 4,
      "outputs": [
        {
          "output_type": "stream",
          "name": "stderr",
          "text": [
            "/usr/local/lib/python3.10/dist-packages/ipykernel/ipkernel.py:283: DeprecationWarning: `should_run_async` will not call `transform_cell` automatically in the future. Please pass the result to `transformed_cell` argument and any exception that happen during thetransform in `preprocessing_exc_tuple` in IPython 7.17 and above.\n",
            "  and should_run_async(code)\n"
          ]
        }
      ]
    },
    {
      "cell_type": "markdown",
      "source": [
        "## d. Custom functions"
      ],
      "metadata": {
        "id": "zWnM6Yr2NfSt"
      }
    },
    {
      "cell_type": "markdown",
      "source": [
        "### d.1 - Type conversions"
      ],
      "metadata": {
        "id": "DeQQwDAPTMWU"
      }
    },
    {
      "cell_type": "code",
      "source": [
        "# d.1 dtypes conversion and memory reduce function.\n",
        "def dtype_conversion(df: pd.DataFrame = None, verbose: bool = True)-> pd.DataFrame:\n",
        "    \"\"\"\n",
        "    Summary:\n",
        "      Function to dtypes conversion and save reduce memory usage; takes a DataFrame as argument, returns DataFrame.\n",
        "      For more details, visit: https://towardsdatascience.com/how-to-work-with-million-row-datasets-like-a-pro-76fb5c381cdd.\n",
        "      The modifications include type casting for numerical and object variables.\n",
        "    Parameters:\n",
        "      df (pandas.DataFrame): DataFrame containing information.\n",
        "      verbose (bool, default = True): If true, display results (conversions and warnings)\n",
        "    Returns:\n",
        "      pandas.DataFrame: original DataFrame with dtypes conversions\n",
        "      Plot original dtypes status, variable warning due high cardinality, save memory usage, final dtypes status.\n",
        "    \"\"\"\n",
        "    # 0- Original dtypes\n",
        "    # print(Fore.GREEN + \"Input dtypes\" + Style.RESET_ALL)\n",
        "    # print(df.dtypes)\n",
        "    # print(\"\\n\")\n",
        "    print(Fore.RED + \"Higha Cardinality, categorical features with levels > 15\" + Style.RESET_ALL)\n",
        "\n",
        "    # 1- Original memory_usage in MB\n",
        "    start_mem = df.memory_usage().sum() / 1024 ** 2\n",
        "\n",
        "    # 2- Numerical Types\n",
        "    numerics = [\"int8\", \"int16\", \"int32\", \"int64\", \"float16\", \"float32\", \"float64\"]\n",
        "    for col in df.columns:\n",
        "        col_type = df[col].dtypes\n",
        "        if col_type in numerics:\n",
        "            c_min = df[col].min()\n",
        "            c_max = df[col].max()\n",
        "            if str(col_type)[:3] == \"int\": # First 3 characters\n",
        "                if c_min > np.iinfo(np.int8).min and c_max < np.iinfo(np.int8).max:\n",
        "                    df[col] = df[col].astype(np.int8)\n",
        "                elif c_min > np.iinfo(np.int16).min and c_max < np.iinfo(np.int16).max:\n",
        "                    df[col] = df[col].astype(np.int16)\n",
        "                elif c_min > np.iinfo(np.int32).min and c_max < np.iinfo(np.int32).max:\n",
        "                    df[col] = df[col].astype(np.int32)\n",
        "                elif c_min > np.iinfo(np.int64).min and c_max < np.iinfo(np.int64).max:\n",
        "                    df[col] = df[col].astype(np.int64)\n",
        "            else:\n",
        "                if (c_min > np.finfo(np.float32).min and c_max < np.finfo(np.float32).max):\n",
        "                    df[col] = df[col].astype(np.float32)\n",
        "                #elif (c_min > np.finfo(np.float32).min and c_max < np.finfo(np.float32).max):\n",
        "                #    df[col] = df[col].astype(np.float32)\n",
        "                else:\n",
        "                    df[col] = df[col].astype(np.float64)\n",
        "\n",
        "    # 3- Categorical Types\n",
        "    high_card_vars = 0\n",
        "    for col in df.select_dtypes(exclude = [\"int8\", \"int16\", \"int32\", \"int64\", \"float16\", \"float32\", \"float64\", \"datetime64[ns]\"]):\n",
        "        categories = list(df[col].unique())\n",
        "        cat_len = len(categories)\n",
        "        if cat_len >= 2 and cat_len < 15:\n",
        "           df[col] = df[col].astype(\"category\")\n",
        "        else:\n",
        "          high_card_vars =+ 1\n",
        "          # Print hight cardinality variables, amount of levels and a sample of 50 firts categories\n",
        "          print(f\"Look at: {Fore.RED + col + Style.RESET_ALL}, {cat_len} levels = {categories[:50]}\")\n",
        "    if high_card_vars == 0:\n",
        "      print(Fore.GREEN + \"None\" + Style.RESET_ALL)\n",
        "    else:\n",
        "      pass\n",
        "\n",
        "    # 4- Final memory_usage in MB\n",
        "    end_mem = df.memory_usage().sum() / 1024 ** 2\n",
        "    if verbose:\n",
        "        print(\"\\n\")\n",
        "        print(f\"{Fore.RED}Initial memory usage: {start_mem:.2f} MB{Style.RESET_ALL}\")\n",
        "        print(f\"{Fore.BLUE}Memory usage decreased to {end_mem:.2f} MB ({ 100 * (start_mem - end_mem) / start_mem:.1f}% reduction){Style.RESET_ALL}\")\n",
        "        #print(\"\\n\")\n",
        "        #print(Fore.GREEN + \"Output dtypes\" + Style.RESET_ALL)\n",
        "        #print(df.dtypes)\n",
        "        print(\"\\n\")\n",
        "\n",
        "    # 5. Feature types\n",
        "    print(Fore.GREEN + \"Variable types\" + Style.RESET_ALL)\n",
        "    numerical_vars = len(df.select_dtypes(include = [\"number\"]).columns)\n",
        "    categorical_vars = len(df.select_dtypes(include = [\"category\", \"object\"]).columns)\n",
        "    datetime_vars = len(df.select_dtypes(include = [\"datetime64[ns]\"]).columns)\n",
        "    print(f\"Numerical Features: {numerical_vars}\")\n",
        "    print(f\"Categorical Features: {categorical_vars}\")\n",
        "    print(f\"Datetime Features: {datetime_vars}\")\n",
        "\n",
        "    return df"
      ],
      "metadata": {
        "id": "wxSZgGElTPId"
      },
      "execution_count": 5,
      "outputs": []
    },
    {
      "cell_type": "markdown",
      "source": [
        "### d.2 - Multicollinearity remove class"
      ],
      "metadata": {
        "id": "M3q3UiMOoNyG"
      }
    },
    {
      "cell_type": "code",
      "source": [
        "class RemoveMulticollinearity(BaseEstimator, TransformerMixin):\n",
        "  \"\"\"\n",
        "  Summary:\n",
        "  Class to create a sklearn custom transformer. Features with the VIF (variance inflation factor)\n",
        "  higher than 10 are removed, it removes all except the feature with the highest correlation to y or target.\n",
        "  Calculation based on training dataset.\n",
        "  Note:\n",
        "    This transformer always should be applied after categorical encoding, such as one-hot encoding.\n",
        "  \"\"\"\n",
        "  def __init__(self, threshold: int = 5, method: str = 'spearmanr'):\n",
        "    \"\"\"\n",
        "    Attributes:\n",
        "        threshold (str, 10): Variance inflation factor threshold.\n",
        "        method (str, default = spearmanr): Correlation method.\n",
        "        feature_indices_ (np.array, default = None): Features indices to retain\n",
        "    \"\"\"\n",
        "    self.threshold = threshold\n",
        "    self.method = method\n",
        "    self.feature_indices_ = None\n",
        "    self.features_remove_ = None\n",
        "\n",
        "  def fit(self, X: np.array = None, y: np.array = None):\n",
        "    \"\"\"\n",
        "    Parameters:\n",
        "      X_train (np.array, efault = None): Dataset of transformed predictors.\n",
        "      y_train (np.array, default = None): Dataset of transformed target.\n",
        "\n",
        "    Return:\n",
        "      None.\n",
        "    \"\"\"\n",
        "    # 1. Input features indeces; converting target to numpy array.\n",
        "    self.feature_indices_ = np.arange(X.shape[1])\n",
        "    y_train_array = y_train.to_numpy()\n",
        "\n",
        "    # 2. VIF calculation\n",
        "    vif = np.array([variance_inflation_factor(X, i) for i in range(X.shape[1])])\n",
        "\n",
        "    # 3. Correlation between target and predictors\n",
        "    corr_y = np.array([abs(spearmanr(X[:, i], y_train_array)[0].round(3)) for i in range(X.shape[1])])\n",
        "\n",
        "    # 4. Colum stack: features, vif and correlation\n",
        "    final = np.column_stack((self.feature_indices_, vif, corr_y)).round(3)\n",
        "\n",
        "    # 5. Aplying filter VIF <= 10, exclude highest correlation to y or target\n",
        "    mask = np.where((final[:, 1] > 10) & (final[:, 2] != final[:, 2].max()), final[:, 0], -1) > 0\n",
        "    self.feature_indices_ = self.feature_indices_[~mask]\n",
        "    return self\n",
        "\n",
        "  def transform(self, X):\n",
        "    \"\"\"\n",
        "    Return:\n",
        "      numpy array with multicollinearity features removed.\n",
        "    \"\"\"\n",
        "    return X[:, self.feature_indices_]"
      ],
      "metadata": {
        "id": "-mhO01KIv6Kf"
      },
      "execution_count": 6,
      "outputs": []
    },
    {
      "cell_type": "markdown",
      "source": [
        "### d.3 - Metrics for evaluation model"
      ],
      "metadata": {
        "id": "kpUIi08w9qEW"
      }
    },
    {
      "cell_type": "code",
      "source": [
        "# d.3 Metrics for evaluation model - binary calification\n",
        "def binary_classification_metrics(y_true, y_pred, average: str = \"binary\", pos_label: str | int = None) -> pd.DataFrame:\n",
        "  \"\"\"\n",
        "  Summary:\n",
        "    Function to calculate multiple metrics to assess the performance of classification models on unseen data.\n",
        "    Requiered import pandas and sklearn metrics module.\n",
        "  Parameters:\n",
        "    y_true (array, pd.DataFrame): original target dataset.\n",
        "    y_pred (array, pd.DataFrame): predicted target dataset.\n",
        "    average (str, default = binary): type of averaging performed on the data, important for multiclass classification.\n",
        "    pos_label (str|int, default = None): positive class in binary classification.\n",
        "  Returns:\n",
        "    DataFrame contains metrics of classificatioin performance.\n",
        "  \"\"\"\n",
        "  # Calculate specificity and Negative Predictive Value for binary classification problems\n",
        "  tn, fp, fn, tp = confusion_matrix(y_true, y_pred).ravel()\n",
        "\n",
        "  specificity = tn / (tn + fp)\n",
        "  npv = tn / (tn + fn) # Negative Predictive Value\n",
        "\n",
        "  # Metrics to evaluate:\n",
        "  metrics_labels = [\"Accuracy\", \"Precision\", \"Recall\", \"Specificity\", \"Negative Predictive Value\", \"F1-Score\", \"Balance Accuracy\", \"Jaccard-Score\", \"Matthews Corr Coef\", \"Cohen’s kappa\"]\n",
        "\n",
        "  # Average parameter\n",
        "  average = average # \"binary\" for binary classfication, \"micro, macro, ...\" form multiclass classification\n",
        "\n",
        "  # Calculations\n",
        "  metrics_values = [accuracy_score(y_true, y_pred),\n",
        "                    precision_score(y_true, y_pred, average = average, pos_label = pos_label),\n",
        "                    recall_score(y_true, y_pred, average = average, pos_label = pos_label),\n",
        "                    specificity,\n",
        "                    npv,\n",
        "                    f1_score(y_true, y_pred, average = average, pos_label = pos_label),\n",
        "                    balanced_accuracy_score(y_true, y_pred),\n",
        "                    jaccard_score(y_true, y_pred, average = average, pos_label = pos_label),\n",
        "                    matthews_corrcoef(y_true, y_pred),\n",
        "                    cohen_kappa_score(y1 = y_true, y2 = y_pred)]\n",
        "\n",
        "  metrics_df = pd.DataFrame(data = {\"Metric\": metrics_labels,\n",
        "                                    \"Value\": metrics_values})\n",
        "\n",
        "  return metrics_df.round(3)"
      ],
      "metadata": {
        "id": "Lb9elvgU9l9h"
      },
      "execution_count": 7,
      "outputs": []
    },
    {
      "cell_type": "markdown",
      "source": [
        "## 1 - Load data"
      ],
      "metadata": {
        "id": "aoUOf96-ODre"
      }
    },
    {
      "cell_type": "code",
      "source": [
        "# 1.1 - Import manin file from Google drive\n",
        "\n",
        "# Mount Google Drive\n",
        "drive.mount('/content/drive')\n",
        "\n",
        "\n",
        "# Specify the source path in Google Drive\n",
        "drive_filepath = '/content/drive/MyDrive/DataScience_Portfolio/04-Churn_Telco_Analysis/'\n",
        "\n",
        "# Specify the destination path in Colab\n",
        "colab_filepath = '/content/'\n",
        "\n",
        "# Copy the file from Google Drive to Colab\n",
        "try:\n",
        "  shutil.copy(src = drive_filepath + '/churn_data.txt', dst = colab_filepath + '/churn_data.txt')\n",
        "except:\n",
        "  pass"
      ],
      "metadata": {
        "id": "YvFJCj5ROIyZ",
        "colab": {
          "base_uri": "https://localhost:8080/"
        },
        "outputId": "18c4f872-4a43-4723-f46f-19d9206b69de"
      },
      "execution_count": 8,
      "outputs": [
        {
          "output_type": "stream",
          "name": "stdout",
          "text": [
            "Mounted at /content/drive\n"
          ]
        }
      ]
    },
    {
      "cell_type": "code",
      "source": [
        "%%time\n",
        "# 1.2 - Load data\n",
        "#.drop_nulls() \\\n",
        "churn_df = pl.read_csv(source = 'churn_data.txt',\n",
        "                       has_header = True,\n",
        "                       separator = \"|\",\n",
        "                       try_parse_dates = True,\n",
        "                       encoding = \"utf8\") \\\n",
        "             .drop(columns = [\"SUBSCRIBER_ID\"]) \\\n",
        "             .drop_nulls(subset = ['churn']) \\\n",
        "             .with_columns(pl.col(['region', 'churn', 'canal', 'bandas', 'tipo_gross_adds']).cast(pl.Categorical)) \\\n",
        "             .to_pandas() \\\n",
        "             .pipe(dtype_conversion)"
      ],
      "metadata": {
        "colab": {
          "base_uri": "https://localhost:8080/"
        },
        "id": "J94tCCx2TubF",
        "outputId": "8dea70c2-c4e5-4c91-ebe7-8904b7b77b57"
      },
      "execution_count": 9,
      "outputs": [
        {
          "output_type": "stream",
          "name": "stdout",
          "text": [
            "\u001b[31mHigha Cardinality, categorical features with levels > 15\u001b[0m\n",
            "Look at: \u001b[31mregion\u001b[0m, 34 levels = ['Bogota D.C.', 'Santander', 'Antioquia', nan, 'Cundinamarca', 'Quindio', 'Valle Del Cauca', 'Arauca', 'Bolivar', 'Atlantico', 'Tolima', 'Huila', 'Meta', 'Putumayo', 'Boyaca', 'Caldas', 'Cordoba', 'Nariño', 'Magdalena', 'Risaralda', 'Cauca', 'La Guajira', 'Norte De Santander', 'Caqueta', 'Cesar', 'Guaviare', 'Sucre', 'Amazonas', 'Guainia', 'Vichada', 'Choco', 'Casanare', 'Providencia Islas', 'Vaupes']\n",
            "\n",
            "\n",
            "\u001b[31mInitial memory usage: 175.54 MB\u001b[0m\n",
            "\u001b[34mMemory usage decreased to 87.48 MB (50.2% reduction)\u001b[0m\n",
            "\n",
            "\n",
            "\u001b[32mVariable types\u001b[0m\n",
            "Numerical Features: 38\n",
            "Categorical Features: 5\n",
            "Datetime Features: 0\n",
            "CPU times: user 1.89 s, sys: 859 ms, total: 2.75 s\n",
            "Wall time: 2.92 s\n"
          ]
        }
      ]
    },
    {
      "cell_type": "code",
      "source": [
        "churn_df.head()"
      ],
      "metadata": {
        "colab": {
          "base_uri": "https://localhost:8080/",
          "height": 0
        },
        "id": "QnGaoCLSe77H",
        "outputId": "840da920-07ea-40c8-88e7-2d120bdf139f"
      },
      "execution_count": 10,
      "outputs": [
        {
          "output_type": "execute_result",
          "data": {
            "text/plain": [
              "   cant_sem_datos  prom_gb_tt  prom_gb_ran  prom_%_propia  continuidad_traf  \\\n",
              "0             1.0       0.603        0.000          1.000             1.000   \n",
              "1             5.0       3.369        0.075          0.975             1.250   \n",
              "2             8.0       0.832        0.019          0.983             0.500   \n",
              "3             8.0       6.824        0.328          0.933             0.727   \n",
              "4             8.0       0.917        0.192          0.810             0.444   \n",
              "\n",
              "   variacion_datos_8s  cons_ult_sem  contrafico  mean_minutos_voz_in  \\\n",
              "0            0.000000         0.603           1            29.511000   \n",
              "1          -17.405001         2.783           1            52.870998   \n",
              "2          -48.924999         0.425           1            64.025002   \n",
              "3          -60.625000         2.687           1           148.910004   \n",
              "4           65.065002         1.514           1            77.785004   \n",
              "\n",
              "   mean_llamadas_in  ...       bandas       tipo_gross_adds  \\\n",
              "0             5.571  ...  Fdd Band 28  Gross Adds Migracion   \n",
              "1            18.875  ...      Ninguna      Gross Adds Nueva   \n",
              "2            18.875  ...      Ninguna  Gross Adds Migracion   \n",
              "3            37.000  ...  Fdd Band 28  Gross Adds Portacion   \n",
              "4            15.500  ...  Fdd Band 28  Gross Adds Portacion   \n",
              "\n",
              "   semanas_antiguedad  semanas_contactos_pqr  contactos_ult_semana_pqr  \\\n",
              "0                 1.0                    1.0                       2.0   \n",
              "1                 4.0                    0.0                       0.0   \n",
              "2                16.0                    0.0                       0.0   \n",
              "3                11.0                    0.0                       0.0   \n",
              "4                18.0                    0.0                       0.0   \n",
              "\n",
              "   seg_llamadas_ofertas_ult_semana  var_seg_llamadas_ofertas_4_semanas  \\\n",
              "0                              0.0                                 0.0   \n",
              "1                              0.0                                 0.0   \n",
              "2                              0.0                                 0.0   \n",
              "3                              0.0                                 0.0   \n",
              "4                              0.0                                 0.0   \n",
              "\n",
              "   porc_descuento_activo  jineteo  churn  \n",
              "0                    0.0      1.0     No  \n",
              "1                    0.0      1.0     No  \n",
              "2                    0.0      1.0     No  \n",
              "3                    0.0      1.0     No  \n",
              "4                    0.0      1.0     No  \n",
              "\n",
              "[5 rows x 43 columns]"
            ],
            "text/html": [
              "\n",
              "\n",
              "  <div id=\"df-b237ead0-c36c-486a-bfcb-7b3d43d2f950\">\n",
              "    <div class=\"colab-df-container\">\n",
              "      <div>\n",
              "<style scoped>\n",
              "    .dataframe tbody tr th:only-of-type {\n",
              "        vertical-align: middle;\n",
              "    }\n",
              "\n",
              "    .dataframe tbody tr th {\n",
              "        vertical-align: top;\n",
              "    }\n",
              "\n",
              "    .dataframe thead th {\n",
              "        text-align: right;\n",
              "    }\n",
              "</style>\n",
              "<table border=\"1\" class=\"dataframe\">\n",
              "  <thead>\n",
              "    <tr style=\"text-align: right;\">\n",
              "      <th></th>\n",
              "      <th>cant_sem_datos</th>\n",
              "      <th>prom_gb_tt</th>\n",
              "      <th>prom_gb_ran</th>\n",
              "      <th>prom_%_propia</th>\n",
              "      <th>continuidad_traf</th>\n",
              "      <th>variacion_datos_8s</th>\n",
              "      <th>cons_ult_sem</th>\n",
              "      <th>contrafico</th>\n",
              "      <th>mean_minutos_voz_in</th>\n",
              "      <th>mean_llamadas_in</th>\n",
              "      <th>...</th>\n",
              "      <th>bandas</th>\n",
              "      <th>tipo_gross_adds</th>\n",
              "      <th>semanas_antiguedad</th>\n",
              "      <th>semanas_contactos_pqr</th>\n",
              "      <th>contactos_ult_semana_pqr</th>\n",
              "      <th>seg_llamadas_ofertas_ult_semana</th>\n",
              "      <th>var_seg_llamadas_ofertas_4_semanas</th>\n",
              "      <th>porc_descuento_activo</th>\n",
              "      <th>jineteo</th>\n",
              "      <th>churn</th>\n",
              "    </tr>\n",
              "  </thead>\n",
              "  <tbody>\n",
              "    <tr>\n",
              "      <th>0</th>\n",
              "      <td>1.0</td>\n",
              "      <td>0.603</td>\n",
              "      <td>0.000</td>\n",
              "      <td>1.000</td>\n",
              "      <td>1.000</td>\n",
              "      <td>0.000000</td>\n",
              "      <td>0.603</td>\n",
              "      <td>1</td>\n",
              "      <td>29.511000</td>\n",
              "      <td>5.571</td>\n",
              "      <td>...</td>\n",
              "      <td>Fdd Band 28</td>\n",
              "      <td>Gross Adds Migracion</td>\n",
              "      <td>1.0</td>\n",
              "      <td>1.0</td>\n",
              "      <td>2.0</td>\n",
              "      <td>0.0</td>\n",
              "      <td>0.0</td>\n",
              "      <td>0.0</td>\n",
              "      <td>1.0</td>\n",
              "      <td>No</td>\n",
              "    </tr>\n",
              "    <tr>\n",
              "      <th>1</th>\n",
              "      <td>5.0</td>\n",
              "      <td>3.369</td>\n",
              "      <td>0.075</td>\n",
              "      <td>0.975</td>\n",
              "      <td>1.250</td>\n",
              "      <td>-17.405001</td>\n",
              "      <td>2.783</td>\n",
              "      <td>1</td>\n",
              "      <td>52.870998</td>\n",
              "      <td>18.875</td>\n",
              "      <td>...</td>\n",
              "      <td>Ninguna</td>\n",
              "      <td>Gross Adds Nueva</td>\n",
              "      <td>4.0</td>\n",
              "      <td>0.0</td>\n",
              "      <td>0.0</td>\n",
              "      <td>0.0</td>\n",
              "      <td>0.0</td>\n",
              "      <td>0.0</td>\n",
              "      <td>1.0</td>\n",
              "      <td>No</td>\n",
              "    </tr>\n",
              "    <tr>\n",
              "      <th>2</th>\n",
              "      <td>8.0</td>\n",
              "      <td>0.832</td>\n",
              "      <td>0.019</td>\n",
              "      <td>0.983</td>\n",
              "      <td>0.500</td>\n",
              "      <td>-48.924999</td>\n",
              "      <td>0.425</td>\n",
              "      <td>1</td>\n",
              "      <td>64.025002</td>\n",
              "      <td>18.875</td>\n",
              "      <td>...</td>\n",
              "      <td>Ninguna</td>\n",
              "      <td>Gross Adds Migracion</td>\n",
              "      <td>16.0</td>\n",
              "      <td>0.0</td>\n",
              "      <td>0.0</td>\n",
              "      <td>0.0</td>\n",
              "      <td>0.0</td>\n",
              "      <td>0.0</td>\n",
              "      <td>1.0</td>\n",
              "      <td>No</td>\n",
              "    </tr>\n",
              "    <tr>\n",
              "      <th>3</th>\n",
              "      <td>8.0</td>\n",
              "      <td>6.824</td>\n",
              "      <td>0.328</td>\n",
              "      <td>0.933</td>\n",
              "      <td>0.727</td>\n",
              "      <td>-60.625000</td>\n",
              "      <td>2.687</td>\n",
              "      <td>1</td>\n",
              "      <td>148.910004</td>\n",
              "      <td>37.000</td>\n",
              "      <td>...</td>\n",
              "      <td>Fdd Band 28</td>\n",
              "      <td>Gross Adds Portacion</td>\n",
              "      <td>11.0</td>\n",
              "      <td>0.0</td>\n",
              "      <td>0.0</td>\n",
              "      <td>0.0</td>\n",
              "      <td>0.0</td>\n",
              "      <td>0.0</td>\n",
              "      <td>1.0</td>\n",
              "      <td>No</td>\n",
              "    </tr>\n",
              "    <tr>\n",
              "      <th>4</th>\n",
              "      <td>8.0</td>\n",
              "      <td>0.917</td>\n",
              "      <td>0.192</td>\n",
              "      <td>0.810</td>\n",
              "      <td>0.444</td>\n",
              "      <td>65.065002</td>\n",
              "      <td>1.514</td>\n",
              "      <td>1</td>\n",
              "      <td>77.785004</td>\n",
              "      <td>15.500</td>\n",
              "      <td>...</td>\n",
              "      <td>Fdd Band 28</td>\n",
              "      <td>Gross Adds Portacion</td>\n",
              "      <td>18.0</td>\n",
              "      <td>0.0</td>\n",
              "      <td>0.0</td>\n",
              "      <td>0.0</td>\n",
              "      <td>0.0</td>\n",
              "      <td>0.0</td>\n",
              "      <td>1.0</td>\n",
              "      <td>No</td>\n",
              "    </tr>\n",
              "  </tbody>\n",
              "</table>\n",
              "<p>5 rows × 43 columns</p>\n",
              "</div>\n",
              "      <button class=\"colab-df-convert\" onclick=\"convertToInteractive('df-b237ead0-c36c-486a-bfcb-7b3d43d2f950')\"\n",
              "              title=\"Convert this dataframe to an interactive table.\"\n",
              "              style=\"display:none;\">\n",
              "\n",
              "  <svg xmlns=\"http://www.w3.org/2000/svg\" height=\"24px\"viewBox=\"0 0 24 24\"\n",
              "       width=\"24px\">\n",
              "    <path d=\"M0 0h24v24H0V0z\" fill=\"none\"/>\n",
              "    <path d=\"M18.56 5.44l.94 2.06.94-2.06 2.06-.94-2.06-.94-.94-2.06-.94 2.06-2.06.94zm-11 1L8.5 8.5l.94-2.06 2.06-.94-2.06-.94L8.5 2.5l-.94 2.06-2.06.94zm10 10l.94 2.06.94-2.06 2.06-.94-2.06-.94-.94-2.06-.94 2.06-2.06.94z\"/><path d=\"M17.41 7.96l-1.37-1.37c-.4-.4-.92-.59-1.43-.59-.52 0-1.04.2-1.43.59L10.3 9.45l-7.72 7.72c-.78.78-.78 2.05 0 2.83L4 21.41c.39.39.9.59 1.41.59.51 0 1.02-.2 1.41-.59l7.78-7.78 2.81-2.81c.8-.78.8-2.07 0-2.86zM5.41 20L4 18.59l7.72-7.72 1.47 1.35L5.41 20z\"/>\n",
              "  </svg>\n",
              "      </button>\n",
              "\n",
              "\n",
              "\n",
              "    <div id=\"df-e35bb19d-27f6-421c-bbb6-c5c53d7be836\">\n",
              "      <button class=\"colab-df-quickchart\" onclick=\"quickchart('df-e35bb19d-27f6-421c-bbb6-c5c53d7be836')\"\n",
              "              title=\"Suggest charts.\"\n",
              "              style=\"display:none;\">\n",
              "\n",
              "<svg xmlns=\"http://www.w3.org/2000/svg\" height=\"24px\"viewBox=\"0 0 24 24\"\n",
              "     width=\"24px\">\n",
              "    <g>\n",
              "        <path d=\"M19 3H5c-1.1 0-2 .9-2 2v14c0 1.1.9 2 2 2h14c1.1 0 2-.9 2-2V5c0-1.1-.9-2-2-2zM9 17H7v-7h2v7zm4 0h-2V7h2v10zm4 0h-2v-4h2v4z\"/>\n",
              "    </g>\n",
              "</svg>\n",
              "      </button>\n",
              "    </div>\n",
              "\n",
              "<style>\n",
              "  .colab-df-quickchart {\n",
              "    background-color: #E8F0FE;\n",
              "    border: none;\n",
              "    border-radius: 50%;\n",
              "    cursor: pointer;\n",
              "    display: none;\n",
              "    fill: #1967D2;\n",
              "    height: 32px;\n",
              "    padding: 0 0 0 0;\n",
              "    width: 32px;\n",
              "  }\n",
              "\n",
              "  .colab-df-quickchart:hover {\n",
              "    background-color: #E2EBFA;\n",
              "    box-shadow: 0px 1px 2px rgba(60, 64, 67, 0.3), 0px 1px 3px 1px rgba(60, 64, 67, 0.15);\n",
              "    fill: #174EA6;\n",
              "  }\n",
              "\n",
              "  [theme=dark] .colab-df-quickchart {\n",
              "    background-color: #3B4455;\n",
              "    fill: #D2E3FC;\n",
              "  }\n",
              "\n",
              "  [theme=dark] .colab-df-quickchart:hover {\n",
              "    background-color: #434B5C;\n",
              "    box-shadow: 0px 1px 3px 1px rgba(0, 0, 0, 0.15);\n",
              "    filter: drop-shadow(0px 1px 2px rgba(0, 0, 0, 0.3));\n",
              "    fill: #FFFFFF;\n",
              "  }\n",
              "</style>\n",
              "\n",
              "    <script>\n",
              "      async function quickchart(key) {\n",
              "        const containerElement = document.querySelector('#' + key);\n",
              "        const charts = await google.colab.kernel.invokeFunction(\n",
              "            'suggestCharts', [key], {});\n",
              "      }\n",
              "    </script>\n",
              "\n",
              "      <script>\n",
              "\n",
              "function displayQuickchartButton(domScope) {\n",
              "  let quickchartButtonEl =\n",
              "    domScope.querySelector('#df-e35bb19d-27f6-421c-bbb6-c5c53d7be836 button.colab-df-quickchart');\n",
              "  quickchartButtonEl.style.display =\n",
              "    google.colab.kernel.accessAllowed ? 'block' : 'none';\n",
              "}\n",
              "\n",
              "        displayQuickchartButton(document);\n",
              "      </script>\n",
              "      <style>\n",
              "    .colab-df-container {\n",
              "      display:flex;\n",
              "      flex-wrap:wrap;\n",
              "      gap: 12px;\n",
              "    }\n",
              "\n",
              "    .colab-df-convert {\n",
              "      background-color: #E8F0FE;\n",
              "      border: none;\n",
              "      border-radius: 50%;\n",
              "      cursor: pointer;\n",
              "      display: none;\n",
              "      fill: #1967D2;\n",
              "      height: 32px;\n",
              "      padding: 0 0 0 0;\n",
              "      width: 32px;\n",
              "    }\n",
              "\n",
              "    .colab-df-convert:hover {\n",
              "      background-color: #E2EBFA;\n",
              "      box-shadow: 0px 1px 2px rgba(60, 64, 67, 0.3), 0px 1px 3px 1px rgba(60, 64, 67, 0.15);\n",
              "      fill: #174EA6;\n",
              "    }\n",
              "\n",
              "    [theme=dark] .colab-df-convert {\n",
              "      background-color: #3B4455;\n",
              "      fill: #D2E3FC;\n",
              "    }\n",
              "\n",
              "    [theme=dark] .colab-df-convert:hover {\n",
              "      background-color: #434B5C;\n",
              "      box-shadow: 0px 1px 3px 1px rgba(0, 0, 0, 0.15);\n",
              "      filter: drop-shadow(0px 1px 2px rgba(0, 0, 0, 0.3));\n",
              "      fill: #FFFFFF;\n",
              "    }\n",
              "  </style>\n",
              "\n",
              "      <script>\n",
              "        const buttonEl =\n",
              "          document.querySelector('#df-b237ead0-c36c-486a-bfcb-7b3d43d2f950 button.colab-df-convert');\n",
              "        buttonEl.style.display =\n",
              "          google.colab.kernel.accessAllowed ? 'block' : 'none';\n",
              "\n",
              "        async function convertToInteractive(key) {\n",
              "          const element = document.querySelector('#df-b237ead0-c36c-486a-bfcb-7b3d43d2f950');\n",
              "          const dataTable =\n",
              "            await google.colab.kernel.invokeFunction('convertToInteractive',\n",
              "                                                     [key], {});\n",
              "          if (!dataTable) return;\n",
              "\n",
              "          const docLinkHtml = 'Like what you see? Visit the ' +\n",
              "            '<a target=\"_blank\" href=https://colab.research.google.com/notebooks/data_table.ipynb>data table notebook</a>'\n",
              "            + ' to learn more about interactive tables.';\n",
              "          element.innerHTML = '';\n",
              "          dataTable['output_type'] = 'display_data';\n",
              "          await google.colab.output.renderOutput(dataTable, element);\n",
              "          const docLink = document.createElement('div');\n",
              "          docLink.innerHTML = docLinkHtml;\n",
              "          element.appendChild(docLink);\n",
              "        }\n",
              "      </script>\n",
              "    </div>\n",
              "  </div>\n"
            ]
          },
          "metadata": {},
          "execution_count": 10
        }
      ]
    },
    {
      "cell_type": "markdown",
      "source": [
        "## 2 - Churn prediction: Machine Learning"
      ],
      "metadata": {
        "id": "PPpv-FzIfQUQ"
      }
    },
    {
      "cell_type": "markdown",
      "source": [
        "### 2.1 - MLflow UI Setup"
      ],
      "metadata": {
        "id": "tkV6cYexfWzr"
      }
    },
    {
      "cell_type": "code",
      "source": [
        "# 1. Set the tracking URI to the default local file system\n",
        "mlflow.set_tracking_uri('file:/content/mlruns')"
      ],
      "metadata": {
        "id": "ECQneB48fgV-"
      },
      "execution_count": null,
      "outputs": []
    },
    {
      "cell_type": "code",
      "source": [
        "# 2. Set an experiment name and autolog\n",
        "mlflow.set_experiment(\"04-Churn_Telco_Analysis\")\n",
        "mlflow.autolog(log_input_examples = True, log_model_signatures = True)"
      ],
      "metadata": {
        "id": "es7EU6fKfoOG",
        "colab": {
          "base_uri": "https://localhost:8080/"
        },
        "outputId": "2690d7ea-3180-4b5e-e55c-577fda3d9f98"
      },
      "execution_count": null,
      "outputs": [
        {
          "output_type": "stream",
          "name": "stderr",
          "text": [
            "2023/07/30 04:41:17 INFO mlflow.tracking.fluent: Autologging successfully enabled for lightgbm.\n",
            "2023/07/30 04:41:17 INFO mlflow.tracking.fluent: Autologging successfully enabled for tensorflow.\n",
            "2023/07/30 04:41:17 INFO mlflow.tracking.fluent: Autologging successfully enabled for statsmodels.\n",
            "2023/07/30 04:41:17 INFO mlflow.tracking.fluent: Autologging successfully enabled for sklearn.\n",
            "2023/07/30 04:41:17 INFO mlflow.tracking.fluent: Autologging successfully enabled for xgboost.\n"
          ]
        }
      ]
    },
    {
      "cell_type": "markdown",
      "source": [
        "### 2.2 - Variables types"
      ],
      "metadata": {
        "id": "RXQ4lmrvg7ed"
      }
    },
    {
      "cell_type": "code",
      "source": [
        "# Variables types\n",
        "\n",
        "# Target feature\n",
        "target_var = [\"churn\"]\n",
        "\n",
        "# Datetime features\n",
        "datetime_vars = churn_df.select_dtypes(include = \"datetime64[ns]\").columns.tolist()\n",
        "\n",
        "# Numerical features\n",
        "numerical_vars = churn_df.select_dtypes(include = \"number\").columns.tolist()\n",
        "\n",
        "# Categorical features\n",
        "nominal_vars = churn_df.select_dtypes(include = \"category\").columns.tolist()\n",
        "nominal_vars.pop(-1) # Exclude target variable, instantiated above\n",
        "\n",
        "# 2.2 Reorder DataFrame\n",
        "new_col_order = target_var + numerical_vars + nominal_vars\n",
        "churn_df = churn_df.reindex(columns = new_col_order)"
      ],
      "metadata": {
        "id": "TN00Dnqyg9_4"
      },
      "execution_count": 11,
      "outputs": []
    },
    {
      "cell_type": "code",
      "source": [
        "len(churn_df.columns)"
      ],
      "metadata": {
        "colab": {
          "base_uri": "https://localhost:8080/"
        },
        "id": "B40sYkRviQ5l",
        "outputId": "706e1a36-31f3-4faa-a738-71cc3c134f63"
      },
      "execution_count": 12,
      "outputs": [
        {
          "output_type": "execute_result",
          "data": {
            "text/plain": [
              "43"
            ]
          },
          "metadata": {},
          "execution_count": 12
        }
      ]
    },
    {
      "cell_type": "markdown",
      "source": [
        "### 2.3 - Train - Test split"
      ],
      "metadata": {
        "id": "KuKf_cLxiS2J"
      }
    },
    {
      "cell_type": "code",
      "source": [
        "# Target and independent variables\n",
        "X = churn_df.copy(deep = True).drop(labels = [\"churn\"], axis = 1)\n",
        "y = churn_df.copy(deep = True).loc[:, \"churn\"]"
      ],
      "metadata": {
        "id": "bvEi2OSEiaE0"
      },
      "execution_count": 13,
      "outputs": []
    },
    {
      "cell_type": "code",
      "source": [
        "# Train test split\n",
        "X_train, X_test, y_train, y_test = train_test_split(X, y,\n",
        "                                                    train_size = 0.80,\n",
        "                                                    test_size = 0.20,\n",
        "                                                    stratify = y,\n",
        "                                                    random_state = 123456)\n",
        "\n",
        "print(X_train.shape, X_test.shape, y_train.shape, y_test.shape)"
      ],
      "metadata": {
        "id": "fFHL8Z10jJ4g",
        "outputId": "7d18b07a-c905-48c7-f635-333f05b0dbf8",
        "colab": {
          "base_uri": "https://localhost:8080/"
        }
      },
      "execution_count": 14,
      "outputs": [
        {
          "output_type": "stream",
          "name": "stdout",
          "text": [
            "(476530, 42) (119133, 42) (476530,) (119133,)\n"
          ]
        }
      ]
    },
    {
      "cell_type": "markdown",
      "source": [
        "### 2.4 - Pipeline Cache"
      ],
      "metadata": {
        "id": "xceW314HlzXJ"
      }
    },
    {
      "cell_type": "markdown",
      "source": [
        "#### Import pipeline cache files"
      ],
      "metadata": {
        "id": "i6CGER8V_vY8"
      }
    },
    {
      "cell_type": "code",
      "source": [
        "# Mount Google Drive\n",
        "drive.mount('/content/drive')\n",
        "\n",
        "# Specify the source path in Google Drive\n",
        "drive_folderpath_cache = '/content/drive/MyDrive/DataScience_Portfolio/04-Churn_Telco_Analysis/'\n",
        "\n",
        "# Specify the destination path in Colab\n",
        "colab_folderpath_cache = '/content/'\n",
        "\n",
        "# Copy the folder from Google Drive to Colab\n",
        "try:\n",
        "  shutil.copytree(drive_folderpath_cache + '/cachedir', colab_folderpath_cache + '/cachedir', dirs_exist_ok = True)\n",
        "except:\n",
        "  pass"
      ],
      "metadata": {
        "id": "PWY92jSR_wMC",
        "outputId": "47651e5c-73a5-4293-ce93-644c5953ebb7",
        "colab": {
          "base_uri": "https://localhost:8080/"
        }
      },
      "execution_count": 15,
      "outputs": [
        {
          "output_type": "stream",
          "name": "stdout",
          "text": [
            "Drive already mounted at /content/drive; to attempt to forcibly remount, call drive.mount(\"/content/drive\", force_remount=True).\n"
          ]
        }
      ]
    },
    {
      "cell_type": "markdown",
      "source": [
        "#### Export pipeline cache files"
      ],
      "metadata": {
        "id": "UtpoyMc__8cV"
      }
    },
    {
      "cell_type": "code",
      "source": [
        "# Mount Google Drive\n",
        "drive.mount('/content/drive')\n",
        "\n",
        "# Specify the temporary file or folder path in Colab\n",
        "temp_folderpath_cache = '/content/cachedir'\n",
        "\n",
        "# Specify the destination path in Google Drive\n",
        "drive_folderpath_cache = '/content/drive/MyDrive/DataScience_Portfolio/04-Churn_Telco_Analysis/cachedir'\n",
        "\n",
        "# Remove the existing folder in Google Drive\n",
        "try:\n",
        "  shutil.rmtree(drive_folderpath_cache)\n",
        "except:\n",
        "  pass\n",
        "\n",
        "# Copy the temporary folder to Google Drive\n",
        "shutil.copytree(temp_folderpath_cache, drive_folderpath_cache, dirs_exist_ok = True)"
      ],
      "metadata": {
        "id": "J9tYUGf7_9wt"
      },
      "execution_count": null,
      "outputs": []
    },
    {
      "cell_type": "markdown",
      "source": [
        "#### Create memory folder"
      ],
      "metadata": {
        "id": "GcsJGdwTHS0l"
      }
    },
    {
      "cell_type": "code",
      "source": [
        "# Create a temporary folder to store the transformers of the pipeline\n",
        "memory = Memory(location = \"cachedir\", verbose = 1)"
      ],
      "metadata": {
        "id": "Thi4Z9qDl1_F"
      },
      "execution_count": 16,
      "outputs": []
    },
    {
      "cell_type": "code",
      "source": [
        "# Remove the cache directory at the end of your script\n",
        "# Don't run\n",
        "rmtree(\"cachedir\")"
      ],
      "metadata": {
        "id": "4-_AaLasl8rF"
      },
      "execution_count": null,
      "outputs": []
    },
    {
      "cell_type": "markdown",
      "source": [
        "### 2.5 - Encoding target variable"
      ],
      "metadata": {
        "id": "YEdnaAfAmAUO"
      }
    },
    {
      "cell_type": "code",
      "source": [
        "# 1. Instantiate Encoder\n",
        "target_encoder = LabelEncoder()\n",
        "\n",
        "# 2. y train encoder\n",
        "y_train_encoded = target_encoder.fit_transform(y_train)\n",
        "print(target_encoder.classes_)\n",
        "y_train = pd.DataFrame(data = y_train_encoded, columns = [\"churn\"])\n",
        "print(y_train.head())\n",
        "\n",
        "# 3.3 y test encoder\n",
        "y_test_encoded = target_encoder.transform(y_test)\n",
        "y_test = pd.DataFrame(data = y_test_encoded, columns = ['churn'])\n",
        "print(y_test.head())"
      ],
      "metadata": {
        "colab": {
          "base_uri": "https://localhost:8080/"
        },
        "id": "5Q22wBZJmDSN",
        "outputId": "e40788f6-2946-4d33-8acb-3662602db759"
      },
      "execution_count": 17,
      "outputs": [
        {
          "output_type": "stream",
          "name": "stdout",
          "text": [
            "['No' 'Sí']\n",
            "   churn\n",
            "0      0\n",
            "1      0\n",
            "2      0\n",
            "3      0\n",
            "4      1\n",
            "   churn\n",
            "0      0\n",
            "1      0\n",
            "2      0\n",
            "3      0\n",
            "4      0\n"
          ]
        }
      ]
    },
    {
      "cell_type": "markdown",
      "source": [
        "### 2.6 - Numerical Pipeline"
      ],
      "metadata": {
        "id": "T_PMaekImZH1"
      }
    },
    {
      "cell_type": "code",
      "source": [
        "# In this case, don't required"
      ],
      "metadata": {
        "id": "JILBgXpzmj42"
      },
      "execution_count": null,
      "outputs": []
    },
    {
      "cell_type": "markdown",
      "source": [
        "### 2.7 - Ordinal Pipeline"
      ],
      "metadata": {
        "id": "vBmKDjRhmhZO"
      }
    },
    {
      "cell_type": "code",
      "source": [
        "# In this case, don't required"
      ],
      "metadata": {
        "id": "PFbE_Uj1mjnd"
      },
      "execution_count": null,
      "outputs": []
    },
    {
      "cell_type": "markdown",
      "source": [
        "### 2.8 - Nominal Pipeline"
      ],
      "metadata": {
        "id": "ID6SEWbgmyyl"
      }
    },
    {
      "cell_type": "code",
      "source": [
        "# Nominal pipeline: one-hot-encoding\n",
        "\n",
        "nominal_pipeline = make_pipeline(\n",
        "    # 1. Nominal encoder\n",
        "    OneHotEncoder(categories = \"auto\",\n",
        "                  drop = \"first\", # \"first\" or \"None\", Specifies a methodology to use to drop one of the categories per feature\n",
        "                  sparse_output = False,\n",
        "                  dtype = \"float\", # Desired dtype of output\n",
        "                  handle_unknown = 'infrequent_if_exist',\n",
        "                  min_frequency = 0.03,\n",
        "                  max_categories = 30),\n",
        ")\n",
        "\n",
        "nominal_pipeline"
      ],
      "metadata": {
        "colab": {
          "base_uri": "https://localhost:8080/",
          "height": 92
        },
        "id": "4fqcseyXmx3t",
        "outputId": "b79e803e-da9d-4f25-8c0a-3bae824f6f7c"
      },
      "execution_count": 18,
      "outputs": [
        {
          "output_type": "execute_result",
          "data": {
            "text/plain": [
              "Pipeline(steps=[('onehotencoder',\n",
              "                 OneHotEncoder(drop='first', dtype='float',\n",
              "                               handle_unknown='infrequent_if_exist',\n",
              "                               max_categories=30, min_frequency=0.03,\n",
              "                               sparse_output=False))])"
            ],
            "text/html": [
              "<style>#sk-container-id-1 {color: black;background-color: white;}#sk-container-id-1 pre{padding: 0;}#sk-container-id-1 div.sk-toggleable {background-color: white;}#sk-container-id-1 label.sk-toggleable__label {cursor: pointer;display: block;width: 100%;margin-bottom: 0;padding: 0.3em;box-sizing: border-box;text-align: center;}#sk-container-id-1 label.sk-toggleable__label-arrow:before {content: \"▸\";float: left;margin-right: 0.25em;color: #696969;}#sk-container-id-1 label.sk-toggleable__label-arrow:hover:before {color: black;}#sk-container-id-1 div.sk-estimator:hover label.sk-toggleable__label-arrow:before {color: black;}#sk-container-id-1 div.sk-toggleable__content {max-height: 0;max-width: 0;overflow: hidden;text-align: left;background-color: #f0f8ff;}#sk-container-id-1 div.sk-toggleable__content pre {margin: 0.2em;color: black;border-radius: 0.25em;background-color: #f0f8ff;}#sk-container-id-1 input.sk-toggleable__control:checked~div.sk-toggleable__content {max-height: 200px;max-width: 100%;overflow: auto;}#sk-container-id-1 input.sk-toggleable__control:checked~label.sk-toggleable__label-arrow:before {content: \"▾\";}#sk-container-id-1 div.sk-estimator input.sk-toggleable__control:checked~label.sk-toggleable__label {background-color: #d4ebff;}#sk-container-id-1 div.sk-label input.sk-toggleable__control:checked~label.sk-toggleable__label {background-color: #d4ebff;}#sk-container-id-1 input.sk-hidden--visually {border: 0;clip: rect(1px 1px 1px 1px);clip: rect(1px, 1px, 1px, 1px);height: 1px;margin: -1px;overflow: hidden;padding: 0;position: absolute;width: 1px;}#sk-container-id-1 div.sk-estimator {font-family: monospace;background-color: #f0f8ff;border: 1px dotted black;border-radius: 0.25em;box-sizing: border-box;margin-bottom: 0.5em;}#sk-container-id-1 div.sk-estimator:hover {background-color: #d4ebff;}#sk-container-id-1 div.sk-parallel-item::after {content: \"\";width: 100%;border-bottom: 1px solid gray;flex-grow: 1;}#sk-container-id-1 div.sk-label:hover label.sk-toggleable__label {background-color: #d4ebff;}#sk-container-id-1 div.sk-serial::before {content: \"\";position: absolute;border-left: 1px solid gray;box-sizing: border-box;top: 0;bottom: 0;left: 50%;z-index: 0;}#sk-container-id-1 div.sk-serial {display: flex;flex-direction: column;align-items: center;background-color: white;padding-right: 0.2em;padding-left: 0.2em;position: relative;}#sk-container-id-1 div.sk-item {position: relative;z-index: 1;}#sk-container-id-1 div.sk-parallel {display: flex;align-items: stretch;justify-content: center;background-color: white;position: relative;}#sk-container-id-1 div.sk-item::before, #sk-container-id-1 div.sk-parallel-item::before {content: \"\";position: absolute;border-left: 1px solid gray;box-sizing: border-box;top: 0;bottom: 0;left: 50%;z-index: -1;}#sk-container-id-1 div.sk-parallel-item {display: flex;flex-direction: column;z-index: 1;position: relative;background-color: white;}#sk-container-id-1 div.sk-parallel-item:first-child::after {align-self: flex-end;width: 50%;}#sk-container-id-1 div.sk-parallel-item:last-child::after {align-self: flex-start;width: 50%;}#sk-container-id-1 div.sk-parallel-item:only-child::after {width: 0;}#sk-container-id-1 div.sk-dashed-wrapped {border: 1px dashed gray;margin: 0 0.4em 0.5em 0.4em;box-sizing: border-box;padding-bottom: 0.4em;background-color: white;}#sk-container-id-1 div.sk-label label {font-family: monospace;font-weight: bold;display: inline-block;line-height: 1.2em;}#sk-container-id-1 div.sk-label-container {text-align: center;}#sk-container-id-1 div.sk-container {/* jupyter's `normalize.less` sets `[hidden] { display: none; }` but bootstrap.min.css set `[hidden] { display: none !important; }` so we also need the `!important` here to be able to override the default hidden behavior on the sphinx rendered scikit-learn.org. See: https://github.com/scikit-learn/scikit-learn/issues/21755 */display: inline-block !important;position: relative;}#sk-container-id-1 div.sk-text-repr-fallback {display: none;}</style><div id=\"sk-container-id-1\" class=\"sk-top-container\"><div class=\"sk-text-repr-fallback\"><pre>Pipeline(steps=[(&#x27;onehotencoder&#x27;,\n",
              "                 OneHotEncoder(drop=&#x27;first&#x27;, dtype=&#x27;float&#x27;,\n",
              "                               handle_unknown=&#x27;infrequent_if_exist&#x27;,\n",
              "                               max_categories=30, min_frequency=0.03,\n",
              "                               sparse_output=False))])</pre><b>In a Jupyter environment, please rerun this cell to show the HTML representation or trust the notebook. <br />On GitHub, the HTML representation is unable to render, please try loading this page with nbviewer.org.</b></div><div class=\"sk-container\" hidden><div class=\"sk-item sk-dashed-wrapped\"><div class=\"sk-label-container\"><div class=\"sk-label sk-toggleable\"><input class=\"sk-toggleable__control sk-hidden--visually\" id=\"sk-estimator-id-1\" type=\"checkbox\" ><label for=\"sk-estimator-id-1\" class=\"sk-toggleable__label sk-toggleable__label-arrow\">Pipeline</label><div class=\"sk-toggleable__content\"><pre>Pipeline(steps=[(&#x27;onehotencoder&#x27;,\n",
              "                 OneHotEncoder(drop=&#x27;first&#x27;, dtype=&#x27;float&#x27;,\n",
              "                               handle_unknown=&#x27;infrequent_if_exist&#x27;,\n",
              "                               max_categories=30, min_frequency=0.03,\n",
              "                               sparse_output=False))])</pre></div></div></div><div class=\"sk-serial\"><div class=\"sk-item\"><div class=\"sk-estimator sk-toggleable\"><input class=\"sk-toggleable__control sk-hidden--visually\" id=\"sk-estimator-id-2\" type=\"checkbox\" ><label for=\"sk-estimator-id-2\" class=\"sk-toggleable__label sk-toggleable__label-arrow\">OneHotEncoder</label><div class=\"sk-toggleable__content\"><pre>OneHotEncoder(drop=&#x27;first&#x27;, dtype=&#x27;float&#x27;, handle_unknown=&#x27;infrequent_if_exist&#x27;,\n",
              "              max_categories=30, min_frequency=0.03, sparse_output=False)</pre></div></div></div></div></div></div></div>"
            ]
          },
          "metadata": {},
          "execution_count": 18
        }
      ]
    },
    {
      "cell_type": "markdown",
      "source": [
        "### 2.9 - Transformers"
      ],
      "metadata": {
        "id": "JwkpX6R_nVwx"
      }
    },
    {
      "cell_type": "code",
      "source": [
        "# 1 Combine ordinal and nominal pipelines\n",
        "transformations = ColumnTransformer(\n",
        "    transformers=[(\"numerical\", \"passthrough\", numerical_vars), # No transformation required for numerical variables\n",
        "                  # (\"ordinal\", ordinal_pipeline, ordinal_vars), # No ordinal data\n",
        "                  (\"nominal\", nominal_pipeline, nominal_vars)],\n",
        "    #remainder = 'passthrough'\n",
        ")"
      ],
      "metadata": {
        "id": "r3R4IeL0nYMs"
      },
      "execution_count": 19,
      "outputs": []
    },
    {
      "cell_type": "markdown",
      "source": [
        "### 2.10 - Full pipeline"
      ],
      "metadata": {
        "id": "EsO9z299nvEt"
      }
    },
    {
      "cell_type": "markdown",
      "source": [
        "#### Imbalance sampling methods"
      ],
      "metadata": {
        "id": "gOLQXc7s2roB"
      }
    },
    {
      "cell_type": "markdown",
      "source": [
        "##### Class imbalance ratio"
      ],
      "metadata": {
        "id": "wsg-E4tpMyKY"
      }
    },
    {
      "cell_type": "code",
      "source": [
        "# Calculate the class imbalance ratio based on  XGBoostClassifier\n",
        "# https://xgboost.readthedocs.io/en/stable/tutorials/param_tuning.html\n",
        "positive_samples = sum(y_train.loc[:, 'churn'] == 1)\n",
        "negative_samples = sum(y_train.loc[:, 'churn'] == 0)\n",
        "imbalance_ratio = (negative_samples / positive_samples)"
      ],
      "metadata": {
        "id": "Aae6wQhxK_H2"
      },
      "execution_count": 20,
      "outputs": []
    },
    {
      "cell_type": "markdown",
      "source": [
        "##### Oversampling - SMOTE"
      ],
      "metadata": {
        "id": "HU-F8qtnYzqZ"
      }
    },
    {
      "cell_type": "code",
      "source": [
        "# As part of the experimentation cycle, in section 1 - Load data, dropnas operation is applied to the entire dataset\n",
        "# Synthetic Minority Over-sampling Technique for Nominal and Continuous\n",
        "smotenc = SMOTENC(categorical_features = nominal_vars, sampling_strategy = 'auto', random_state = 123456)\n",
        "X_train_over, y_train_over = smotenc.fit_resample(X_train, y_train)\n",
        "\n",
        "y_train_over.value_counts()\n",
        "\n",
        "# SMOTE(sampling_strategy = 'auto', random_state = 123456) # Only numerical data\n",
        "#X_train_deep_over, y_train_deep_over = smote.fit_resample(X_train_deep, y_train)"
      ],
      "metadata": {
        "id": "ZondIjR9Y5lR"
      },
      "execution_count": null,
      "outputs": []
    },
    {
      "cell_type": "markdown",
      "source": [
        "##### Undersampling - ENN"
      ],
      "metadata": {
        "id": "5CeTPoGFiObF"
      }
    },
    {
      "cell_type": "code",
      "source": [
        "# Undersample based on the edited nearest neighbour method.\n",
        "# This method will clean the database by removing samples close to the decision boundary.\n",
        "# Only numerical data.\n",
        "enn = EditedNearestNeighbours()\n",
        "X_train_deep_under, y_train_deep_under = enn.fit_resample(X_train_deep, y_train)\n",
        "\n",
        "print(X_train_deep_under.shape, y_train_deep_under.shape)"
      ],
      "metadata": {
        "id": "p0tqvi-xkF4E",
        "colab": {
          "base_uri": "https://localhost:8080/"
        },
        "outputId": "d4281f50-b857-449e-87da-850e107a03ea"
      },
      "execution_count": null,
      "outputs": [
        {
          "output_type": "stream",
          "name": "stdout",
          "text": [
            "(436646, 55) (436646, 1)\n"
          ]
        }
      ]
    },
    {
      "cell_type": "code",
      "source": [
        "y_train_deep_under.value_counts()"
      ],
      "metadata": {
        "id": "lAi7lGuwpp0H",
        "outputId": "7efcf2fe-b676-4bd9-9d09-b703e22f5db6",
        "colab": {
          "base_uri": "https://localhost:8080/"
        }
      },
      "execution_count": null,
      "outputs": [
        {
          "output_type": "execute_result",
          "data": {
            "text/plain": [
              "churn\n",
              "0        420854\n",
              "1         15792\n",
              "dtype: int64"
            ]
          },
          "metadata": {},
          "execution_count": 102
        }
      ]
    },
    {
      "cell_type": "markdown",
      "source": [
        "##### Over-under-sampling - SMOTEENN"
      ],
      "metadata": {
        "id": "ks3VP5hwjoTc"
      }
    },
    {
      "cell_type": "code",
      "source": [
        "# Over-sampling using SMOTE and cleaning using ENN.\n",
        "# Combine over- and under-sampling using SMOTE and Edited Nearest Neighbours.\n",
        "# Only numerical data.\n",
        "sme = SMOTEENN(random_state = 123456)\n",
        "X_train_comb, y_train_comb = sme.fit_resample(X_train_deep, y_train)\n",
        "\n",
        "print(X_train_comb.shape, X_train_comb.shape)\n",
        "y_train_comb.value_counts()"
      ],
      "metadata": {
        "id": "9fY-8JREmxP7",
        "colab": {
          "base_uri": "https://localhost:8080/"
        },
        "outputId": "08ff9593-4b1d-45e2-8c18-b1c50a53ab05"
      },
      "execution_count": null,
      "outputs": [
        {
          "output_type": "execute_result",
          "data": {
            "text/plain": [
              "churn\n",
              "1        460553\n",
              "0        342155\n",
              "dtype: int64"
            ]
          },
          "metadata": {},
          "execution_count": 109
        }
      ]
    },
    {
      "cell_type": "markdown",
      "source": [
        "##### Imbalanced learn pipeline"
      ],
      "metadata": {
        "id": "hNUpxBIj1yuE"
      }
    },
    {
      "cell_type": "markdown",
      "source": [
        "Pipeline constructor to apply under-sampling ENN and combine over-under-sampling SMOTEENN."
      ],
      "metadata": {
        "id": "qt_ti55K15R6"
      }
    },
    {
      "cell_type": "code",
      "source": [
        "# Imbalance learn pipelien\n",
        "\n",
        "\n",
        "# a) Nominal pipeline\n",
        "nominal_pipeline = make_pipeline(\n",
        "    # 1. Nominal encoder\n",
        "    OneHotEncoder(categories = \"auto\",\n",
        "                  drop = \"first\", # \"first\" or \"None\", Specifies a methodology to use to drop one of the categories per feature\n",
        "                  sparse_output = False,\n",
        "                  dtype = \"float\", # Desired dtype of output\n",
        "                  handle_unknown = 'infrequent_if_exist',\n",
        "                  min_frequency = 0.03,\n",
        "                  max_categories = 30)\n",
        ")\n",
        "\n",
        "# b) Ordinal pipeline\n",
        "\"\"\"\n",
        "ordinal_pipeline = make_pipeline(\n",
        "    # 1. Ordinal encoder, if neccesary more steps, aggregate them inside pipeline\n",
        "    OrdinalEncoder(categories = [[\"Entre 2 meses y 6 meses\", \"Entre 7 meses y 1 año\", \"Entre 1 y 2 años\", \"Más de 2 años\"],\n",
        "                                 [\"De 18 a 25 años\", \"De 26 a 35 años\", \"De 36 a 45 años\", \"De 46 a 55 años\", \"De 56 a 65 años\", \"Más de 66\"]],\n",
        "                   dtype = 'float',\n",
        "                   handle_unknown = 'use_encoded_value',\n",
        "                   unknown_value = np.nan,\n",
        "                   encoded_missing_value = np.nan),\n",
        ")\n",
        "\"\"\"\n",
        "\n",
        "# c) Categorical transformations\n",
        "transformations = ColumnTransformer(\n",
        "    transformers=[(\"numerical\", \"passthrough\", numerical_vars), # No transformation required for numerical variables\n",
        "                  # (\"ordinal\", ordinal_pipeline, ordinal_vars), # No ordinal data\n",
        "                  (\"nominal\", nominal_pipeline, nominal_vars)],\n",
        "    #remainder = 'passthrough'\n",
        ")\n",
        "\n",
        "\n",
        "# d) Pipeline to use imbalanced learn function\n",
        "sampling_pipeline = make_pipeline(\n",
        "    # 1. Numerical and categorical (nominal + ordinal) transformers\n",
        "    transformations,\n",
        "\n",
        "    # 2. Impute missing values\n",
        "    IterativeImputer(estimator = BayesianRidge(),\n",
        "                     max_iter = 10,\n",
        "                     random_state = 123456),\n",
        "\n",
        ")\n",
        "\n",
        "sampling_pipeline"
      ],
      "metadata": {
        "colab": {
          "base_uri": "https://localhost:8080/",
          "height": 258
        },
        "id": "Zs2XQ-LIzehs",
        "outputId": "a4cd8a9d-3318-4fe3-fca5-36f9c2ae537a"
      },
      "execution_count": null,
      "outputs": [
        {
          "output_type": "execute_result",
          "data": {
            "text/plain": [
              "Pipeline(steps=[('columntransformer',\n",
              "                 ColumnTransformer(transformers=[('numerical', 'passthrough',\n",
              "                                                  ['cant_sem_datos',\n",
              "                                                   'prom_gb_tt', 'prom_gb_ran',\n",
              "                                                   'prom_%_propia',\n",
              "                                                   'continuidad_traf',\n",
              "                                                   'variacion_datos_8s',\n",
              "                                                   'cons_ult_sem', 'contrafico',\n",
              "                                                   'mean_minutos_voz_in',\n",
              "                                                   'mean_llamadas_in',\n",
              "                                                   'mean_llamadas_in_num_dif',\n",
              "                                                   'mean_porcent_llamadas_fallidas_in',\n",
              "                                                   'mean_porcent_minutos...\n",
              "                                                   'var_minutos_out_8sem',\n",
              "                                                   'var_llamadas_out_8sem', ...]),\n",
              "                                                 ('nominal',\n",
              "                                                  Pipeline(steps=[('onehotencoder',\n",
              "                                                                   OneHotEncoder(drop='first',\n",
              "                                                                                 dtype='float',\n",
              "                                                                                 handle_unknown='infrequent_if_exist',\n",
              "                                                                                 max_categories=30,\n",
              "                                                                                 min_frequency=0.03,\n",
              "                                                                                 sparse_output=False))]),\n",
              "                                                  ['canal', 'region', 'bandas',\n",
              "                                                   'tipo_gross_adds'])])),\n",
              "                ('iterativeimputer',\n",
              "                 IterativeImputer(estimator=BayesianRidge(),\n",
              "                                  random_state=123456))])"
            ],
            "text/html": [
              "<style>#sk-container-id-113 {color: black;background-color: white;}#sk-container-id-113 pre{padding: 0;}#sk-container-id-113 div.sk-toggleable {background-color: white;}#sk-container-id-113 label.sk-toggleable__label {cursor: pointer;display: block;width: 100%;margin-bottom: 0;padding: 0.3em;box-sizing: border-box;text-align: center;}#sk-container-id-113 label.sk-toggleable__label-arrow:before {content: \"▸\";float: left;margin-right: 0.25em;color: #696969;}#sk-container-id-113 label.sk-toggleable__label-arrow:hover:before {color: black;}#sk-container-id-113 div.sk-estimator:hover label.sk-toggleable__label-arrow:before {color: black;}#sk-container-id-113 div.sk-toggleable__content {max-height: 0;max-width: 0;overflow: hidden;text-align: left;background-color: #f0f8ff;}#sk-container-id-113 div.sk-toggleable__content pre {margin: 0.2em;color: black;border-radius: 0.25em;background-color: #f0f8ff;}#sk-container-id-113 input.sk-toggleable__control:checked~div.sk-toggleable__content {max-height: 200px;max-width: 100%;overflow: auto;}#sk-container-id-113 input.sk-toggleable__control:checked~label.sk-toggleable__label-arrow:before {content: \"▾\";}#sk-container-id-113 div.sk-estimator input.sk-toggleable__control:checked~label.sk-toggleable__label {background-color: #d4ebff;}#sk-container-id-113 div.sk-label input.sk-toggleable__control:checked~label.sk-toggleable__label {background-color: #d4ebff;}#sk-container-id-113 input.sk-hidden--visually {border: 0;clip: rect(1px 1px 1px 1px);clip: rect(1px, 1px, 1px, 1px);height: 1px;margin: -1px;overflow: hidden;padding: 0;position: absolute;width: 1px;}#sk-container-id-113 div.sk-estimator {font-family: monospace;background-color: #f0f8ff;border: 1px dotted black;border-radius: 0.25em;box-sizing: border-box;margin-bottom: 0.5em;}#sk-container-id-113 div.sk-estimator:hover {background-color: #d4ebff;}#sk-container-id-113 div.sk-parallel-item::after {content: \"\";width: 100%;border-bottom: 1px solid gray;flex-grow: 1;}#sk-container-id-113 div.sk-label:hover label.sk-toggleable__label {background-color: #d4ebff;}#sk-container-id-113 div.sk-serial::before {content: \"\";position: absolute;border-left: 1px solid gray;box-sizing: border-box;top: 0;bottom: 0;left: 50%;z-index: 0;}#sk-container-id-113 div.sk-serial {display: flex;flex-direction: column;align-items: center;background-color: white;padding-right: 0.2em;padding-left: 0.2em;position: relative;}#sk-container-id-113 div.sk-item {position: relative;z-index: 1;}#sk-container-id-113 div.sk-parallel {display: flex;align-items: stretch;justify-content: center;background-color: white;position: relative;}#sk-container-id-113 div.sk-item::before, #sk-container-id-113 div.sk-parallel-item::before {content: \"\";position: absolute;border-left: 1px solid gray;box-sizing: border-box;top: 0;bottom: 0;left: 50%;z-index: -1;}#sk-container-id-113 div.sk-parallel-item {display: flex;flex-direction: column;z-index: 1;position: relative;background-color: white;}#sk-container-id-113 div.sk-parallel-item:first-child::after {align-self: flex-end;width: 50%;}#sk-container-id-113 div.sk-parallel-item:last-child::after {align-self: flex-start;width: 50%;}#sk-container-id-113 div.sk-parallel-item:only-child::after {width: 0;}#sk-container-id-113 div.sk-dashed-wrapped {border: 1px dashed gray;margin: 0 0.4em 0.5em 0.4em;box-sizing: border-box;padding-bottom: 0.4em;background-color: white;}#sk-container-id-113 div.sk-label label {font-family: monospace;font-weight: bold;display: inline-block;line-height: 1.2em;}#sk-container-id-113 div.sk-label-container {text-align: center;}#sk-container-id-113 div.sk-container {/* jupyter's `normalize.less` sets `[hidden] { display: none; }` but bootstrap.min.css set `[hidden] { display: none !important; }` so we also need the `!important` here to be able to override the default hidden behavior on the sphinx rendered scikit-learn.org. See: https://github.com/scikit-learn/scikit-learn/issues/21755 */display: inline-block !important;position: relative;}#sk-container-id-113 div.sk-text-repr-fallback {display: none;}</style><div id=\"sk-container-id-113\" class=\"sk-top-container\"><div class=\"sk-text-repr-fallback\"><pre>Pipeline(steps=[(&#x27;columntransformer&#x27;,\n",
              "                 ColumnTransformer(transformers=[(&#x27;numerical&#x27;, &#x27;passthrough&#x27;,\n",
              "                                                  [&#x27;cant_sem_datos&#x27;,\n",
              "                                                   &#x27;prom_gb_tt&#x27;, &#x27;prom_gb_ran&#x27;,\n",
              "                                                   &#x27;prom_%_propia&#x27;,\n",
              "                                                   &#x27;continuidad_traf&#x27;,\n",
              "                                                   &#x27;variacion_datos_8s&#x27;,\n",
              "                                                   &#x27;cons_ult_sem&#x27;, &#x27;contrafico&#x27;,\n",
              "                                                   &#x27;mean_minutos_voz_in&#x27;,\n",
              "                                                   &#x27;mean_llamadas_in&#x27;,\n",
              "                                                   &#x27;mean_llamadas_in_num_dif&#x27;,\n",
              "                                                   &#x27;mean_porcent_llamadas_fallidas_in&#x27;,\n",
              "                                                   &#x27;mean_porcent_minutos...\n",
              "                                                   &#x27;var_minutos_out_8sem&#x27;,\n",
              "                                                   &#x27;var_llamadas_out_8sem&#x27;, ...]),\n",
              "                                                 (&#x27;nominal&#x27;,\n",
              "                                                  Pipeline(steps=[(&#x27;onehotencoder&#x27;,\n",
              "                                                                   OneHotEncoder(drop=&#x27;first&#x27;,\n",
              "                                                                                 dtype=&#x27;float&#x27;,\n",
              "                                                                                 handle_unknown=&#x27;infrequent_if_exist&#x27;,\n",
              "                                                                                 max_categories=30,\n",
              "                                                                                 min_frequency=0.03,\n",
              "                                                                                 sparse_output=False))]),\n",
              "                                                  [&#x27;canal&#x27;, &#x27;region&#x27;, &#x27;bandas&#x27;,\n",
              "                                                   &#x27;tipo_gross_adds&#x27;])])),\n",
              "                (&#x27;iterativeimputer&#x27;,\n",
              "                 IterativeImputer(estimator=BayesianRidge(),\n",
              "                                  random_state=123456))])</pre><b>In a Jupyter environment, please rerun this cell to show the HTML representation or trust the notebook. <br />On GitHub, the HTML representation is unable to render, please try loading this page with nbviewer.org.</b></div><div class=\"sk-container\" hidden><div class=\"sk-item sk-dashed-wrapped\"><div class=\"sk-label-container\"><div class=\"sk-label sk-toggleable\"><input class=\"sk-toggleable__control sk-hidden--visually\" id=\"sk-estimator-id-251\" type=\"checkbox\" ><label for=\"sk-estimator-id-251\" class=\"sk-toggleable__label sk-toggleable__label-arrow\">Pipeline</label><div class=\"sk-toggleable__content\"><pre>Pipeline(steps=[(&#x27;columntransformer&#x27;,\n",
              "                 ColumnTransformer(transformers=[(&#x27;numerical&#x27;, &#x27;passthrough&#x27;,\n",
              "                                                  [&#x27;cant_sem_datos&#x27;,\n",
              "                                                   &#x27;prom_gb_tt&#x27;, &#x27;prom_gb_ran&#x27;,\n",
              "                                                   &#x27;prom_%_propia&#x27;,\n",
              "                                                   &#x27;continuidad_traf&#x27;,\n",
              "                                                   &#x27;variacion_datos_8s&#x27;,\n",
              "                                                   &#x27;cons_ult_sem&#x27;, &#x27;contrafico&#x27;,\n",
              "                                                   &#x27;mean_minutos_voz_in&#x27;,\n",
              "                                                   &#x27;mean_llamadas_in&#x27;,\n",
              "                                                   &#x27;mean_llamadas_in_num_dif&#x27;,\n",
              "                                                   &#x27;mean_porcent_llamadas_fallidas_in&#x27;,\n",
              "                                                   &#x27;mean_porcent_minutos...\n",
              "                                                   &#x27;var_minutos_out_8sem&#x27;,\n",
              "                                                   &#x27;var_llamadas_out_8sem&#x27;, ...]),\n",
              "                                                 (&#x27;nominal&#x27;,\n",
              "                                                  Pipeline(steps=[(&#x27;onehotencoder&#x27;,\n",
              "                                                                   OneHotEncoder(drop=&#x27;first&#x27;,\n",
              "                                                                                 dtype=&#x27;float&#x27;,\n",
              "                                                                                 handle_unknown=&#x27;infrequent_if_exist&#x27;,\n",
              "                                                                                 max_categories=30,\n",
              "                                                                                 min_frequency=0.03,\n",
              "                                                                                 sparse_output=False))]),\n",
              "                                                  [&#x27;canal&#x27;, &#x27;region&#x27;, &#x27;bandas&#x27;,\n",
              "                                                   &#x27;tipo_gross_adds&#x27;])])),\n",
              "                (&#x27;iterativeimputer&#x27;,\n",
              "                 IterativeImputer(estimator=BayesianRidge(),\n",
              "                                  random_state=123456))])</pre></div></div></div><div class=\"sk-serial\"><div class=\"sk-item sk-dashed-wrapped\"><div class=\"sk-label-container\"><div class=\"sk-label sk-toggleable\"><input class=\"sk-toggleable__control sk-hidden--visually\" id=\"sk-estimator-id-252\" type=\"checkbox\" ><label for=\"sk-estimator-id-252\" class=\"sk-toggleable__label sk-toggleable__label-arrow\">columntransformer: ColumnTransformer</label><div class=\"sk-toggleable__content\"><pre>ColumnTransformer(transformers=[(&#x27;numerical&#x27;, &#x27;passthrough&#x27;,\n",
              "                                 [&#x27;cant_sem_datos&#x27;, &#x27;prom_gb_tt&#x27;, &#x27;prom_gb_ran&#x27;,\n",
              "                                  &#x27;prom_%_propia&#x27;, &#x27;continuidad_traf&#x27;,\n",
              "                                  &#x27;variacion_datos_8s&#x27;, &#x27;cons_ult_sem&#x27;,\n",
              "                                  &#x27;contrafico&#x27;, &#x27;mean_minutos_voz_in&#x27;,\n",
              "                                  &#x27;mean_llamadas_in&#x27;,\n",
              "                                  &#x27;mean_llamadas_in_num_dif&#x27;,\n",
              "                                  &#x27;mean_porcent_llamadas_fallidas_in&#x27;,\n",
              "                                  &#x27;mean_porcent_minutos_origen_wom&#x27;,\n",
              "                                  &#x27;mean_porcent_minutos_or...\n",
              "                                  &#x27;mean_porcent_minutos_otros_out&#x27;,\n",
              "                                  &#x27;var_minutos_out_4sem&#x27;,\n",
              "                                  &#x27;var_llamadas_out_4sem&#x27;,\n",
              "                                  &#x27;var_minutos_out_8sem&#x27;,\n",
              "                                  &#x27;var_llamadas_out_8sem&#x27;, ...]),\n",
              "                                (&#x27;nominal&#x27;,\n",
              "                                 Pipeline(steps=[(&#x27;onehotencoder&#x27;,\n",
              "                                                  OneHotEncoder(drop=&#x27;first&#x27;,\n",
              "                                                                dtype=&#x27;float&#x27;,\n",
              "                                                                handle_unknown=&#x27;infrequent_if_exist&#x27;,\n",
              "                                                                max_categories=30,\n",
              "                                                                min_frequency=0.03,\n",
              "                                                                sparse_output=False))]),\n",
              "                                 [&#x27;canal&#x27;, &#x27;region&#x27;, &#x27;bandas&#x27;,\n",
              "                                  &#x27;tipo_gross_adds&#x27;])])</pre></div></div></div><div class=\"sk-parallel\"><div class=\"sk-parallel-item\"><div class=\"sk-item\"><div class=\"sk-label-container\"><div class=\"sk-label sk-toggleable\"><input class=\"sk-toggleable__control sk-hidden--visually\" id=\"sk-estimator-id-253\" type=\"checkbox\" ><label for=\"sk-estimator-id-253\" class=\"sk-toggleable__label sk-toggleable__label-arrow\">numerical</label><div class=\"sk-toggleable__content\"><pre>[&#x27;cant_sem_datos&#x27;, &#x27;prom_gb_tt&#x27;, &#x27;prom_gb_ran&#x27;, &#x27;prom_%_propia&#x27;, &#x27;continuidad_traf&#x27;, &#x27;variacion_datos_8s&#x27;, &#x27;cons_ult_sem&#x27;, &#x27;contrafico&#x27;, &#x27;mean_minutos_voz_in&#x27;, &#x27;mean_llamadas_in&#x27;, &#x27;mean_llamadas_in_num_dif&#x27;, &#x27;mean_porcent_llamadas_fallidas_in&#x27;, &#x27;mean_porcent_minutos_origen_wom&#x27;, &#x27;mean_porcent_minutos_origen_otros&#x27;, &#x27;var_minutos_in_4sem&#x27;, &#x27;var_llamadas_in_4sem&#x27;, &#x27;var_minutos_in_8sem&#x27;, &#x27;var_llamadas_in_8sem&#x27;, &#x27;mean_minutos_voz_out&#x27;, &#x27;mean_llamadas_out&#x27;, &#x27;mean_llamadas_out_num_dif&#x27;, &#x27;mean_porcent_minutos_ran_out&#x27;, &#x27;mean_porcent_minutos_volte_out&#x27;, &#x27;mean_porcent_llamadas_fallidas_out&#x27;, &#x27;mean_porcent_minutos_wom_out&#x27;, &#x27;mean_porcent_minutos_otros_out&#x27;, &#x27;var_minutos_out_4sem&#x27;, &#x27;var_llamadas_out_4sem&#x27;, &#x27;var_minutos_out_8sem&#x27;, &#x27;var_llamadas_out_8sem&#x27;, &#x27;lineas_cliente&#x27;, &#x27;semanas_antiguedad&#x27;, &#x27;semanas_contactos_pqr&#x27;, &#x27;contactos_ult_semana_pqr&#x27;, &#x27;seg_llamadas_ofertas_ult_semana&#x27;, &#x27;var_seg_llamadas_ofertas_4_semanas&#x27;, &#x27;porc_descuento_activo&#x27;, &#x27;jineteo&#x27;]</pre></div></div></div><div class=\"sk-serial\"><div class=\"sk-item\"><div class=\"sk-estimator sk-toggleable\"><input class=\"sk-toggleable__control sk-hidden--visually\" id=\"sk-estimator-id-254\" type=\"checkbox\" ><label for=\"sk-estimator-id-254\" class=\"sk-toggleable__label sk-toggleable__label-arrow\">passthrough</label><div class=\"sk-toggleable__content\"><pre>passthrough</pre></div></div></div></div></div></div><div class=\"sk-parallel-item\"><div class=\"sk-item\"><div class=\"sk-label-container\"><div class=\"sk-label sk-toggleable\"><input class=\"sk-toggleable__control sk-hidden--visually\" id=\"sk-estimator-id-255\" type=\"checkbox\" ><label for=\"sk-estimator-id-255\" class=\"sk-toggleable__label sk-toggleable__label-arrow\">nominal</label><div class=\"sk-toggleable__content\"><pre>[&#x27;canal&#x27;, &#x27;region&#x27;, &#x27;bandas&#x27;, &#x27;tipo_gross_adds&#x27;]</pre></div></div></div><div class=\"sk-serial\"><div class=\"sk-item\"><div class=\"sk-serial\"><div class=\"sk-item\"><div class=\"sk-estimator sk-toggleable\"><input class=\"sk-toggleable__control sk-hidden--visually\" id=\"sk-estimator-id-256\" type=\"checkbox\" ><label for=\"sk-estimator-id-256\" class=\"sk-toggleable__label sk-toggleable__label-arrow\">OneHotEncoder</label><div class=\"sk-toggleable__content\"><pre>OneHotEncoder(drop=&#x27;first&#x27;, dtype=&#x27;float&#x27;, handle_unknown=&#x27;infrequent_if_exist&#x27;,\n",
              "              max_categories=30, min_frequency=0.03, sparse_output=False)</pre></div></div></div></div></div></div></div></div></div></div><div class=\"sk-item sk-dashed-wrapped\"><div class=\"sk-label-container\"><div class=\"sk-label sk-toggleable\"><input class=\"sk-toggleable__control sk-hidden--visually\" id=\"sk-estimator-id-257\" type=\"checkbox\" ><label for=\"sk-estimator-id-257\" class=\"sk-toggleable__label sk-toggleable__label-arrow\">iterativeimputer: IterativeImputer</label><div class=\"sk-toggleable__content\"><pre>IterativeImputer(estimator=BayesianRidge(), random_state=123456)</pre></div></div></div><div class=\"sk-parallel\"><div class=\"sk-parallel-item\"><div class=\"sk-item\"><div class=\"sk-label-container\"><div class=\"sk-label sk-toggleable\"><input class=\"sk-toggleable__control sk-hidden--visually\" id=\"sk-estimator-id-258\" type=\"checkbox\" ><label for=\"sk-estimator-id-258\" class=\"sk-toggleable__label sk-toggleable__label-arrow\">estimator: BayesianRidge</label><div class=\"sk-toggleable__content\"><pre>BayesianRidge()</pre></div></div></div><div class=\"sk-serial\"><div class=\"sk-item\"><div class=\"sk-estimator sk-toggleable\"><input class=\"sk-toggleable__control sk-hidden--visually\" id=\"sk-estimator-id-259\" type=\"checkbox\" ><label for=\"sk-estimator-id-259\" class=\"sk-toggleable__label sk-toggleable__label-arrow\">BayesianRidge</label><div class=\"sk-toggleable__content\"><pre>BayesianRidge()</pre></div></div></div></div></div></div></div></div></div></div></div></div>"
            ]
          },
          "metadata": {},
          "execution_count": 62
        }
      ]
    },
    {
      "cell_type": "code",
      "source": [
        "X_train_under = sampling_pipeline.fit_transform(X_train)"
      ],
      "metadata": {
        "id": "GREoAQ_TalMt"
      },
      "execution_count": null,
      "outputs": []
    },
    {
      "cell_type": "markdown",
      "source": [
        "#### Final Full pipeline"
      ],
      "metadata": {
        "id": "FziH3pcSekJk"
      }
    },
    {
      "cell_type": "code",
      "source": [
        "# Full pipeline original\n",
        "\n",
        "full_pipeline = make_pipeline(\n",
        "    # 1. Numerical and categorical (nominal + ordinal) transformers\n",
        "    transformations,\n",
        "\n",
        "    # 2. Impute missing values\n",
        "    IterativeImputer(estimator = BayesianRidge(),\n",
        "                     max_iter = 10,\n",
        "                     random_state = 123456),\n",
        "\n",
        "    # 3. Feature selector that removes all low-variance features\n",
        "    VarianceThreshold(threshold = 0.1),\n",
        "\n",
        "    # 4. Imbalance sampling\n",
        "\n",
        "    # 5. Scale features\n",
        "    RobustScaler(with_centering = True,\n",
        "                 with_scaling = True,\n",
        "                 quantile_range = (25.0, 75.0),\n",
        "                 copy = True,\n",
        "                 unit_variance = False),\n",
        "\n",
        "    # 6. Transform features\n",
        "    PowerTransformer(method = 'yeo-johnson',\n",
        "                     standardize = True,\n",
        "                     copy = True),\n",
        "\n",
        "    # 7. Dimensionality reduction\n",
        "    PCA(n_components = 'mle'),\n",
        "    # UMAP(n_components = 5),\n",
        "\n",
        "    # 8. Feature selection: univariate feature selection ~ 50% of features\n",
        "    SelectKBest(score_func = f_classif, k = 20),\n",
        "\n",
        "    # 9. Classifier\n",
        "    lgb.LGBMClassifier(scale_pos_weight = imbalance_ratio, # Like in XGBoostClassifier\n",
        "                   colsample_bytree =  0.7211947114503046,\n",
        "                   learning_rate = 0.19556253301804158,\n",
        "                   max_depth = 7,\n",
        "                   min_child_samples = 71,\n",
        "                   min_child_weight = 0.2689381814201991,\n",
        "                   min_split_gain = 0.0018357730892767825,\n",
        "                   n_estimators = 139 ,\n",
        "                   num_leaves = 43,\n",
        "                   reg_alpha = 0.3102209158407799,\n",
        "                   reg_lambda = 0.11062167179280916,\n",
        "                   subsample = 0.8182872702293318),\n",
        "\n",
        "    # 10. Memory cache\n",
        "    memory = memory\n",
        ")\n",
        "\n",
        "full_pipeline"
      ],
      "metadata": {
        "colab": {
          "base_uri": "https://localhost:8080/",
          "height": 467
        },
        "id": "irJpmxN6Zjfd",
        "outputId": "e29b9b3b-c332-47d9-f3ab-9af679fb883c"
      },
      "execution_count": 48,
      "outputs": [
        {
          "output_type": "execute_result",
          "data": {
            "text/plain": [
              "Pipeline(memory=Memory(location=cachedir/joblib),\n",
              "         steps=[('columntransformer',\n",
              "                 ColumnTransformer(transformers=[('numerical', 'passthrough',\n",
              "                                                  ['cant_sem_datos',\n",
              "                                                   'prom_gb_tt', 'prom_gb_ran',\n",
              "                                                   'prom_%_propia',\n",
              "                                                   'continuidad_traf',\n",
              "                                                   'variacion_datos_8s',\n",
              "                                                   'cons_ult_sem', 'contrafico',\n",
              "                                                   'mean_minutos_voz_in',\n",
              "                                                   'mean_llamadas_in',\n",
              "                                                   'mean_llamadas_in_num_dif',\n",
              "                                                   'mean_porcent_lla...\n",
              "                 LGBMClassifier(colsample_bytree=0.7211947114503046,\n",
              "                                learning_rate=0.19556253301804158, max_depth=7,\n",
              "                                min_child_samples=71,\n",
              "                                min_child_weight=0.2689381814201991,\n",
              "                                min_split_gain=0.0018357730892767825,\n",
              "                                n_estimators=139, num_leaves=43,\n",
              "                                reg_alpha=0.3102209158407799,\n",
              "                                reg_lambda=0.11062167179280916,\n",
              "                                scale_pos_weight=29.175405268490376,\n",
              "                                subsample=0.8182872702293318))])"
            ],
            "text/html": [
              "<style>#sk-container-id-6 {color: black;background-color: white;}#sk-container-id-6 pre{padding: 0;}#sk-container-id-6 div.sk-toggleable {background-color: white;}#sk-container-id-6 label.sk-toggleable__label {cursor: pointer;display: block;width: 100%;margin-bottom: 0;padding: 0.3em;box-sizing: border-box;text-align: center;}#sk-container-id-6 label.sk-toggleable__label-arrow:before {content: \"▸\";float: left;margin-right: 0.25em;color: #696969;}#sk-container-id-6 label.sk-toggleable__label-arrow:hover:before {color: black;}#sk-container-id-6 div.sk-estimator:hover label.sk-toggleable__label-arrow:before {color: black;}#sk-container-id-6 div.sk-toggleable__content {max-height: 0;max-width: 0;overflow: hidden;text-align: left;background-color: #f0f8ff;}#sk-container-id-6 div.sk-toggleable__content pre {margin: 0.2em;color: black;border-radius: 0.25em;background-color: #f0f8ff;}#sk-container-id-6 input.sk-toggleable__control:checked~div.sk-toggleable__content {max-height: 200px;max-width: 100%;overflow: auto;}#sk-container-id-6 input.sk-toggleable__control:checked~label.sk-toggleable__label-arrow:before {content: \"▾\";}#sk-container-id-6 div.sk-estimator input.sk-toggleable__control:checked~label.sk-toggleable__label {background-color: #d4ebff;}#sk-container-id-6 div.sk-label input.sk-toggleable__control:checked~label.sk-toggleable__label {background-color: #d4ebff;}#sk-container-id-6 input.sk-hidden--visually {border: 0;clip: rect(1px 1px 1px 1px);clip: rect(1px, 1px, 1px, 1px);height: 1px;margin: -1px;overflow: hidden;padding: 0;position: absolute;width: 1px;}#sk-container-id-6 div.sk-estimator {font-family: monospace;background-color: #f0f8ff;border: 1px dotted black;border-radius: 0.25em;box-sizing: border-box;margin-bottom: 0.5em;}#sk-container-id-6 div.sk-estimator:hover {background-color: #d4ebff;}#sk-container-id-6 div.sk-parallel-item::after {content: \"\";width: 100%;border-bottom: 1px solid gray;flex-grow: 1;}#sk-container-id-6 div.sk-label:hover label.sk-toggleable__label {background-color: #d4ebff;}#sk-container-id-6 div.sk-serial::before {content: \"\";position: absolute;border-left: 1px solid gray;box-sizing: border-box;top: 0;bottom: 0;left: 50%;z-index: 0;}#sk-container-id-6 div.sk-serial {display: flex;flex-direction: column;align-items: center;background-color: white;padding-right: 0.2em;padding-left: 0.2em;position: relative;}#sk-container-id-6 div.sk-item {position: relative;z-index: 1;}#sk-container-id-6 div.sk-parallel {display: flex;align-items: stretch;justify-content: center;background-color: white;position: relative;}#sk-container-id-6 div.sk-item::before, #sk-container-id-6 div.sk-parallel-item::before {content: \"\";position: absolute;border-left: 1px solid gray;box-sizing: border-box;top: 0;bottom: 0;left: 50%;z-index: -1;}#sk-container-id-6 div.sk-parallel-item {display: flex;flex-direction: column;z-index: 1;position: relative;background-color: white;}#sk-container-id-6 div.sk-parallel-item:first-child::after {align-self: flex-end;width: 50%;}#sk-container-id-6 div.sk-parallel-item:last-child::after {align-self: flex-start;width: 50%;}#sk-container-id-6 div.sk-parallel-item:only-child::after {width: 0;}#sk-container-id-6 div.sk-dashed-wrapped {border: 1px dashed gray;margin: 0 0.4em 0.5em 0.4em;box-sizing: border-box;padding-bottom: 0.4em;background-color: white;}#sk-container-id-6 div.sk-label label {font-family: monospace;font-weight: bold;display: inline-block;line-height: 1.2em;}#sk-container-id-6 div.sk-label-container {text-align: center;}#sk-container-id-6 div.sk-container {/* jupyter's `normalize.less` sets `[hidden] { display: none; }` but bootstrap.min.css set `[hidden] { display: none !important; }` so we also need the `!important` here to be able to override the default hidden behavior on the sphinx rendered scikit-learn.org. See: https://github.com/scikit-learn/scikit-learn/issues/21755 */display: inline-block !important;position: relative;}#sk-container-id-6 div.sk-text-repr-fallback {display: none;}</style><div id=\"sk-container-id-6\" class=\"sk-top-container\"><div class=\"sk-text-repr-fallback\"><pre>Pipeline(memory=Memory(location=cachedir/joblib),\n",
              "         steps=[(&#x27;columntransformer&#x27;,\n",
              "                 ColumnTransformer(transformers=[(&#x27;numerical&#x27;, &#x27;passthrough&#x27;,\n",
              "                                                  [&#x27;cant_sem_datos&#x27;,\n",
              "                                                   &#x27;prom_gb_tt&#x27;, &#x27;prom_gb_ran&#x27;,\n",
              "                                                   &#x27;prom_%_propia&#x27;,\n",
              "                                                   &#x27;continuidad_traf&#x27;,\n",
              "                                                   &#x27;variacion_datos_8s&#x27;,\n",
              "                                                   &#x27;cons_ult_sem&#x27;, &#x27;contrafico&#x27;,\n",
              "                                                   &#x27;mean_minutos_voz_in&#x27;,\n",
              "                                                   &#x27;mean_llamadas_in&#x27;,\n",
              "                                                   &#x27;mean_llamadas_in_num_dif&#x27;,\n",
              "                                                   &#x27;mean_porcent_lla...\n",
              "                 LGBMClassifier(colsample_bytree=0.7211947114503046,\n",
              "                                learning_rate=0.19556253301804158, max_depth=7,\n",
              "                                min_child_samples=71,\n",
              "                                min_child_weight=0.2689381814201991,\n",
              "                                min_split_gain=0.0018357730892767825,\n",
              "                                n_estimators=139, num_leaves=43,\n",
              "                                reg_alpha=0.3102209158407799,\n",
              "                                reg_lambda=0.11062167179280916,\n",
              "                                scale_pos_weight=29.175405268490376,\n",
              "                                subsample=0.8182872702293318))])</pre><b>In a Jupyter environment, please rerun this cell to show the HTML representation or trust the notebook. <br />On GitHub, the HTML representation is unable to render, please try loading this page with nbviewer.org.</b></div><div class=\"sk-container\" hidden><div class=\"sk-item sk-dashed-wrapped\"><div class=\"sk-label-container\"><div class=\"sk-label sk-toggleable\"><input class=\"sk-toggleable__control sk-hidden--visually\" id=\"sk-estimator-id-24\" type=\"checkbox\" ><label for=\"sk-estimator-id-24\" class=\"sk-toggleable__label sk-toggleable__label-arrow\">Pipeline</label><div class=\"sk-toggleable__content\"><pre>Pipeline(memory=Memory(location=cachedir/joblib),\n",
              "         steps=[(&#x27;columntransformer&#x27;,\n",
              "                 ColumnTransformer(transformers=[(&#x27;numerical&#x27;, &#x27;passthrough&#x27;,\n",
              "                                                  [&#x27;cant_sem_datos&#x27;,\n",
              "                                                   &#x27;prom_gb_tt&#x27;, &#x27;prom_gb_ran&#x27;,\n",
              "                                                   &#x27;prom_%_propia&#x27;,\n",
              "                                                   &#x27;continuidad_traf&#x27;,\n",
              "                                                   &#x27;variacion_datos_8s&#x27;,\n",
              "                                                   &#x27;cons_ult_sem&#x27;, &#x27;contrafico&#x27;,\n",
              "                                                   &#x27;mean_minutos_voz_in&#x27;,\n",
              "                                                   &#x27;mean_llamadas_in&#x27;,\n",
              "                                                   &#x27;mean_llamadas_in_num_dif&#x27;,\n",
              "                                                   &#x27;mean_porcent_lla...\n",
              "                 LGBMClassifier(colsample_bytree=0.7211947114503046,\n",
              "                                learning_rate=0.19556253301804158, max_depth=7,\n",
              "                                min_child_samples=71,\n",
              "                                min_child_weight=0.2689381814201991,\n",
              "                                min_split_gain=0.0018357730892767825,\n",
              "                                n_estimators=139, num_leaves=43,\n",
              "                                reg_alpha=0.3102209158407799,\n",
              "                                reg_lambda=0.11062167179280916,\n",
              "                                scale_pos_weight=29.175405268490376,\n",
              "                                subsample=0.8182872702293318))])</pre></div></div></div><div class=\"sk-serial\"><div class=\"sk-item sk-dashed-wrapped\"><div class=\"sk-label-container\"><div class=\"sk-label sk-toggleable\"><input class=\"sk-toggleable__control sk-hidden--visually\" id=\"sk-estimator-id-25\" type=\"checkbox\" ><label for=\"sk-estimator-id-25\" class=\"sk-toggleable__label sk-toggleable__label-arrow\">columntransformer: ColumnTransformer</label><div class=\"sk-toggleable__content\"><pre>ColumnTransformer(transformers=[(&#x27;numerical&#x27;, &#x27;passthrough&#x27;,\n",
              "                                 [&#x27;cant_sem_datos&#x27;, &#x27;prom_gb_tt&#x27;, &#x27;prom_gb_ran&#x27;,\n",
              "                                  &#x27;prom_%_propia&#x27;, &#x27;continuidad_traf&#x27;,\n",
              "                                  &#x27;variacion_datos_8s&#x27;, &#x27;cons_ult_sem&#x27;,\n",
              "                                  &#x27;contrafico&#x27;, &#x27;mean_minutos_voz_in&#x27;,\n",
              "                                  &#x27;mean_llamadas_in&#x27;,\n",
              "                                  &#x27;mean_llamadas_in_num_dif&#x27;,\n",
              "                                  &#x27;mean_porcent_llamadas_fallidas_in&#x27;,\n",
              "                                  &#x27;mean_porcent_minutos_origen_wom&#x27;,\n",
              "                                  &#x27;mean_porcent_minutos_or...\n",
              "                                  &#x27;mean_porcent_minutos_otros_out&#x27;,\n",
              "                                  &#x27;var_minutos_out_4sem&#x27;,\n",
              "                                  &#x27;var_llamadas_out_4sem&#x27;,\n",
              "                                  &#x27;var_minutos_out_8sem&#x27;,\n",
              "                                  &#x27;var_llamadas_out_8sem&#x27;, ...]),\n",
              "                                (&#x27;nominal&#x27;,\n",
              "                                 Pipeline(steps=[(&#x27;onehotencoder&#x27;,\n",
              "                                                  OneHotEncoder(drop=&#x27;first&#x27;,\n",
              "                                                                dtype=&#x27;float&#x27;,\n",
              "                                                                handle_unknown=&#x27;infrequent_if_exist&#x27;,\n",
              "                                                                max_categories=30,\n",
              "                                                                min_frequency=0.03,\n",
              "                                                                sparse_output=False))]),\n",
              "                                 [&#x27;canal&#x27;, &#x27;region&#x27;, &#x27;bandas&#x27;,\n",
              "                                  &#x27;tipo_gross_adds&#x27;])])</pre></div></div></div><div class=\"sk-parallel\"><div class=\"sk-parallel-item\"><div class=\"sk-item\"><div class=\"sk-label-container\"><div class=\"sk-label sk-toggleable\"><input class=\"sk-toggleable__control sk-hidden--visually\" id=\"sk-estimator-id-26\" type=\"checkbox\" ><label for=\"sk-estimator-id-26\" class=\"sk-toggleable__label sk-toggleable__label-arrow\">numerical</label><div class=\"sk-toggleable__content\"><pre>[&#x27;cant_sem_datos&#x27;, &#x27;prom_gb_tt&#x27;, &#x27;prom_gb_ran&#x27;, &#x27;prom_%_propia&#x27;, &#x27;continuidad_traf&#x27;, &#x27;variacion_datos_8s&#x27;, &#x27;cons_ult_sem&#x27;, &#x27;contrafico&#x27;, &#x27;mean_minutos_voz_in&#x27;, &#x27;mean_llamadas_in&#x27;, &#x27;mean_llamadas_in_num_dif&#x27;, &#x27;mean_porcent_llamadas_fallidas_in&#x27;, &#x27;mean_porcent_minutos_origen_wom&#x27;, &#x27;mean_porcent_minutos_origen_otros&#x27;, &#x27;var_minutos_in_4sem&#x27;, &#x27;var_llamadas_in_4sem&#x27;, &#x27;var_minutos_in_8sem&#x27;, &#x27;var_llamadas_in_8sem&#x27;, &#x27;mean_minutos_voz_out&#x27;, &#x27;mean_llamadas_out&#x27;, &#x27;mean_llamadas_out_num_dif&#x27;, &#x27;mean_porcent_minutos_ran_out&#x27;, &#x27;mean_porcent_minutos_volte_out&#x27;, &#x27;mean_porcent_llamadas_fallidas_out&#x27;, &#x27;mean_porcent_minutos_wom_out&#x27;, &#x27;mean_porcent_minutos_otros_out&#x27;, &#x27;var_minutos_out_4sem&#x27;, &#x27;var_llamadas_out_4sem&#x27;, &#x27;var_minutos_out_8sem&#x27;, &#x27;var_llamadas_out_8sem&#x27;, &#x27;lineas_cliente&#x27;, &#x27;semanas_antiguedad&#x27;, &#x27;semanas_contactos_pqr&#x27;, &#x27;contactos_ult_semana_pqr&#x27;, &#x27;seg_llamadas_ofertas_ult_semana&#x27;, &#x27;var_seg_llamadas_ofertas_4_semanas&#x27;, &#x27;porc_descuento_activo&#x27;, &#x27;jineteo&#x27;]</pre></div></div></div><div class=\"sk-serial\"><div class=\"sk-item\"><div class=\"sk-estimator sk-toggleable\"><input class=\"sk-toggleable__control sk-hidden--visually\" id=\"sk-estimator-id-27\" type=\"checkbox\" ><label for=\"sk-estimator-id-27\" class=\"sk-toggleable__label sk-toggleable__label-arrow\">passthrough</label><div class=\"sk-toggleable__content\"><pre>passthrough</pre></div></div></div></div></div></div><div class=\"sk-parallel-item\"><div class=\"sk-item\"><div class=\"sk-label-container\"><div class=\"sk-label sk-toggleable\"><input class=\"sk-toggleable__control sk-hidden--visually\" id=\"sk-estimator-id-28\" type=\"checkbox\" ><label for=\"sk-estimator-id-28\" class=\"sk-toggleable__label sk-toggleable__label-arrow\">nominal</label><div class=\"sk-toggleable__content\"><pre>[&#x27;canal&#x27;, &#x27;region&#x27;, &#x27;bandas&#x27;, &#x27;tipo_gross_adds&#x27;]</pre></div></div></div><div class=\"sk-serial\"><div class=\"sk-item\"><div class=\"sk-serial\"><div class=\"sk-item\"><div class=\"sk-estimator sk-toggleable\"><input class=\"sk-toggleable__control sk-hidden--visually\" id=\"sk-estimator-id-29\" type=\"checkbox\" ><label for=\"sk-estimator-id-29\" class=\"sk-toggleable__label sk-toggleable__label-arrow\">OneHotEncoder</label><div class=\"sk-toggleable__content\"><pre>OneHotEncoder(drop=&#x27;first&#x27;, dtype=&#x27;float&#x27;, handle_unknown=&#x27;infrequent_if_exist&#x27;,\n",
              "              max_categories=30, min_frequency=0.03, sparse_output=False)</pre></div></div></div></div></div></div></div></div></div></div><div class=\"sk-item sk-dashed-wrapped\"><div class=\"sk-label-container\"><div class=\"sk-label sk-toggleable\"><input class=\"sk-toggleable__control sk-hidden--visually\" id=\"sk-estimator-id-30\" type=\"checkbox\" ><label for=\"sk-estimator-id-30\" class=\"sk-toggleable__label sk-toggleable__label-arrow\">iterativeimputer: IterativeImputer</label><div class=\"sk-toggleable__content\"><pre>IterativeImputer(estimator=BayesianRidge(), random_state=123456)</pre></div></div></div><div class=\"sk-parallel\"><div class=\"sk-parallel-item\"><div class=\"sk-item\"><div class=\"sk-label-container\"><div class=\"sk-label sk-toggleable\"><input class=\"sk-toggleable__control sk-hidden--visually\" id=\"sk-estimator-id-31\" type=\"checkbox\" ><label for=\"sk-estimator-id-31\" class=\"sk-toggleable__label sk-toggleable__label-arrow\">estimator: BayesianRidge</label><div class=\"sk-toggleable__content\"><pre>BayesianRidge()</pre></div></div></div><div class=\"sk-serial\"><div class=\"sk-item\"><div class=\"sk-estimator sk-toggleable\"><input class=\"sk-toggleable__control sk-hidden--visually\" id=\"sk-estimator-id-32\" type=\"checkbox\" ><label for=\"sk-estimator-id-32\" class=\"sk-toggleable__label sk-toggleable__label-arrow\">BayesianRidge</label><div class=\"sk-toggleable__content\"><pre>BayesianRidge()</pre></div></div></div></div></div></div></div></div><div class=\"sk-item\"><div class=\"sk-estimator sk-toggleable\"><input class=\"sk-toggleable__control sk-hidden--visually\" id=\"sk-estimator-id-33\" type=\"checkbox\" ><label for=\"sk-estimator-id-33\" class=\"sk-toggleable__label sk-toggleable__label-arrow\">VarianceThreshold</label><div class=\"sk-toggleable__content\"><pre>VarianceThreshold(threshold=0.1)</pre></div></div></div><div class=\"sk-item\"><div class=\"sk-estimator sk-toggleable\"><input class=\"sk-toggleable__control sk-hidden--visually\" id=\"sk-estimator-id-34\" type=\"checkbox\" ><label for=\"sk-estimator-id-34\" class=\"sk-toggleable__label sk-toggleable__label-arrow\">RobustScaler</label><div class=\"sk-toggleable__content\"><pre>RobustScaler()</pre></div></div></div><div class=\"sk-item\"><div class=\"sk-estimator sk-toggleable\"><input class=\"sk-toggleable__control sk-hidden--visually\" id=\"sk-estimator-id-35\" type=\"checkbox\" ><label for=\"sk-estimator-id-35\" class=\"sk-toggleable__label sk-toggleable__label-arrow\">PowerTransformer</label><div class=\"sk-toggleable__content\"><pre>PowerTransformer()</pre></div></div></div><div class=\"sk-item\"><div class=\"sk-estimator sk-toggleable\"><input class=\"sk-toggleable__control sk-hidden--visually\" id=\"sk-estimator-id-36\" type=\"checkbox\" ><label for=\"sk-estimator-id-36\" class=\"sk-toggleable__label sk-toggleable__label-arrow\">PCA</label><div class=\"sk-toggleable__content\"><pre>PCA(n_components=&#x27;mle&#x27;)</pre></div></div></div><div class=\"sk-item\"><div class=\"sk-estimator sk-toggleable\"><input class=\"sk-toggleable__control sk-hidden--visually\" id=\"sk-estimator-id-37\" type=\"checkbox\" ><label for=\"sk-estimator-id-37\" class=\"sk-toggleable__label sk-toggleable__label-arrow\">SelectKBest</label><div class=\"sk-toggleable__content\"><pre>SelectKBest(k=20)</pre></div></div></div><div class=\"sk-item\"><div class=\"sk-estimator sk-toggleable\"><input class=\"sk-toggleable__control sk-hidden--visually\" id=\"sk-estimator-id-38\" type=\"checkbox\" ><label for=\"sk-estimator-id-38\" class=\"sk-toggleable__label sk-toggleable__label-arrow\">LGBMClassifier</label><div class=\"sk-toggleable__content\"><pre>LGBMClassifier(colsample_bytree=0.7211947114503046,\n",
              "               learning_rate=0.19556253301804158, max_depth=7,\n",
              "               min_child_samples=71, min_child_weight=0.2689381814201991,\n",
              "               min_split_gain=0.0018357730892767825, n_estimators=139,\n",
              "               num_leaves=43, reg_alpha=0.3102209158407799,\n",
              "               reg_lambda=0.11062167179280916,\n",
              "               scale_pos_weight=29.175405268490376,\n",
              "               subsample=0.8182872702293318)</pre></div></div></div></div></div></div></div>"
            ]
          },
          "metadata": {},
          "execution_count": 48
        }
      ]
    },
    {
      "cell_type": "code",
      "source": [
        "X_train = full_pipeline.fit_transform(X = X_train, y = y_train)"
      ],
      "metadata": {
        "id": "rZiEcZiaOLy7"
      },
      "execution_count": null,
      "outputs": []
    },
    {
      "cell_type": "code",
      "source": [
        "X_test = full_pipeline.transform(X = X_test)"
      ],
      "metadata": {
        "id": "hgxjT1_fO114"
      },
      "execution_count": 23,
      "outputs": []
    },
    {
      "cell_type": "code",
      "source": [
        "# Full pipeline with imb_Pipeline\n",
        "\n",
        "full_pipeline = imb_Pipeline(\n",
        "[\n",
        "    # 1. Numerical and categorical (nominal + ordinal) transformers\n",
        "    ('transformations', transformations),\n",
        "\n",
        "    # 2. Impute missing values\n",
        "    ('iterativeImputer', IterativeImputer(estimator = BayesianRidge(),\n",
        "                                          max_iter = 10,\n",
        "                                          random_state = 123456)),\n",
        "\n",
        "    # 3. Feature selector that removes all low-variance features\n",
        "    ('varianceThreshold', VarianceThreshold(threshold = 0.1)),\n",
        "\n",
        "    # 4. Imbalance sampling\n",
        "    ('enn', EditedNearestNeighbours()),\n",
        "\n",
        "    # 5. Scale features\n",
        "    ('robustScaler', RobustScaler(with_centering = True,\n",
        "                                  with_scaling = True,\n",
        "                                  quantile_range = (25.0, 75.0),\n",
        "                                  copy = True,\n",
        "                                  unit_variance = False)),\n",
        "\n",
        "    # 6. Transform features\n",
        "    ('powerTransformer' ,PowerTransformer(method = 'yeo-johnson',\n",
        "                                          standardize = True,\n",
        "                                          copy = True)),\n",
        "\n",
        "    # 7. Dimensionality reduction\n",
        "    ('pca', PCA(n_components = 'mle')),\n",
        "    # UMAP(n_components = 5),\n",
        "\n",
        "    # 8. Feature selection: univariate feature selection ~ 50% of features\n",
        "    ('selectKBest', SelectKBest(score_func = f_classif, k = 20)),\n",
        "\n",
        "    # 9. Classifier\n",
        "    ('lightgbmclassifier', lgb.LGBMClassifier()),\n",
        "],\n",
        "\n",
        "    # 10. Memory cache\n",
        "    memory = memory\n",
        ")\n",
        "\n",
        "full_pipeline"
      ],
      "metadata": {
        "colab": {
          "base_uri": "https://localhost:8080/",
          "height": 501
        },
        "id": "hNxsC8ApnyYH",
        "outputId": "4458cbd7-d913-477f-b695-32c73092ec22"
      },
      "execution_count": null,
      "outputs": [
        {
          "output_type": "execute_result",
          "data": {
            "text/plain": [
              "Pipeline(memory=Memory(location=cachedir/joblib),\n",
              "         steps=[('transformations',\n",
              "                 ColumnTransformer(transformers=[('numerical', 'passthrough',\n",
              "                                                  ['cant_sem_datos',\n",
              "                                                   'prom_gb_tt', 'prom_gb_ran',\n",
              "                                                   'prom_%_propia',\n",
              "                                                   'continuidad_traf',\n",
              "                                                   'variacion_datos_8s',\n",
              "                                                   'cons_ult_sem', 'contrafico',\n",
              "                                                   'mean_minutos_voz_in',\n",
              "                                                   'mean_llamadas_in',\n",
              "                                                   'mean_llamadas_in_num_dif',\n",
              "                                                   'mean_porcent_llama...\n",
              "                ('iterativeImputer',\n",
              "                 IterativeImputer(estimator=BayesianRidge(),\n",
              "                                  random_state=123456)),\n",
              "                ('varianceThreshold', VarianceThreshold(threshold=0.1)),\n",
              "                ('enn', EditedNearestNeighbours()),\n",
              "                ('robustScaler', RobustScaler()),\n",
              "                ('powerTransformer', PowerTransformer()),\n",
              "                ('pca', PCA(n_components='mle')),\n",
              "                ('selectKBest', SelectKBest(k=20)),\n",
              "                ('lightgbmclassifier', LGBMClassifier())])"
            ],
            "text/html": [
              "<style>#sk-container-id-68 {color: black;background-color: white;}#sk-container-id-68 pre{padding: 0;}#sk-container-id-68 div.sk-toggleable {background-color: white;}#sk-container-id-68 label.sk-toggleable__label {cursor: pointer;display: block;width: 100%;margin-bottom: 0;padding: 0.3em;box-sizing: border-box;text-align: center;}#sk-container-id-68 label.sk-toggleable__label-arrow:before {content: \"▸\";float: left;margin-right: 0.25em;color: #696969;}#sk-container-id-68 label.sk-toggleable__label-arrow:hover:before {color: black;}#sk-container-id-68 div.sk-estimator:hover label.sk-toggleable__label-arrow:before {color: black;}#sk-container-id-68 div.sk-toggleable__content {max-height: 0;max-width: 0;overflow: hidden;text-align: left;background-color: #f0f8ff;}#sk-container-id-68 div.sk-toggleable__content pre {margin: 0.2em;color: black;border-radius: 0.25em;background-color: #f0f8ff;}#sk-container-id-68 input.sk-toggleable__control:checked~div.sk-toggleable__content {max-height: 200px;max-width: 100%;overflow: auto;}#sk-container-id-68 input.sk-toggleable__control:checked~label.sk-toggleable__label-arrow:before {content: \"▾\";}#sk-container-id-68 div.sk-estimator input.sk-toggleable__control:checked~label.sk-toggleable__label {background-color: #d4ebff;}#sk-container-id-68 div.sk-label input.sk-toggleable__control:checked~label.sk-toggleable__label {background-color: #d4ebff;}#sk-container-id-68 input.sk-hidden--visually {border: 0;clip: rect(1px 1px 1px 1px);clip: rect(1px, 1px, 1px, 1px);height: 1px;margin: -1px;overflow: hidden;padding: 0;position: absolute;width: 1px;}#sk-container-id-68 div.sk-estimator {font-family: monospace;background-color: #f0f8ff;border: 1px dotted black;border-radius: 0.25em;box-sizing: border-box;margin-bottom: 0.5em;}#sk-container-id-68 div.sk-estimator:hover {background-color: #d4ebff;}#sk-container-id-68 div.sk-parallel-item::after {content: \"\";width: 100%;border-bottom: 1px solid gray;flex-grow: 1;}#sk-container-id-68 div.sk-label:hover label.sk-toggleable__label {background-color: #d4ebff;}#sk-container-id-68 div.sk-serial::before {content: \"\";position: absolute;border-left: 1px solid gray;box-sizing: border-box;top: 0;bottom: 0;left: 50%;z-index: 0;}#sk-container-id-68 div.sk-serial {display: flex;flex-direction: column;align-items: center;background-color: white;padding-right: 0.2em;padding-left: 0.2em;position: relative;}#sk-container-id-68 div.sk-item {position: relative;z-index: 1;}#sk-container-id-68 div.sk-parallel {display: flex;align-items: stretch;justify-content: center;background-color: white;position: relative;}#sk-container-id-68 div.sk-item::before, #sk-container-id-68 div.sk-parallel-item::before {content: \"\";position: absolute;border-left: 1px solid gray;box-sizing: border-box;top: 0;bottom: 0;left: 50%;z-index: -1;}#sk-container-id-68 div.sk-parallel-item {display: flex;flex-direction: column;z-index: 1;position: relative;background-color: white;}#sk-container-id-68 div.sk-parallel-item:first-child::after {align-self: flex-end;width: 50%;}#sk-container-id-68 div.sk-parallel-item:last-child::after {align-self: flex-start;width: 50%;}#sk-container-id-68 div.sk-parallel-item:only-child::after {width: 0;}#sk-container-id-68 div.sk-dashed-wrapped {border: 1px dashed gray;margin: 0 0.4em 0.5em 0.4em;box-sizing: border-box;padding-bottom: 0.4em;background-color: white;}#sk-container-id-68 div.sk-label label {font-family: monospace;font-weight: bold;display: inline-block;line-height: 1.2em;}#sk-container-id-68 div.sk-label-container {text-align: center;}#sk-container-id-68 div.sk-container {/* jupyter's `normalize.less` sets `[hidden] { display: none; }` but bootstrap.min.css set `[hidden] { display: none !important; }` so we also need the `!important` here to be able to override the default hidden behavior on the sphinx rendered scikit-learn.org. See: https://github.com/scikit-learn/scikit-learn/issues/21755 */display: inline-block !important;position: relative;}#sk-container-id-68 div.sk-text-repr-fallback {display: none;}</style><div id=\"sk-container-id-68\" class=\"sk-top-container\"><div class=\"sk-text-repr-fallback\"><pre>Pipeline(memory=Memory(location=cachedir/joblib),\n",
              "         steps=[(&#x27;transformations&#x27;,\n",
              "                 ColumnTransformer(transformers=[(&#x27;numerical&#x27;, &#x27;passthrough&#x27;,\n",
              "                                                  [&#x27;cant_sem_datos&#x27;,\n",
              "                                                   &#x27;prom_gb_tt&#x27;, &#x27;prom_gb_ran&#x27;,\n",
              "                                                   &#x27;prom_%_propia&#x27;,\n",
              "                                                   &#x27;continuidad_traf&#x27;,\n",
              "                                                   &#x27;variacion_datos_8s&#x27;,\n",
              "                                                   &#x27;cons_ult_sem&#x27;, &#x27;contrafico&#x27;,\n",
              "                                                   &#x27;mean_minutos_voz_in&#x27;,\n",
              "                                                   &#x27;mean_llamadas_in&#x27;,\n",
              "                                                   &#x27;mean_llamadas_in_num_dif&#x27;,\n",
              "                                                   &#x27;mean_porcent_llama...\n",
              "                (&#x27;iterativeImputer&#x27;,\n",
              "                 IterativeImputer(estimator=BayesianRidge(),\n",
              "                                  random_state=123456)),\n",
              "                (&#x27;varianceThreshold&#x27;, VarianceThreshold(threshold=0.1)),\n",
              "                (&#x27;enn&#x27;, EditedNearestNeighbours()),\n",
              "                (&#x27;robustScaler&#x27;, RobustScaler()),\n",
              "                (&#x27;powerTransformer&#x27;, PowerTransformer()),\n",
              "                (&#x27;pca&#x27;, PCA(n_components=&#x27;mle&#x27;)),\n",
              "                (&#x27;selectKBest&#x27;, SelectKBest(k=20)),\n",
              "                (&#x27;lightgbmclassifier&#x27;, LGBMClassifier())])</pre><b>In a Jupyter environment, please rerun this cell to show the HTML representation or trust the notebook. <br />On GitHub, the HTML representation is unable to render, please try loading this page with nbviewer.org.</b></div><div class=\"sk-container\" hidden><div class=\"sk-item sk-dashed-wrapped\"><div class=\"sk-label-container\"><div class=\"sk-label sk-toggleable\"><input class=\"sk-toggleable__control sk-hidden--visually\" id=\"sk-estimator-id-160\" type=\"checkbox\" ><label for=\"sk-estimator-id-160\" class=\"sk-toggleable__label sk-toggleable__label-arrow\">Pipeline</label><div class=\"sk-toggleable__content\"><pre>Pipeline(memory=Memory(location=cachedir/joblib),\n",
              "         steps=[(&#x27;transformations&#x27;,\n",
              "                 ColumnTransformer(transformers=[(&#x27;numerical&#x27;, &#x27;passthrough&#x27;,\n",
              "                                                  [&#x27;cant_sem_datos&#x27;,\n",
              "                                                   &#x27;prom_gb_tt&#x27;, &#x27;prom_gb_ran&#x27;,\n",
              "                                                   &#x27;prom_%_propia&#x27;,\n",
              "                                                   &#x27;continuidad_traf&#x27;,\n",
              "                                                   &#x27;variacion_datos_8s&#x27;,\n",
              "                                                   &#x27;cons_ult_sem&#x27;, &#x27;contrafico&#x27;,\n",
              "                                                   &#x27;mean_minutos_voz_in&#x27;,\n",
              "                                                   &#x27;mean_llamadas_in&#x27;,\n",
              "                                                   &#x27;mean_llamadas_in_num_dif&#x27;,\n",
              "                                                   &#x27;mean_porcent_llama...\n",
              "                (&#x27;iterativeImputer&#x27;,\n",
              "                 IterativeImputer(estimator=BayesianRidge(),\n",
              "                                  random_state=123456)),\n",
              "                (&#x27;varianceThreshold&#x27;, VarianceThreshold(threshold=0.1)),\n",
              "                (&#x27;enn&#x27;, EditedNearestNeighbours()),\n",
              "                (&#x27;robustScaler&#x27;, RobustScaler()),\n",
              "                (&#x27;powerTransformer&#x27;, PowerTransformer()),\n",
              "                (&#x27;pca&#x27;, PCA(n_components=&#x27;mle&#x27;)),\n",
              "                (&#x27;selectKBest&#x27;, SelectKBest(k=20)),\n",
              "                (&#x27;lightgbmclassifier&#x27;, LGBMClassifier())])</pre></div></div></div><div class=\"sk-serial\"><div class=\"sk-item sk-dashed-wrapped\"><div class=\"sk-label-container\"><div class=\"sk-label sk-toggleable\"><input class=\"sk-toggleable__control sk-hidden--visually\" id=\"sk-estimator-id-161\" type=\"checkbox\" ><label for=\"sk-estimator-id-161\" class=\"sk-toggleable__label sk-toggleable__label-arrow\">transformations: ColumnTransformer</label><div class=\"sk-toggleable__content\"><pre>ColumnTransformer(transformers=[(&#x27;numerical&#x27;, &#x27;passthrough&#x27;,\n",
              "                                 [&#x27;cant_sem_datos&#x27;, &#x27;prom_gb_tt&#x27;, &#x27;prom_gb_ran&#x27;,\n",
              "                                  &#x27;prom_%_propia&#x27;, &#x27;continuidad_traf&#x27;,\n",
              "                                  &#x27;variacion_datos_8s&#x27;, &#x27;cons_ult_sem&#x27;,\n",
              "                                  &#x27;contrafico&#x27;, &#x27;mean_minutos_voz_in&#x27;,\n",
              "                                  &#x27;mean_llamadas_in&#x27;,\n",
              "                                  &#x27;mean_llamadas_in_num_dif&#x27;,\n",
              "                                  &#x27;mean_porcent_llamadas_fallidas_in&#x27;,\n",
              "                                  &#x27;mean_porcent_minutos_origen_wom&#x27;,\n",
              "                                  &#x27;mean_porcent_minutos_or...\n",
              "                                  &#x27;mean_porcent_minutos_otros_out&#x27;,\n",
              "                                  &#x27;var_minutos_out_4sem&#x27;,\n",
              "                                  &#x27;var_llamadas_out_4sem&#x27;,\n",
              "                                  &#x27;var_minutos_out_8sem&#x27;,\n",
              "                                  &#x27;var_llamadas_out_8sem&#x27;, ...]),\n",
              "                                (&#x27;nominal&#x27;,\n",
              "                                 Pipeline(steps=[(&#x27;onehotencoder&#x27;,\n",
              "                                                  OneHotEncoder(drop=&#x27;first&#x27;,\n",
              "                                                                dtype=&#x27;float&#x27;,\n",
              "                                                                handle_unknown=&#x27;infrequent_if_exist&#x27;,\n",
              "                                                                max_categories=30,\n",
              "                                                                min_frequency=0.03,\n",
              "                                                                sparse_output=False))]),\n",
              "                                 [&#x27;canal&#x27;, &#x27;region&#x27;, &#x27;bandas&#x27;,\n",
              "                                  &#x27;tipo_gross_adds&#x27;])])</pre></div></div></div><div class=\"sk-parallel\"><div class=\"sk-parallel-item\"><div class=\"sk-item\"><div class=\"sk-label-container\"><div class=\"sk-label sk-toggleable\"><input class=\"sk-toggleable__control sk-hidden--visually\" id=\"sk-estimator-id-162\" type=\"checkbox\" ><label for=\"sk-estimator-id-162\" class=\"sk-toggleable__label sk-toggleable__label-arrow\">numerical</label><div class=\"sk-toggleable__content\"><pre>[&#x27;cant_sem_datos&#x27;, &#x27;prom_gb_tt&#x27;, &#x27;prom_gb_ran&#x27;, &#x27;prom_%_propia&#x27;, &#x27;continuidad_traf&#x27;, &#x27;variacion_datos_8s&#x27;, &#x27;cons_ult_sem&#x27;, &#x27;contrafico&#x27;, &#x27;mean_minutos_voz_in&#x27;, &#x27;mean_llamadas_in&#x27;, &#x27;mean_llamadas_in_num_dif&#x27;, &#x27;mean_porcent_llamadas_fallidas_in&#x27;, &#x27;mean_porcent_minutos_origen_wom&#x27;, &#x27;mean_porcent_minutos_origen_otros&#x27;, &#x27;var_minutos_in_4sem&#x27;, &#x27;var_llamadas_in_4sem&#x27;, &#x27;var_minutos_in_8sem&#x27;, &#x27;var_llamadas_in_8sem&#x27;, &#x27;mean_minutos_voz_out&#x27;, &#x27;mean_llamadas_out&#x27;, &#x27;mean_llamadas_out_num_dif&#x27;, &#x27;mean_porcent_minutos_ran_out&#x27;, &#x27;mean_porcent_minutos_volte_out&#x27;, &#x27;mean_porcent_llamadas_fallidas_out&#x27;, &#x27;mean_porcent_minutos_wom_out&#x27;, &#x27;mean_porcent_minutos_otros_out&#x27;, &#x27;var_minutos_out_4sem&#x27;, &#x27;var_llamadas_out_4sem&#x27;, &#x27;var_minutos_out_8sem&#x27;, &#x27;var_llamadas_out_8sem&#x27;, &#x27;lineas_cliente&#x27;, &#x27;semanas_antiguedad&#x27;, &#x27;semanas_contactos_pqr&#x27;, &#x27;contactos_ult_semana_pqr&#x27;, &#x27;seg_llamadas_ofertas_ult_semana&#x27;, &#x27;var_seg_llamadas_ofertas_4_semanas&#x27;, &#x27;porc_descuento_activo&#x27;, &#x27;jineteo&#x27;]</pre></div></div></div><div class=\"sk-serial\"><div class=\"sk-item\"><div class=\"sk-estimator sk-toggleable\"><input class=\"sk-toggleable__control sk-hidden--visually\" id=\"sk-estimator-id-163\" type=\"checkbox\" ><label for=\"sk-estimator-id-163\" class=\"sk-toggleable__label sk-toggleable__label-arrow\">passthrough</label><div class=\"sk-toggleable__content\"><pre>passthrough</pre></div></div></div></div></div></div><div class=\"sk-parallel-item\"><div class=\"sk-item\"><div class=\"sk-label-container\"><div class=\"sk-label sk-toggleable\"><input class=\"sk-toggleable__control sk-hidden--visually\" id=\"sk-estimator-id-164\" type=\"checkbox\" ><label for=\"sk-estimator-id-164\" class=\"sk-toggleable__label sk-toggleable__label-arrow\">nominal</label><div class=\"sk-toggleable__content\"><pre>[&#x27;canal&#x27;, &#x27;region&#x27;, &#x27;bandas&#x27;, &#x27;tipo_gross_adds&#x27;]</pre></div></div></div><div class=\"sk-serial\"><div class=\"sk-item\"><div class=\"sk-serial\"><div class=\"sk-item\"><div class=\"sk-estimator sk-toggleable\"><input class=\"sk-toggleable__control sk-hidden--visually\" id=\"sk-estimator-id-165\" type=\"checkbox\" ><label for=\"sk-estimator-id-165\" class=\"sk-toggleable__label sk-toggleable__label-arrow\">OneHotEncoder</label><div class=\"sk-toggleable__content\"><pre>OneHotEncoder(drop=&#x27;first&#x27;, dtype=&#x27;float&#x27;, handle_unknown=&#x27;infrequent_if_exist&#x27;,\n",
              "              max_categories=30, min_frequency=0.03, sparse_output=False)</pre></div></div></div></div></div></div></div></div></div></div><div class=\"sk-item sk-dashed-wrapped\"><div class=\"sk-label-container\"><div class=\"sk-label sk-toggleable\"><input class=\"sk-toggleable__control sk-hidden--visually\" id=\"sk-estimator-id-166\" type=\"checkbox\" ><label for=\"sk-estimator-id-166\" class=\"sk-toggleable__label sk-toggleable__label-arrow\">iterativeImputer: IterativeImputer</label><div class=\"sk-toggleable__content\"><pre>IterativeImputer(estimator=BayesianRidge(), random_state=123456)</pre></div></div></div><div class=\"sk-parallel\"><div class=\"sk-parallel-item\"><div class=\"sk-item\"><div class=\"sk-label-container\"><div class=\"sk-label sk-toggleable\"><input class=\"sk-toggleable__control sk-hidden--visually\" id=\"sk-estimator-id-167\" type=\"checkbox\" ><label for=\"sk-estimator-id-167\" class=\"sk-toggleable__label sk-toggleable__label-arrow\">estimator: BayesianRidge</label><div class=\"sk-toggleable__content\"><pre>BayesianRidge()</pre></div></div></div><div class=\"sk-serial\"><div class=\"sk-item\"><div class=\"sk-estimator sk-toggleable\"><input class=\"sk-toggleable__control sk-hidden--visually\" id=\"sk-estimator-id-168\" type=\"checkbox\" ><label for=\"sk-estimator-id-168\" class=\"sk-toggleable__label sk-toggleable__label-arrow\">BayesianRidge</label><div class=\"sk-toggleable__content\"><pre>BayesianRidge()</pre></div></div></div></div></div></div></div></div><div class=\"sk-item\"><div class=\"sk-estimator sk-toggleable\"><input class=\"sk-toggleable__control sk-hidden--visually\" id=\"sk-estimator-id-169\" type=\"checkbox\" ><label for=\"sk-estimator-id-169\" class=\"sk-toggleable__label sk-toggleable__label-arrow\">VarianceThreshold</label><div class=\"sk-toggleable__content\"><pre>VarianceThreshold(threshold=0.1)</pre></div></div></div><div class=\"sk-item\"><div class=\"sk-estimator sk-toggleable\"><input class=\"sk-toggleable__control sk-hidden--visually\" id=\"sk-estimator-id-170\" type=\"checkbox\" ><label for=\"sk-estimator-id-170\" class=\"sk-toggleable__label sk-toggleable__label-arrow\">EditedNearestNeighbours</label><div class=\"sk-toggleable__content\"><pre>EditedNearestNeighbours()</pre></div></div></div><div class=\"sk-item\"><div class=\"sk-estimator sk-toggleable\"><input class=\"sk-toggleable__control sk-hidden--visually\" id=\"sk-estimator-id-171\" type=\"checkbox\" ><label for=\"sk-estimator-id-171\" class=\"sk-toggleable__label sk-toggleable__label-arrow\">RobustScaler</label><div class=\"sk-toggleable__content\"><pre>RobustScaler()</pre></div></div></div><div class=\"sk-item\"><div class=\"sk-estimator sk-toggleable\"><input class=\"sk-toggleable__control sk-hidden--visually\" id=\"sk-estimator-id-172\" type=\"checkbox\" ><label for=\"sk-estimator-id-172\" class=\"sk-toggleable__label sk-toggleable__label-arrow\">PowerTransformer</label><div class=\"sk-toggleable__content\"><pre>PowerTransformer()</pre></div></div></div><div class=\"sk-item\"><div class=\"sk-estimator sk-toggleable\"><input class=\"sk-toggleable__control sk-hidden--visually\" id=\"sk-estimator-id-173\" type=\"checkbox\" ><label for=\"sk-estimator-id-173\" class=\"sk-toggleable__label sk-toggleable__label-arrow\">PCA</label><div class=\"sk-toggleable__content\"><pre>PCA(n_components=&#x27;mle&#x27;)</pre></div></div></div><div class=\"sk-item\"><div class=\"sk-estimator sk-toggleable\"><input class=\"sk-toggleable__control sk-hidden--visually\" id=\"sk-estimator-id-174\" type=\"checkbox\" ><label for=\"sk-estimator-id-174\" class=\"sk-toggleable__label sk-toggleable__label-arrow\">SelectKBest</label><div class=\"sk-toggleable__content\"><pre>SelectKBest(k=20)</pre></div></div></div><div class=\"sk-item\"><div class=\"sk-estimator sk-toggleable\"><input class=\"sk-toggleable__control sk-hidden--visually\" id=\"sk-estimator-id-175\" type=\"checkbox\" ><label for=\"sk-estimator-id-175\" class=\"sk-toggleable__label sk-toggleable__label-arrow\">LGBMClassifier</label><div class=\"sk-toggleable__content\"><pre>LGBMClassifier()</pre></div></div></div></div></div></div></div>"
            ]
          },
          "metadata": {},
          "execution_count": 53
        }
      ]
    },
    {
      "cell_type": "markdown",
      "source": [
        "### 2.11 - Estimators and imbalance ratio"
      ],
      "metadata": {
        "id": "hIDf0gHZf7KC"
      }
    },
    {
      "cell_type": "markdown",
      "source": [
        "#### XGBoost Classifier"
      ],
      "metadata": {
        "id": "15ppWdmm9d0N"
      }
    },
    {
      "cell_type": "code",
      "source": [
        "# 2. Estimator hyperparameters\n",
        "full_pipeline.named_steps['xgbclassifier'].get_params()"
      ],
      "metadata": {
        "id": "Bt2y3enXFEF8"
      },
      "execution_count": null,
      "outputs": []
    },
    {
      "cell_type": "code",
      "source": [
        "xgb.XGBClassifier(booster = \"gbtree\",\n",
        "                  objective = \"binary:logistic\",\n",
        "                  n_estimators = 100,\n",
        "                  scale_pos_weight = imbalance_ratio)"
      ],
      "metadata": {
        "id": "EPigAMHjchjW"
      },
      "execution_count": null,
      "outputs": []
    },
    {
      "cell_type": "code",
      "source": [
        "# Grid parameter if BayesSearchCV is used\n",
        "xgb_param_bayes_space = {\"selectkbest__k\": Integer(low=10, high=43),\n",
        "                         'pca__n_components': Real(low=0.4, high=0.95, prior=\"uniform\"),\n",
        "                         \"xgbclassifier__max_depth\": Integer(low=4, high=10),\n",
        "                         \"xgbclassifier__min_child_weight\": Integer(low=0, high=10),\n",
        "                         \"xgbclassifier__subsample\": Real(low=0.4, high=1.0, prior=\"uniform\"),\n",
        "                         \"xgbclassifier__colsample_bytree\": Real(low=0.4, high=1.0, prior=\"uniform\"),\n",
        "                         \"xgbclassifier__n_estimators\": Integer(low=100, high=1000),\n",
        "                         \"xgbclassifier__learning_rate\": Real(low=0.01, high=0.3, prior=\"uniform\"),\n",
        "                         \"xgbclassifier__gamma\": Integer(low=0, high=1),\n",
        "                         \"xgbclassifier__reg_lambda\": Integer(low=1, high=5),\n",
        "                         \"xgbclassifier__reg_alpha\": Integer(low=0, high=5)}"
      ],
      "metadata": {
        "id": "XaQ5YY6M-S4P"
      },
      "execution_count": null,
      "outputs": []
    },
    {
      "cell_type": "markdown",
      "source": [
        "#### LightGBM Classifier"
      ],
      "metadata": {
        "id": "UbLxdxK89jQZ"
      }
    },
    {
      "cell_type": "code",
      "source": [
        "# 2. Estimator hyperparameters\n",
        "full_pipeline.named_steps['lgbmclassifier'].get_params()"
      ],
      "metadata": {
        "colab": {
          "base_uri": "https://localhost:8080/"
        },
        "id": "WtPDg7wDFGUk",
        "outputId": "bac72b78-51ca-4c90-f4e0-920c85c4c3eb"
      },
      "execution_count": null,
      "outputs": [
        {
          "output_type": "execute_result",
          "data": {
            "text/plain": [
              "{'boosting_type': 'gbdt',\n",
              " 'class_weight': None,\n",
              " 'colsample_bytree': 1.0,\n",
              " 'importance_type': 'split',\n",
              " 'learning_rate': 0.1,\n",
              " 'max_depth': -1,\n",
              " 'min_child_samples': 20,\n",
              " 'min_child_weight': 0.001,\n",
              " 'min_split_gain': 0.0,\n",
              " 'n_estimators': 100,\n",
              " 'n_jobs': -1,\n",
              " 'num_leaves': 31,\n",
              " 'objective': None,\n",
              " 'random_state': None,\n",
              " 'reg_alpha': 0.0,\n",
              " 'reg_lambda': 0.0,\n",
              " 'silent': 'warn',\n",
              " 'subsample': 1.0,\n",
              " 'subsample_for_bin': 200000,\n",
              " 'subsample_freq': 0,\n",
              " 'scale_pos_weight': 29.175413711583925}"
            ]
          },
          "metadata": {},
          "execution_count": 134
        }
      ]
    },
    {
      "cell_type": "code",
      "source": [
        "lgb.LGBMClassifier(scale_pos_weight = imbalance_ratio, # Like in XGBoostClassifier\n",
        "                   colsample_bytree =  0.7211947114503046,\n",
        "                   learning_rate = 0.19556253301804158,\n",
        "                   max_depth = 7,\n",
        "                   min_child_samples = 71,\n",
        "                   min_child_weight = 0.2689381814201991,\n",
        "                   min_split_gain = 0.0018357730892767825,\n",
        "                   n_estimators = 139 ,\n",
        "                   num_leaves = 43,\n",
        "                   reg_alpha = 0.3102209158407799,\n",
        "                   reg_lambda = 0.11062167179280916,\n",
        "                   subsample = 0.8182872702293318)"
      ],
      "metadata": {
        "colab": {
          "base_uri": "https://localhost:8080/",
          "height": 196
        },
        "id": "SkrISaZnLxxd",
        "outputId": "a3bce5ec-b825-4190-8086-107a0fcb1b01"
      },
      "execution_count": 47,
      "outputs": [
        {
          "output_type": "execute_result",
          "data": {
            "text/plain": [
              "LGBMClassifier(colsample_bytree=0.7211947114503046,\n",
              "               learning_rate=0.19556253301804158, max_depth=7,\n",
              "               min_child_samples=71, min_child_weight=0.2689381814201991,\n",
              "               min_split_gain=0.0018357730892767825, n_estimators=139,\n",
              "               num_leaves=43, reg_alpha=0.3102209158407799,\n",
              "               reg_lambda=0.11062167179280916,\n",
              "               scale_pos_weight=29.175405268490376,\n",
              "               subsample=0.8182872702293318)"
            ],
            "text/html": [
              "<style>#sk-container-id-5 {color: black;background-color: white;}#sk-container-id-5 pre{padding: 0;}#sk-container-id-5 div.sk-toggleable {background-color: white;}#sk-container-id-5 label.sk-toggleable__label {cursor: pointer;display: block;width: 100%;margin-bottom: 0;padding: 0.3em;box-sizing: border-box;text-align: center;}#sk-container-id-5 label.sk-toggleable__label-arrow:before {content: \"▸\";float: left;margin-right: 0.25em;color: #696969;}#sk-container-id-5 label.sk-toggleable__label-arrow:hover:before {color: black;}#sk-container-id-5 div.sk-estimator:hover label.sk-toggleable__label-arrow:before {color: black;}#sk-container-id-5 div.sk-toggleable__content {max-height: 0;max-width: 0;overflow: hidden;text-align: left;background-color: #f0f8ff;}#sk-container-id-5 div.sk-toggleable__content pre {margin: 0.2em;color: black;border-radius: 0.25em;background-color: #f0f8ff;}#sk-container-id-5 input.sk-toggleable__control:checked~div.sk-toggleable__content {max-height: 200px;max-width: 100%;overflow: auto;}#sk-container-id-5 input.sk-toggleable__control:checked~label.sk-toggleable__label-arrow:before {content: \"▾\";}#sk-container-id-5 div.sk-estimator input.sk-toggleable__control:checked~label.sk-toggleable__label {background-color: #d4ebff;}#sk-container-id-5 div.sk-label input.sk-toggleable__control:checked~label.sk-toggleable__label {background-color: #d4ebff;}#sk-container-id-5 input.sk-hidden--visually {border: 0;clip: rect(1px 1px 1px 1px);clip: rect(1px, 1px, 1px, 1px);height: 1px;margin: -1px;overflow: hidden;padding: 0;position: absolute;width: 1px;}#sk-container-id-5 div.sk-estimator {font-family: monospace;background-color: #f0f8ff;border: 1px dotted black;border-radius: 0.25em;box-sizing: border-box;margin-bottom: 0.5em;}#sk-container-id-5 div.sk-estimator:hover {background-color: #d4ebff;}#sk-container-id-5 div.sk-parallel-item::after {content: \"\";width: 100%;border-bottom: 1px solid gray;flex-grow: 1;}#sk-container-id-5 div.sk-label:hover label.sk-toggleable__label {background-color: #d4ebff;}#sk-container-id-5 div.sk-serial::before {content: \"\";position: absolute;border-left: 1px solid gray;box-sizing: border-box;top: 0;bottom: 0;left: 50%;z-index: 0;}#sk-container-id-5 div.sk-serial {display: flex;flex-direction: column;align-items: center;background-color: white;padding-right: 0.2em;padding-left: 0.2em;position: relative;}#sk-container-id-5 div.sk-item {position: relative;z-index: 1;}#sk-container-id-5 div.sk-parallel {display: flex;align-items: stretch;justify-content: center;background-color: white;position: relative;}#sk-container-id-5 div.sk-item::before, #sk-container-id-5 div.sk-parallel-item::before {content: \"\";position: absolute;border-left: 1px solid gray;box-sizing: border-box;top: 0;bottom: 0;left: 50%;z-index: -1;}#sk-container-id-5 div.sk-parallel-item {display: flex;flex-direction: column;z-index: 1;position: relative;background-color: white;}#sk-container-id-5 div.sk-parallel-item:first-child::after {align-self: flex-end;width: 50%;}#sk-container-id-5 div.sk-parallel-item:last-child::after {align-self: flex-start;width: 50%;}#sk-container-id-5 div.sk-parallel-item:only-child::after {width: 0;}#sk-container-id-5 div.sk-dashed-wrapped {border: 1px dashed gray;margin: 0 0.4em 0.5em 0.4em;box-sizing: border-box;padding-bottom: 0.4em;background-color: white;}#sk-container-id-5 div.sk-label label {font-family: monospace;font-weight: bold;display: inline-block;line-height: 1.2em;}#sk-container-id-5 div.sk-label-container {text-align: center;}#sk-container-id-5 div.sk-container {/* jupyter's `normalize.less` sets `[hidden] { display: none; }` but bootstrap.min.css set `[hidden] { display: none !important; }` so we also need the `!important` here to be able to override the default hidden behavior on the sphinx rendered scikit-learn.org. See: https://github.com/scikit-learn/scikit-learn/issues/21755 */display: inline-block !important;position: relative;}#sk-container-id-5 div.sk-text-repr-fallback {display: none;}</style><div id=\"sk-container-id-5\" class=\"sk-top-container\"><div class=\"sk-text-repr-fallback\"><pre>LGBMClassifier(colsample_bytree=0.7211947114503046,\n",
              "               learning_rate=0.19556253301804158, max_depth=7,\n",
              "               min_child_samples=71, min_child_weight=0.2689381814201991,\n",
              "               min_split_gain=0.0018357730892767825, n_estimators=139,\n",
              "               num_leaves=43, reg_alpha=0.3102209158407799,\n",
              "               reg_lambda=0.11062167179280916,\n",
              "               scale_pos_weight=29.175405268490376,\n",
              "               subsample=0.8182872702293318)</pre><b>In a Jupyter environment, please rerun this cell to show the HTML representation or trust the notebook. <br />On GitHub, the HTML representation is unable to render, please try loading this page with nbviewer.org.</b></div><div class=\"sk-container\" hidden><div class=\"sk-item\"><div class=\"sk-estimator sk-toggleable\"><input class=\"sk-toggleable__control sk-hidden--visually\" id=\"sk-estimator-id-23\" type=\"checkbox\" checked><label for=\"sk-estimator-id-23\" class=\"sk-toggleable__label sk-toggleable__label-arrow\">LGBMClassifier</label><div class=\"sk-toggleable__content\"><pre>LGBMClassifier(colsample_bytree=0.7211947114503046,\n",
              "               learning_rate=0.19556253301804158, max_depth=7,\n",
              "               min_child_samples=71, min_child_weight=0.2689381814201991,\n",
              "               min_split_gain=0.0018357730892767825, n_estimators=139,\n",
              "               num_leaves=43, reg_alpha=0.3102209158407799,\n",
              "               reg_lambda=0.11062167179280916,\n",
              "               scale_pos_weight=29.175405268490376,\n",
              "               subsample=0.8182872702293318)</pre></div></div></div></div></div>"
            ]
          },
          "metadata": {},
          "execution_count": 47
        }
      ]
    },
    {
      "cell_type": "code",
      "source": [
        "# Grid parameter if BayesSearchCV is used\n",
        "lgb_param_bayes_space = {#\"selectkbest__k\": Integer(low=10, high=30),\n",
        "                         #'pca__n_components': Real(low=0.4, high=0.95, prior=\"uniform\"),\n",
        "                         \"colsample_bytree\": Real(low=0.4, high=1.0, prior=\"uniform\"),\n",
        "                         \"learning_rate\": Real(low=0.01, high=0.3, prior=\"uniform\"),\n",
        "                         \"max_depth\": Integer(low=4, high=12),\n",
        "                         \"num_leaves\": Integer(low=10, high=200),\n",
        "                         \"min_child_samples\":Integer(low=20, high=100),\n",
        "                         \"min_child_weight\": Real(low=0.0, high=0.3, prior=\"uniform\"),\n",
        "                         \"min_split_gain\": Real(low=0.0, high=0.1, prior=\"uniform\"),\n",
        "                         \"n_estimators\": Integer(low=100, high=1000),\n",
        "                         \"reg_alpha\": Real(low=0.0, high=1, prior=\"uniform\"),\n",
        "                         \"reg_lambda\": Real(low=0.0, high=1, prior=\"uniform\"),\n",
        "                         \"subsample\": Real(low=0.3, high=1.0, prior=\"uniform\")}"
      ],
      "metadata": {
        "id": "BKSbTXe0Ef5m"
      },
      "execution_count": 28,
      "outputs": []
    },
    {
      "cell_type": "markdown",
      "source": [
        "#### CatBoost Classifier"
      ],
      "metadata": {
        "id": "g56pOKrZRmRM"
      }
    },
    {
      "cell_type": "code",
      "source": [
        "full_pipeline.named_steps['catboostclassifier'].get_params()"
      ],
      "metadata": {
        "colab": {
          "base_uri": "https://localhost:8080/"
        },
        "id": "dihTR-5IVUSb",
        "outputId": "c84c7ce6-5baa-4bd5-d53e-93364005456b"
      },
      "execution_count": null,
      "outputs": [
        {
          "output_type": "execute_result",
          "data": {
            "text/plain": [
              "{'class_weights': [1, 29.175413711583925]}"
            ]
          },
          "metadata": {},
          "execution_count": 159
        }
      ]
    },
    {
      "cell_type": "code",
      "source": [
        "catb.CatBoostClassifier(class_weights = [1, imbalance_ratio])"
      ],
      "metadata": {
        "colab": {
          "base_uri": "https://localhost:8080/"
        },
        "id": "TKogeJPLRoKZ",
        "outputId": "e0040fc0-dee3-462f-916f-6a20e3c46423"
      },
      "execution_count": null,
      "outputs": [
        {
          "output_type": "execute_result",
          "data": {
            "text/plain": [
              "<catboost.core.CatBoostClassifier at 0x7c27532f69b0>"
            ]
          },
          "metadata": {},
          "execution_count": 160
        }
      ]
    },
    {
      "cell_type": "code",
      "source": [
        "# Grid parameter if BayesSearchCV is used\n",
        "cat_param_bayes_space = {\"selectkbest__k\": Integer(low=10, high=43),\n",
        "                         'pca__n_components': Real(low=0.4, high=0.95, prior=\"uniform\"),\n",
        "                         \"catboostclassifier__learning_rate\": Real(low=0.01, high=0.3, prior=\"uniform\"),\n",
        "                         \"catboostclassifier__depth\": Integer(low=4, high=12),\n",
        "                         \"catboostclassifier__l2_leaf_reg\": Integer(low=1, high=10),\n",
        "                         \"catboostclassifier__iterations\": Integer(low=100, high=1000),\n",
        "                         \"catboostclassifier__random_strength\": Real(low=0.1, high=1, prior=\"uniform\"),\n",
        "                         \"catboostclassifier__bagging_temperature\": Integer(low=1, high=6),\n",
        "                         \"catboostclassifier__leaf_estimation_method\": Categorical([\"Newton\", None, 'Gradient', 'Exact']),\n",
        "                         \"catboostclassifier__min_data_in_leaf\": Integer(low=20, high=50)}"
      ],
      "metadata": {
        "id": "h38kce3SSg7N"
      },
      "execution_count": null,
      "outputs": []
    },
    {
      "cell_type": "markdown",
      "source": [
        "#### AdaBoost Classifier"
      ],
      "metadata": {
        "id": "n4oj7B2deyNO"
      }
    },
    {
      "cell_type": "code",
      "source": [
        "full_pipeline.named_steps['adaboostclassifier'].get_params()"
      ],
      "metadata": {
        "colab": {
          "base_uri": "https://localhost:8080/"
        },
        "id": "UrdPNLvIgqoP",
        "outputId": "9201aef7-8035-46d0-db84-0fffb0d1c875"
      },
      "execution_count": null,
      "outputs": [
        {
          "output_type": "execute_result",
          "data": {
            "text/plain": [
              "{'algorithm': 'SAMME.R',\n",
              " 'base_estimator': 'deprecated',\n",
              " 'estimator': None,\n",
              " 'learning_rate': 1.0,\n",
              " 'n_estimators': 50,\n",
              " 'random_state': None}"
            ]
          },
          "metadata": {},
          "execution_count": 177
        }
      ]
    },
    {
      "cell_type": "code",
      "source": [
        "AdaBoostClassifier()"
      ],
      "metadata": {
        "colab": {
          "base_uri": "https://localhost:8080/",
          "height": 75
        },
        "id": "n5VGtlzGgVj-",
        "outputId": "d0a81ad7-2cdd-4a81-e3ec-4e76955c0237"
      },
      "execution_count": null,
      "outputs": [
        {
          "output_type": "execute_result",
          "data": {
            "text/plain": [
              "AdaBoostClassifier()"
            ],
            "text/html": [
              "<style>#sk-container-id-71 {color: black;background-color: white;}#sk-container-id-71 pre{padding: 0;}#sk-container-id-71 div.sk-toggleable {background-color: white;}#sk-container-id-71 label.sk-toggleable__label {cursor: pointer;display: block;width: 100%;margin-bottom: 0;padding: 0.3em;box-sizing: border-box;text-align: center;}#sk-container-id-71 label.sk-toggleable__label-arrow:before {content: \"▸\";float: left;margin-right: 0.25em;color: #696969;}#sk-container-id-71 label.sk-toggleable__label-arrow:hover:before {color: black;}#sk-container-id-71 div.sk-estimator:hover label.sk-toggleable__label-arrow:before {color: black;}#sk-container-id-71 div.sk-toggleable__content {max-height: 0;max-width: 0;overflow: hidden;text-align: left;background-color: #f0f8ff;}#sk-container-id-71 div.sk-toggleable__content pre {margin: 0.2em;color: black;border-radius: 0.25em;background-color: #f0f8ff;}#sk-container-id-71 input.sk-toggleable__control:checked~div.sk-toggleable__content {max-height: 200px;max-width: 100%;overflow: auto;}#sk-container-id-71 input.sk-toggleable__control:checked~label.sk-toggleable__label-arrow:before {content: \"▾\";}#sk-container-id-71 div.sk-estimator input.sk-toggleable__control:checked~label.sk-toggleable__label {background-color: #d4ebff;}#sk-container-id-71 div.sk-label input.sk-toggleable__control:checked~label.sk-toggleable__label {background-color: #d4ebff;}#sk-container-id-71 input.sk-hidden--visually {border: 0;clip: rect(1px 1px 1px 1px);clip: rect(1px, 1px, 1px, 1px);height: 1px;margin: -1px;overflow: hidden;padding: 0;position: absolute;width: 1px;}#sk-container-id-71 div.sk-estimator {font-family: monospace;background-color: #f0f8ff;border: 1px dotted black;border-radius: 0.25em;box-sizing: border-box;margin-bottom: 0.5em;}#sk-container-id-71 div.sk-estimator:hover {background-color: #d4ebff;}#sk-container-id-71 div.sk-parallel-item::after {content: \"\";width: 100%;border-bottom: 1px solid gray;flex-grow: 1;}#sk-container-id-71 div.sk-label:hover label.sk-toggleable__label {background-color: #d4ebff;}#sk-container-id-71 div.sk-serial::before {content: \"\";position: absolute;border-left: 1px solid gray;box-sizing: border-box;top: 0;bottom: 0;left: 50%;z-index: 0;}#sk-container-id-71 div.sk-serial {display: flex;flex-direction: column;align-items: center;background-color: white;padding-right: 0.2em;padding-left: 0.2em;position: relative;}#sk-container-id-71 div.sk-item {position: relative;z-index: 1;}#sk-container-id-71 div.sk-parallel {display: flex;align-items: stretch;justify-content: center;background-color: white;position: relative;}#sk-container-id-71 div.sk-item::before, #sk-container-id-71 div.sk-parallel-item::before {content: \"\";position: absolute;border-left: 1px solid gray;box-sizing: border-box;top: 0;bottom: 0;left: 50%;z-index: -1;}#sk-container-id-71 div.sk-parallel-item {display: flex;flex-direction: column;z-index: 1;position: relative;background-color: white;}#sk-container-id-71 div.sk-parallel-item:first-child::after {align-self: flex-end;width: 50%;}#sk-container-id-71 div.sk-parallel-item:last-child::after {align-self: flex-start;width: 50%;}#sk-container-id-71 div.sk-parallel-item:only-child::after {width: 0;}#sk-container-id-71 div.sk-dashed-wrapped {border: 1px dashed gray;margin: 0 0.4em 0.5em 0.4em;box-sizing: border-box;padding-bottom: 0.4em;background-color: white;}#sk-container-id-71 div.sk-label label {font-family: monospace;font-weight: bold;display: inline-block;line-height: 1.2em;}#sk-container-id-71 div.sk-label-container {text-align: center;}#sk-container-id-71 div.sk-container {/* jupyter's `normalize.less` sets `[hidden] { display: none; }` but bootstrap.min.css set `[hidden] { display: none !important; }` so we also need the `!important` here to be able to override the default hidden behavior on the sphinx rendered scikit-learn.org. See: https://github.com/scikit-learn/scikit-learn/issues/21755 */display: inline-block !important;position: relative;}#sk-container-id-71 div.sk-text-repr-fallback {display: none;}</style><div id=\"sk-container-id-71\" class=\"sk-top-container\"><div class=\"sk-text-repr-fallback\"><pre>AdaBoostClassifier()</pre><b>In a Jupyter environment, please rerun this cell to show the HTML representation or trust the notebook. <br />On GitHub, the HTML representation is unable to render, please try loading this page with nbviewer.org.</b></div><div class=\"sk-container\" hidden><div class=\"sk-item\"><div class=\"sk-estimator sk-toggleable\"><input class=\"sk-toggleable__control sk-hidden--visually\" id=\"sk-estimator-id-254\" type=\"checkbox\" checked><label for=\"sk-estimator-id-254\" class=\"sk-toggleable__label sk-toggleable__label-arrow\">AdaBoostClassifier</label><div class=\"sk-toggleable__content\"><pre>AdaBoostClassifier()</pre></div></div></div></div></div>"
            ]
          },
          "metadata": {},
          "execution_count": 49
        }
      ]
    },
    {
      "cell_type": "code",
      "source": [
        "ada_param_bayes_space = {\"selectkbest__k\": Integer(low=10, high=43),\n",
        "                         'pca__n_components': Real(low=0.4, high=0.95, prior=\"uniform\"),\n",
        "                         \"adaboostclassifier__learning_rate\": Real(low=0.01, high=1, prior=\"uniform\"),\n",
        "                         \"adaboostclassifier__n_estimators\": Integer(low=50, high=200)}"
      ],
      "metadata": {
        "id": "ryHDSx8KhAzm"
      },
      "execution_count": null,
      "outputs": []
    },
    {
      "cell_type": "markdown",
      "source": [
        "#### Random ForestClassifier"
      ],
      "metadata": {
        "id": "53hS92nyNww7"
      }
    },
    {
      "cell_type": "code",
      "source": [
        "full_pipeline.named_steps['randomforestclassifier'].get_params()"
      ],
      "metadata": {
        "colab": {
          "base_uri": "https://localhost:8080/"
        },
        "id": "jCUOW6qxNzlA",
        "outputId": "533853c6-6b6b-4d26-b14d-5f190a952213"
      },
      "execution_count": null,
      "outputs": [
        {
          "output_type": "execute_result",
          "data": {
            "text/plain": [
              "{'bootstrap': True,\n",
              " 'ccp_alpha': 0.0,\n",
              " 'class_weight': 'balanced',\n",
              " 'criterion': 'gini',\n",
              " 'max_depth': None,\n",
              " 'max_features': 'sqrt',\n",
              " 'max_leaf_nodes': None,\n",
              " 'max_samples': None,\n",
              " 'min_impurity_decrease': 0.0,\n",
              " 'min_samples_leaf': 1,\n",
              " 'min_samples_split': 2,\n",
              " 'min_weight_fraction_leaf': 0.0,\n",
              " 'n_estimators': 100,\n",
              " 'n_jobs': None,\n",
              " 'oob_score': False,\n",
              " 'random_state': None,\n",
              " 'verbose': 0,\n",
              " 'warm_start': False}"
            ]
          },
          "metadata": {},
          "execution_count": 149
        }
      ]
    },
    {
      "cell_type": "code",
      "source": [
        "RandomForestClassifier(class_weight = 'balanced',\n",
        "                       n_jobs = -1)"
      ],
      "metadata": {
        "colab": {
          "base_uri": "https://localhost:8080/",
          "height": 75
        },
        "id": "Fc24Z-R6QASs",
        "outputId": "be703417-a52d-4ffa-9db0-1f56fef06477"
      },
      "execution_count": null,
      "outputs": [
        {
          "output_type": "execute_result",
          "data": {
            "text/plain": [
              "RandomForestClassifier(class_weight='balanced')"
            ],
            "text/html": [
              "<style>#sk-container-id-44 {color: black;background-color: white;}#sk-container-id-44 pre{padding: 0;}#sk-container-id-44 div.sk-toggleable {background-color: white;}#sk-container-id-44 label.sk-toggleable__label {cursor: pointer;display: block;width: 100%;margin-bottom: 0;padding: 0.3em;box-sizing: border-box;text-align: center;}#sk-container-id-44 label.sk-toggleable__label-arrow:before {content: \"▸\";float: left;margin-right: 0.25em;color: #696969;}#sk-container-id-44 label.sk-toggleable__label-arrow:hover:before {color: black;}#sk-container-id-44 div.sk-estimator:hover label.sk-toggleable__label-arrow:before {color: black;}#sk-container-id-44 div.sk-toggleable__content {max-height: 0;max-width: 0;overflow: hidden;text-align: left;background-color: #f0f8ff;}#sk-container-id-44 div.sk-toggleable__content pre {margin: 0.2em;color: black;border-radius: 0.25em;background-color: #f0f8ff;}#sk-container-id-44 input.sk-toggleable__control:checked~div.sk-toggleable__content {max-height: 200px;max-width: 100%;overflow: auto;}#sk-container-id-44 input.sk-toggleable__control:checked~label.sk-toggleable__label-arrow:before {content: \"▾\";}#sk-container-id-44 div.sk-estimator input.sk-toggleable__control:checked~label.sk-toggleable__label {background-color: #d4ebff;}#sk-container-id-44 div.sk-label input.sk-toggleable__control:checked~label.sk-toggleable__label {background-color: #d4ebff;}#sk-container-id-44 input.sk-hidden--visually {border: 0;clip: rect(1px 1px 1px 1px);clip: rect(1px, 1px, 1px, 1px);height: 1px;margin: -1px;overflow: hidden;padding: 0;position: absolute;width: 1px;}#sk-container-id-44 div.sk-estimator {font-family: monospace;background-color: #f0f8ff;border: 1px dotted black;border-radius: 0.25em;box-sizing: border-box;margin-bottom: 0.5em;}#sk-container-id-44 div.sk-estimator:hover {background-color: #d4ebff;}#sk-container-id-44 div.sk-parallel-item::after {content: \"\";width: 100%;border-bottom: 1px solid gray;flex-grow: 1;}#sk-container-id-44 div.sk-label:hover label.sk-toggleable__label {background-color: #d4ebff;}#sk-container-id-44 div.sk-serial::before {content: \"\";position: absolute;border-left: 1px solid gray;box-sizing: border-box;top: 0;bottom: 0;left: 50%;z-index: 0;}#sk-container-id-44 div.sk-serial {display: flex;flex-direction: column;align-items: center;background-color: white;padding-right: 0.2em;padding-left: 0.2em;position: relative;}#sk-container-id-44 div.sk-item {position: relative;z-index: 1;}#sk-container-id-44 div.sk-parallel {display: flex;align-items: stretch;justify-content: center;background-color: white;position: relative;}#sk-container-id-44 div.sk-item::before, #sk-container-id-44 div.sk-parallel-item::before {content: \"\";position: absolute;border-left: 1px solid gray;box-sizing: border-box;top: 0;bottom: 0;left: 50%;z-index: -1;}#sk-container-id-44 div.sk-parallel-item {display: flex;flex-direction: column;z-index: 1;position: relative;background-color: white;}#sk-container-id-44 div.sk-parallel-item:first-child::after {align-self: flex-end;width: 50%;}#sk-container-id-44 div.sk-parallel-item:last-child::after {align-self: flex-start;width: 50%;}#sk-container-id-44 div.sk-parallel-item:only-child::after {width: 0;}#sk-container-id-44 div.sk-dashed-wrapped {border: 1px dashed gray;margin: 0 0.4em 0.5em 0.4em;box-sizing: border-box;padding-bottom: 0.4em;background-color: white;}#sk-container-id-44 div.sk-label label {font-family: monospace;font-weight: bold;display: inline-block;line-height: 1.2em;}#sk-container-id-44 div.sk-label-container {text-align: center;}#sk-container-id-44 div.sk-container {/* jupyter's `normalize.less` sets `[hidden] { display: none; }` but bootstrap.min.css set `[hidden] { display: none !important; }` so we also need the `!important` here to be able to override the default hidden behavior on the sphinx rendered scikit-learn.org. See: https://github.com/scikit-learn/scikit-learn/issues/21755 */display: inline-block !important;position: relative;}#sk-container-id-44 div.sk-text-repr-fallback {display: none;}</style><div id=\"sk-container-id-44\" class=\"sk-top-container\"><div class=\"sk-text-repr-fallback\"><pre>RandomForestClassifier(class_weight=&#x27;balanced&#x27;)</pre><b>In a Jupyter environment, please rerun this cell to show the HTML representation or trust the notebook. <br />On GitHub, the HTML representation is unable to render, please try loading this page with nbviewer.org.</b></div><div class=\"sk-container\" hidden><div class=\"sk-item\"><div class=\"sk-estimator sk-toggleable\"><input class=\"sk-toggleable__control sk-hidden--visually\" id=\"sk-estimator-id-483\" type=\"checkbox\" checked><label for=\"sk-estimator-id-483\" class=\"sk-toggleable__label sk-toggleable__label-arrow\">RandomForestClassifier</label><div class=\"sk-toggleable__content\"><pre>RandomForestClassifier(class_weight=&#x27;balanced&#x27;)</pre></div></div></div></div></div>"
            ]
          },
          "metadata": {},
          "execution_count": 147
        }
      ]
    },
    {
      "cell_type": "code",
      "source": [
        "rf_param_bayes_space = {\"selectkbest__k\": Integer(low=10, high=43),\n",
        "                        'pca__n_components': Real(low=0.4, high=0.95, prior=\"uniform\"),\n",
        "                        \"randomforestclassifier__n_estimators\": Integer(low=100, high=1000),\n",
        "                        \"randomforestclassifier__max_depth\": Integer(low=4, high=20),\n",
        "                        \"randomforestclassifier__min_samples_split\": Integer(low=2, high=20),\n",
        "                        \"randomforestclassifier__min_samples_leaf\": Integer(low=1, high=10),\n",
        "                        \"randomforestclassifier__class_weight\": Categorical([\"balanced\", None]),\n",
        "                        \"randomforestclassifier__min_impurity_decrease\": Real(low=0, high=0.5),\n",
        "                        \"randomforestclassifier__ccp_alpha\": Real(low=0, high=0.15)}"
      ],
      "metadata": {
        "id": "Dsja48OLOBQG"
      },
      "execution_count": null,
      "outputs": []
    },
    {
      "cell_type": "markdown",
      "source": [
        "#### Logistic Regression"
      ],
      "metadata": {
        "id": "xxYjKvhFZ0Sc"
      }
    },
    {
      "cell_type": "code",
      "source": [
        "full_pipeline.named_steps['logisticregression'].get_params()"
      ],
      "metadata": {
        "colab": {
          "base_uri": "https://localhost:8080/"
        },
        "id": "FRBvxoP0bUc-",
        "outputId": "2ce51bb9-8405-49ee-d6c5-79cb0163807b"
      },
      "execution_count": null,
      "outputs": [
        {
          "output_type": "execute_result",
          "data": {
            "text/plain": [
              "{'C': 1.0,\n",
              " 'class_weight': 'balanced',\n",
              " 'dual': False,\n",
              " 'fit_intercept': True,\n",
              " 'intercept_scaling': 1,\n",
              " 'l1_ratio': None,\n",
              " 'max_iter': 100,\n",
              " 'multi_class': 'auto',\n",
              " 'n_jobs': -1,\n",
              " 'penalty': 'l2',\n",
              " 'random_state': None,\n",
              " 'solver': 'lbfgs',\n",
              " 'tol': 0.0001,\n",
              " 'verbose': 0,\n",
              " 'warm_start': False}"
            ]
          },
          "metadata": {},
          "execution_count": 35
        }
      ]
    },
    {
      "cell_type": "code",
      "source": [
        "LogisticRegression(class_weight = 'balanced',\n",
        "                   n_jobs = -1)"
      ],
      "metadata": {
        "colab": {
          "base_uri": "https://localhost:8080/",
          "height": 75
        },
        "id": "bM-yFml0bg6X",
        "outputId": "8eff398f-26ec-44b7-deac-fa00e0ec8974"
      },
      "execution_count": null,
      "outputs": [
        {
          "output_type": "execute_result",
          "data": {
            "text/plain": [
              "LogisticRegression(class_weight='balanced', n_jobs=-1)"
            ],
            "text/html": [
              "<style>#sk-container-id-3 {color: black;background-color: white;}#sk-container-id-3 pre{padding: 0;}#sk-container-id-3 div.sk-toggleable {background-color: white;}#sk-container-id-3 label.sk-toggleable__label {cursor: pointer;display: block;width: 100%;margin-bottom: 0;padding: 0.3em;box-sizing: border-box;text-align: center;}#sk-container-id-3 label.sk-toggleable__label-arrow:before {content: \"▸\";float: left;margin-right: 0.25em;color: #696969;}#sk-container-id-3 label.sk-toggleable__label-arrow:hover:before {color: black;}#sk-container-id-3 div.sk-estimator:hover label.sk-toggleable__label-arrow:before {color: black;}#sk-container-id-3 div.sk-toggleable__content {max-height: 0;max-width: 0;overflow: hidden;text-align: left;background-color: #f0f8ff;}#sk-container-id-3 div.sk-toggleable__content pre {margin: 0.2em;color: black;border-radius: 0.25em;background-color: #f0f8ff;}#sk-container-id-3 input.sk-toggleable__control:checked~div.sk-toggleable__content {max-height: 200px;max-width: 100%;overflow: auto;}#sk-container-id-3 input.sk-toggleable__control:checked~label.sk-toggleable__label-arrow:before {content: \"▾\";}#sk-container-id-3 div.sk-estimator input.sk-toggleable__control:checked~label.sk-toggleable__label {background-color: #d4ebff;}#sk-container-id-3 div.sk-label input.sk-toggleable__control:checked~label.sk-toggleable__label {background-color: #d4ebff;}#sk-container-id-3 input.sk-hidden--visually {border: 0;clip: rect(1px 1px 1px 1px);clip: rect(1px, 1px, 1px, 1px);height: 1px;margin: -1px;overflow: hidden;padding: 0;position: absolute;width: 1px;}#sk-container-id-3 div.sk-estimator {font-family: monospace;background-color: #f0f8ff;border: 1px dotted black;border-radius: 0.25em;box-sizing: border-box;margin-bottom: 0.5em;}#sk-container-id-3 div.sk-estimator:hover {background-color: #d4ebff;}#sk-container-id-3 div.sk-parallel-item::after {content: \"\";width: 100%;border-bottom: 1px solid gray;flex-grow: 1;}#sk-container-id-3 div.sk-label:hover label.sk-toggleable__label {background-color: #d4ebff;}#sk-container-id-3 div.sk-serial::before {content: \"\";position: absolute;border-left: 1px solid gray;box-sizing: border-box;top: 0;bottom: 0;left: 50%;z-index: 0;}#sk-container-id-3 div.sk-serial {display: flex;flex-direction: column;align-items: center;background-color: white;padding-right: 0.2em;padding-left: 0.2em;position: relative;}#sk-container-id-3 div.sk-item {position: relative;z-index: 1;}#sk-container-id-3 div.sk-parallel {display: flex;align-items: stretch;justify-content: center;background-color: white;position: relative;}#sk-container-id-3 div.sk-item::before, #sk-container-id-3 div.sk-parallel-item::before {content: \"\";position: absolute;border-left: 1px solid gray;box-sizing: border-box;top: 0;bottom: 0;left: 50%;z-index: -1;}#sk-container-id-3 div.sk-parallel-item {display: flex;flex-direction: column;z-index: 1;position: relative;background-color: white;}#sk-container-id-3 div.sk-parallel-item:first-child::after {align-self: flex-end;width: 50%;}#sk-container-id-3 div.sk-parallel-item:last-child::after {align-self: flex-start;width: 50%;}#sk-container-id-3 div.sk-parallel-item:only-child::after {width: 0;}#sk-container-id-3 div.sk-dashed-wrapped {border: 1px dashed gray;margin: 0 0.4em 0.5em 0.4em;box-sizing: border-box;padding-bottom: 0.4em;background-color: white;}#sk-container-id-3 div.sk-label label {font-family: monospace;font-weight: bold;display: inline-block;line-height: 1.2em;}#sk-container-id-3 div.sk-label-container {text-align: center;}#sk-container-id-3 div.sk-container {/* jupyter's `normalize.less` sets `[hidden] { display: none; }` but bootstrap.min.css set `[hidden] { display: none !important; }` so we also need the `!important` here to be able to override the default hidden behavior on the sphinx rendered scikit-learn.org. See: https://github.com/scikit-learn/scikit-learn/issues/21755 */display: inline-block !important;position: relative;}#sk-container-id-3 div.sk-text-repr-fallback {display: none;}</style><div id=\"sk-container-id-3\" class=\"sk-top-container\"><div class=\"sk-text-repr-fallback\"><pre>LogisticRegression(class_weight=&#x27;balanced&#x27;, n_jobs=-1)</pre><b>In a Jupyter environment, please rerun this cell to show the HTML representation or trust the notebook. <br />On GitHub, the HTML representation is unable to render, please try loading this page with nbviewer.org.</b></div><div class=\"sk-container\" hidden><div class=\"sk-item\"><div class=\"sk-estimator sk-toggleable\"><input class=\"sk-toggleable__control sk-hidden--visually\" id=\"sk-estimator-id-18\" type=\"checkbox\" checked><label for=\"sk-estimator-id-18\" class=\"sk-toggleable__label sk-toggleable__label-arrow\">LogisticRegression</label><div class=\"sk-toggleable__content\"><pre>LogisticRegression(class_weight=&#x27;balanced&#x27;, n_jobs=-1)</pre></div></div></div></div></div>"
            ]
          },
          "metadata": {},
          "execution_count": 38
        }
      ]
    },
    {
      "cell_type": "code",
      "source": [
        "lr_param_bayes_space = {# \"selectkbest__k\": Integer(low=10, high=30),\n",
        "                        #'pca__n_components': Real(low=0, high=1, prior=\"uniform\"),\n",
        "                        \"C\": Integer(low=1, high=100),\n",
        "                        #\"penalty\": Categorical([\"l1\", \"l2\"]),\n",
        "                        \"tol\":  Real(low=0.0001, high=0.02),\n",
        "                        \"max_iter\": Integer(low=100, high=1000),\n",
        "                        #\"solver\": Categorical(['lbfgs', 'sag', 'newton-cg', 'liblinear', 'saga', 'newton-cholesky']),\n",
        "                        \"l1_ratio\": Real(low=0, high=1)}"
      ],
      "metadata": {
        "id": "s-S6ZN8acLg9"
      },
      "execution_count": 60,
      "outputs": []
    },
    {
      "cell_type": "markdown",
      "source": [
        "### 2.12 - Hyperparameter Tuning"
      ],
      "metadata": {
        "id": "ZgP_k0nWq0B6"
      }
    },
    {
      "cell_type": "code",
      "source": [
        "# 0. Cross-validation: evaluating estimator performance\n",
        "\"\"\"\n",
        "https://scikit-learn.org/stable/modules/cross_validation.html#cross-validation-iterators\n",
        "\"\"\"\n",
        "# Cross-validation iterators for Independent and Identically Distributed (i.i.d.) data\n",
        "# I will used alternative of cv iterators\n",
        "\n",
        "# 5 k-fold cross validation\n",
        "kf = KFold(n_splits = 5)\n",
        "\n",
        "# Stratified folds: each set contains approximately the same percentage of samples of each target class as the complete set\n",
        "skf = StratifiedKFold(n_splits = 5)\n",
        "\n",
        "# Shuffle & Split: iterator will generate a user defined number of independent train / test dataset splits\n",
        "ss = ShuffleSplit(n_splits = 5, test_size = 0.20, random_state = 123456)\n",
        "\n",
        "# Stratified ShuffleSplit cross-validator\n",
        "sss = StratifiedShuffleSplit(n_splits = 5, test_size= 0.2, random_state = 123456)"
      ],
      "metadata": {
        "id": "B9JEbBuOqzEA"
      },
      "execution_count": 24,
      "outputs": []
    },
    {
      "cell_type": "markdown",
      "source": [
        "#### BayesSearchCV"
      ],
      "metadata": {
        "id": "XD02PUYANPRt"
      }
    },
    {
      "cell_type": "markdown",
      "source": [
        "First, hyperparameter tuning is performed locally. With the obtained results, an experiment is loaded into MLflow to track performance."
      ],
      "metadata": {
        "id": "5shCHEmcabat"
      }
    },
    {
      "cell_type": "code",
      "source": [
        "# Bayesian optimization over hyperparameters\n",
        "BayesSearchCV_pipeline = BayesSearchCV(estimator = LogisticRegression(class_weight = 'balanced', n_jobs = -1),\n",
        "                                       search_spaces = lr_param_bayes_space,\n",
        "                                       n_iter = 20,\n",
        "                                       scoring = \"f1\",\n",
        "                                       cv = sss,\n",
        "                                       n_jobs = 1,\n",
        "                                       refit = True,\n",
        "                                       random_state = 123456,\n",
        "                                       return_train_score = True)"
      ],
      "metadata": {
        "id": "WhmFde_RM3Gn"
      },
      "execution_count": 66,
      "outputs": []
    },
    {
      "cell_type": "code",
      "source": [
        "#Fit the model.\n",
        "%%time\n",
        "BayesSearchCV_pipeline.fit(X_train, y_train)"
      ],
      "metadata": {
        "id": "edlYz2UuaOTK",
        "outputId": "5c7ee0bc-7cdd-4ff8-f08c-bf665aa3820a",
        "colab": {
          "base_uri": "https://localhost:8080/",
          "height": 152
        }
      },
      "execution_count": 67,
      "outputs": [
        {
          "output_type": "stream",
          "name": "stdout",
          "text": [
            "CPU times: user 1min 28s, sys: 19.7 s, total: 1min 48s\n",
            "Wall time: 4min 41s\n"
          ]
        },
        {
          "output_type": "execute_result",
          "data": {
            "text/plain": [
              "BayesSearchCV(cv=StratifiedShuffleSplit(n_splits=5, random_state=123456, test_size=0.2,\n",
              "            train_size=None),\n",
              "              estimator=LogisticRegression(class_weight='balanced', n_jobs=-1),\n",
              "              n_iter=20, random_state=123456, return_train_score=True,\n",
              "              scoring='f1',\n",
              "              search_spaces={'C': Integer(low=1, high=100, prior='uniform', transform='normalize'),\n",
              "                             'l1_ratio': Real(low=0, high=1, prior='uniform', transform='normalize'),\n",
              "                             'max_iter': Integer(low=100, high=1000, prior='uniform', transform='normalize'),\n",
              "                             'tol': Real(low=0.0001, high=0.02, prior='uniform', transform='normalize')})"
            ],
            "text/html": [
              "<style>#sk-container-id-8 {color: black;background-color: white;}#sk-container-id-8 pre{padding: 0;}#sk-container-id-8 div.sk-toggleable {background-color: white;}#sk-container-id-8 label.sk-toggleable__label {cursor: pointer;display: block;width: 100%;margin-bottom: 0;padding: 0.3em;box-sizing: border-box;text-align: center;}#sk-container-id-8 label.sk-toggleable__label-arrow:before {content: \"▸\";float: left;margin-right: 0.25em;color: #696969;}#sk-container-id-8 label.sk-toggleable__label-arrow:hover:before {color: black;}#sk-container-id-8 div.sk-estimator:hover label.sk-toggleable__label-arrow:before {color: black;}#sk-container-id-8 div.sk-toggleable__content {max-height: 0;max-width: 0;overflow: hidden;text-align: left;background-color: #f0f8ff;}#sk-container-id-8 div.sk-toggleable__content pre {margin: 0.2em;color: black;border-radius: 0.25em;background-color: #f0f8ff;}#sk-container-id-8 input.sk-toggleable__control:checked~div.sk-toggleable__content {max-height: 200px;max-width: 100%;overflow: auto;}#sk-container-id-8 input.sk-toggleable__control:checked~label.sk-toggleable__label-arrow:before {content: \"▾\";}#sk-container-id-8 div.sk-estimator input.sk-toggleable__control:checked~label.sk-toggleable__label {background-color: #d4ebff;}#sk-container-id-8 div.sk-label input.sk-toggleable__control:checked~label.sk-toggleable__label {background-color: #d4ebff;}#sk-container-id-8 input.sk-hidden--visually {border: 0;clip: rect(1px 1px 1px 1px);clip: rect(1px, 1px, 1px, 1px);height: 1px;margin: -1px;overflow: hidden;padding: 0;position: absolute;width: 1px;}#sk-container-id-8 div.sk-estimator {font-family: monospace;background-color: #f0f8ff;border: 1px dotted black;border-radius: 0.25em;box-sizing: border-box;margin-bottom: 0.5em;}#sk-container-id-8 div.sk-estimator:hover {background-color: #d4ebff;}#sk-container-id-8 div.sk-parallel-item::after {content: \"\";width: 100%;border-bottom: 1px solid gray;flex-grow: 1;}#sk-container-id-8 div.sk-label:hover label.sk-toggleable__label {background-color: #d4ebff;}#sk-container-id-8 div.sk-serial::before {content: \"\";position: absolute;border-left: 1px solid gray;box-sizing: border-box;top: 0;bottom: 0;left: 50%;z-index: 0;}#sk-container-id-8 div.sk-serial {display: flex;flex-direction: column;align-items: center;background-color: white;padding-right: 0.2em;padding-left: 0.2em;position: relative;}#sk-container-id-8 div.sk-item {position: relative;z-index: 1;}#sk-container-id-8 div.sk-parallel {display: flex;align-items: stretch;justify-content: center;background-color: white;position: relative;}#sk-container-id-8 div.sk-item::before, #sk-container-id-8 div.sk-parallel-item::before {content: \"\";position: absolute;border-left: 1px solid gray;box-sizing: border-box;top: 0;bottom: 0;left: 50%;z-index: -1;}#sk-container-id-8 div.sk-parallel-item {display: flex;flex-direction: column;z-index: 1;position: relative;background-color: white;}#sk-container-id-8 div.sk-parallel-item:first-child::after {align-self: flex-end;width: 50%;}#sk-container-id-8 div.sk-parallel-item:last-child::after {align-self: flex-start;width: 50%;}#sk-container-id-8 div.sk-parallel-item:only-child::after {width: 0;}#sk-container-id-8 div.sk-dashed-wrapped {border: 1px dashed gray;margin: 0 0.4em 0.5em 0.4em;box-sizing: border-box;padding-bottom: 0.4em;background-color: white;}#sk-container-id-8 div.sk-label label {font-family: monospace;font-weight: bold;display: inline-block;line-height: 1.2em;}#sk-container-id-8 div.sk-label-container {text-align: center;}#sk-container-id-8 div.sk-container {/* jupyter's `normalize.less` sets `[hidden] { display: none; }` but bootstrap.min.css set `[hidden] { display: none !important; }` so we also need the `!important` here to be able to override the default hidden behavior on the sphinx rendered scikit-learn.org. See: https://github.com/scikit-learn/scikit-learn/issues/21755 */display: inline-block !important;position: relative;}#sk-container-id-8 div.sk-text-repr-fallback {display: none;}</style><div id=\"sk-container-id-8\" class=\"sk-top-container\"><div class=\"sk-text-repr-fallback\"><pre>BayesSearchCV(cv=StratifiedShuffleSplit(n_splits=5, random_state=123456, test_size=0.2,\n",
              "            train_size=None),\n",
              "              estimator=LogisticRegression(class_weight=&#x27;balanced&#x27;, n_jobs=-1),\n",
              "              n_iter=20, random_state=123456, return_train_score=True,\n",
              "              scoring=&#x27;f1&#x27;,\n",
              "              search_spaces={&#x27;C&#x27;: Integer(low=1, high=100, prior=&#x27;uniform&#x27;, transform=&#x27;normalize&#x27;),\n",
              "                             &#x27;l1_ratio&#x27;: Real(low=0, high=1, prior=&#x27;uniform&#x27;, transform=&#x27;normalize&#x27;),\n",
              "                             &#x27;max_iter&#x27;: Integer(low=100, high=1000, prior=&#x27;uniform&#x27;, transform=&#x27;normalize&#x27;),\n",
              "                             &#x27;tol&#x27;: Real(low=0.0001, high=0.02, prior=&#x27;uniform&#x27;, transform=&#x27;normalize&#x27;)})</pre><b>In a Jupyter environment, please rerun this cell to show the HTML representation or trust the notebook. <br />On GitHub, the HTML representation is unable to render, please try loading this page with nbviewer.org.</b></div><div class=\"sk-container\" hidden><div class=\"sk-item sk-dashed-wrapped\"><div class=\"sk-label-container\"><div class=\"sk-label sk-toggleable\"><input class=\"sk-toggleable__control sk-hidden--visually\" id=\"sk-estimator-id-42\" type=\"checkbox\" ><label for=\"sk-estimator-id-42\" class=\"sk-toggleable__label sk-toggleable__label-arrow\">BayesSearchCV</label><div class=\"sk-toggleable__content\"><pre>BayesSearchCV(cv=StratifiedShuffleSplit(n_splits=5, random_state=123456, test_size=0.2,\n",
              "            train_size=None),\n",
              "              estimator=LogisticRegression(class_weight=&#x27;balanced&#x27;, n_jobs=-1),\n",
              "              n_iter=20, random_state=123456, return_train_score=True,\n",
              "              scoring=&#x27;f1&#x27;,\n",
              "              search_spaces={&#x27;C&#x27;: Integer(low=1, high=100, prior=&#x27;uniform&#x27;, transform=&#x27;normalize&#x27;),\n",
              "                             &#x27;l1_ratio&#x27;: Real(low=0, high=1, prior=&#x27;uniform&#x27;, transform=&#x27;normalize&#x27;),\n",
              "                             &#x27;max_iter&#x27;: Integer(low=100, high=1000, prior=&#x27;uniform&#x27;, transform=&#x27;normalize&#x27;),\n",
              "                             &#x27;tol&#x27;: Real(low=0.0001, high=0.02, prior=&#x27;uniform&#x27;, transform=&#x27;normalize&#x27;)})</pre></div></div></div><div class=\"sk-parallel\"><div class=\"sk-parallel-item\"><div class=\"sk-item\"><div class=\"sk-label-container\"><div class=\"sk-label sk-toggleable\"><input class=\"sk-toggleable__control sk-hidden--visually\" id=\"sk-estimator-id-43\" type=\"checkbox\" ><label for=\"sk-estimator-id-43\" class=\"sk-toggleable__label sk-toggleable__label-arrow\">estimator: LogisticRegression</label><div class=\"sk-toggleable__content\"><pre>LogisticRegression(class_weight=&#x27;balanced&#x27;, n_jobs=-1)</pre></div></div></div><div class=\"sk-serial\"><div class=\"sk-item\"><div class=\"sk-estimator sk-toggleable\"><input class=\"sk-toggleable__control sk-hidden--visually\" id=\"sk-estimator-id-44\" type=\"checkbox\" ><label for=\"sk-estimator-id-44\" class=\"sk-toggleable__label sk-toggleable__label-arrow\">LogisticRegression</label><div class=\"sk-toggleable__content\"><pre>LogisticRegression(class_weight=&#x27;balanced&#x27;, n_jobs=-1)</pre></div></div></div></div></div></div></div></div></div></div>"
            ]
          },
          "metadata": {},
          "execution_count": 67
        }
      ]
    },
    {
      "cell_type": "code",
      "source": [
        "# Cross validation results\n",
        "BayesSearchCV_pipeline.cv_results_"
      ],
      "metadata": {
        "id": "QP4b7DQtm0vL",
        "outputId": "5425ba15-985b-4135-d2e6-be7f23851b56",
        "colab": {
          "base_uri": "https://localhost:8080/"
        }
      },
      "execution_count": 63,
      "outputs": [
        {
          "output_type": "execute_result",
          "data": {
            "text/plain": [
              "{'mean_fit_time': array([2.26386924, 2.17443647, 1.90529294, 2.2614871 , 2.02996092]),\n",
              " 'std_fit_time': array([0.30781913, 0.15148824, 0.56302263, 0.37541063, 0.82054748]),\n",
              " 'mean_score_time': array([0.05788383, 0.05258913, 0.0606822 , 0.06219287, 0.05195842]),\n",
              " 'std_score_time': array([0.01983228, 0.01667656, 0.01489972, 0.03620173, 0.01697415]),\n",
              " 'param_C': masked_array(data=[65, 22, 53, 22, 54],\n",
              "              mask=[False, False, False, False, False],\n",
              "        fill_value='?',\n",
              "             dtype=object),\n",
              " 'param_l1_ratio': masked_array(data=[0.2439194500163286, 0.558066737378896,\n",
              "                    0.5354617667071475, 0.2793016110574112,\n",
              "                    0.6398708035104882],\n",
              "              mask=[False, False, False, False, False],\n",
              "        fill_value='?',\n",
              "             dtype=object),\n",
              " 'param_max_iter': masked_array(data=[810, 153, 445, 735, 466],\n",
              "              mask=[False, False, False, False, False],\n",
              "        fill_value='?',\n",
              "             dtype=object),\n",
              " 'param_tol': masked_array(data=[0.014348835802278966, 0.008863646881152293,\n",
              "                    0.005871678955021, 0.015005462698630779,\n",
              "                    0.012737212242631225],\n",
              "              mask=[False, False, False, False, False],\n",
              "        fill_value='?',\n",
              "             dtype=object),\n",
              " 'params': [OrderedDict([('C', 65),\n",
              "               ('l1_ratio', 0.2439194500163286),\n",
              "               ('max_iter', 810),\n",
              "               ('tol', 0.014348835802278966)]),\n",
              "  OrderedDict([('C', 22),\n",
              "               ('l1_ratio', 0.558066737378896),\n",
              "               ('max_iter', 153),\n",
              "               ('tol', 0.008863646881152293)]),\n",
              "  OrderedDict([('C', 53),\n",
              "               ('l1_ratio', 0.5354617667071475),\n",
              "               ('max_iter', 445),\n",
              "               ('tol', 0.005871678955021)]),\n",
              "  OrderedDict([('C', 22),\n",
              "               ('l1_ratio', 0.2793016110574112),\n",
              "               ('max_iter', 735),\n",
              "               ('tol', 0.015005462698630779)]),\n",
              "  OrderedDict([('C', 54),\n",
              "               ('l1_ratio', 0.6398708035104882),\n",
              "               ('max_iter', 466),\n",
              "               ('tol', 0.012737212242631225)])],\n",
              " 'split0_test_score': array([0.11036584, 0.11036584, 0.11036584, 0.11036584, 0.11036584]),\n",
              " 'split1_test_score': array([0.10782609, 0.10782609, 0.10782609, 0.10782609, 0.10782609]),\n",
              " 'split2_test_score': array([0.10992569, 0.10992569, 0.10992569, 0.10992569, 0.10992569]),\n",
              " 'split3_test_score': array([0.1097561, 0.1097561, 0.1097561, 0.1097561, 0.1097561]),\n",
              " 'split4_test_score': array([0.10908244, 0.10908244, 0.10908244, 0.10908244, 0.10908244]),\n",
              " 'mean_test_score': array([0.10939123, 0.10939123, 0.10939123, 0.10939123, 0.10939123]),\n",
              " 'std_test_score': array([0.00088472, 0.00088472, 0.00088472, 0.00088472, 0.00088472]),\n",
              " 'rank_test_score': array([1, 1, 1, 1, 1], dtype=int32),\n",
              " 'split0_train_score': array([0.10941743, 0.10941743, 0.10941743, 0.10941743, 0.10941743]),\n",
              " 'split1_train_score': array([0.10973387, 0.10973387, 0.10973387, 0.10973387, 0.10973387]),\n",
              " 'split2_train_score': array([0.10901771, 0.10901771, 0.10901771, 0.10901771, 0.10901771]),\n",
              " 'split3_train_score': array([0.10909064, 0.10909064, 0.10909064, 0.10909064, 0.10909064]),\n",
              " 'split4_train_score': array([0.10978789, 0.10978789, 0.10978789, 0.10978789, 0.10978789]),\n",
              " 'mean_train_score': array([0.10940951, 0.10940951, 0.10940951, 0.10940951, 0.10940951]),\n",
              " 'std_train_score': array([0.00031737, 0.00031737, 0.00031737, 0.00031737, 0.00031737]),\n",
              " 'rank_train_score': array([1, 1, 1, 1, 1])}"
            ]
          },
          "metadata": {},
          "execution_count": 63
        }
      ]
    },
    {
      "cell_type": "code",
      "source": [
        "# Best score\n",
        "BayesSearchCV_pipeline.best_score_"
      ],
      "metadata": {
        "id": "AeBXfWzacq2p",
        "outputId": "c745696e-689f-463a-eb1e-ac45933e1480",
        "colab": {
          "base_uri": "https://localhost:8080/"
        }
      },
      "execution_count": 64,
      "outputs": [
        {
          "output_type": "execute_result",
          "data": {
            "text/plain": [
              "0.1093912305686923"
            ]
          },
          "metadata": {},
          "execution_count": 64
        }
      ]
    },
    {
      "cell_type": "code",
      "source": [
        "# Best parameters\n",
        "BayesSearchCV_pipeline.best_params_"
      ],
      "metadata": {
        "id": "RxoN93z7cwB4",
        "outputId": "5213d5c6-c7be-4ddc-849a-660cc5ba9542",
        "colab": {
          "base_uri": "https://localhost:8080/"
        }
      },
      "execution_count": 65,
      "outputs": [
        {
          "output_type": "execute_result",
          "data": {
            "text/plain": [
              "OrderedDict([('C', 65),\n",
              "             ('l1_ratio', 0.2439194500163286),\n",
              "             ('max_iter', 810),\n",
              "             ('tol', 0.014348835802278966)])"
            ]
          },
          "metadata": {},
          "execution_count": 65
        }
      ]
    },
    {
      "cell_type": "markdown",
      "source": [
        "### 2.13 - Experimentation"
      ],
      "metadata": {
        "id": "mXOkDwySrGFB"
      }
    },
    {
      "cell_type": "markdown",
      "source": [
        "In this section, using MLflow, I will to record and query experiments: code, data, config, and results."
      ],
      "metadata": {
        "id": "ydCfk5dqrQcp"
      }
    },
    {
      "cell_type": "markdown",
      "source": [
        "#### Import mlruns from Google Drive"
      ],
      "metadata": {
        "id": "uNmYw_K_-vo4"
      }
    },
    {
      "cell_type": "code",
      "source": [
        "# Mount Google Drive\n",
        "drive.mount('/content/drive')\n",
        "\n",
        "# Specify the source path in Google Drive\n",
        "drive_folderpath_mlruns = '/content/drive/MyDrive/DataScience_Portfolio/04-Churn_Telco_Analysis/'\n",
        "\n",
        "# Specify the destination path in Colab\n",
        "colab_folder_path = '/content/'\n",
        "\n",
        "# Copy the folder from Google Drive to Colab\n",
        "try:\n",
        "  shutil.copytree(drive_folderpath_mlruns + '/mlruns', colab_folder_path + '/mlruns', dirs_exist_ok = True)\n",
        "except:\n",
        "  pass"
      ],
      "metadata": {
        "id": "2m7n_UrO-x1K",
        "colab": {
          "base_uri": "https://localhost:8080/"
        },
        "outputId": "99f613c9-c420-4dd1-acd3-75b1b0597e42"
      },
      "execution_count": 49,
      "outputs": [
        {
          "output_type": "stream",
          "name": "stdout",
          "text": [
            "Drive already mounted at /content/drive; to attempt to forcibly remount, call drive.mount(\"/content/drive\", force_remount=True).\n"
          ]
        }
      ]
    },
    {
      "cell_type": "markdown",
      "source": [
        "#### Export mlruns to Google Drive"
      ],
      "metadata": {
        "id": "Vi5uhBEp_Eam"
      }
    },
    {
      "cell_type": "code",
      "source": [
        "# Specify the temporary file or folder path in Colab\n",
        "temp_folderpath_mlruns = '/content/mlruns'\n",
        "\n",
        "# Specify the destination path in Google Drive\n",
        "drive_folderpath_mlruns = '/content/drive/MyDrive/DataScience_Portfolio/04-Churn_Telco_Analysis/mlruns'\n",
        "\n",
        "# Remove the existing folder in Google Drive\n",
        "try:\n",
        "  shutil.rmtree(drive_folderpath_mlruns)\n",
        "except:\n",
        "  pass\n",
        "\n",
        "# Copy the temporary folder to Google Drive\n",
        "shutil.copytree(temp_folderpath_mlruns, drive_folderpath_mlruns, dirs_exist_ok = True)"
      ],
      "metadata": {
        "id": "PS9LDCta_Jkm",
        "outputId": "d1983e3b-8b14-4b7b-cf21-57cc437d24b3",
        "colab": {
          "base_uri": "https://localhost:8080/",
          "height": 35
        }
      },
      "execution_count": null,
      "outputs": [
        {
          "output_type": "execute_result",
          "data": {
            "text/plain": [
              "'/content/drive/MyDrive/DataScience_Portfolio/04-Churn_Telco_Analysis/mlruns'"
            ],
            "application/vnd.google.colaboratory.intrinsic+json": {
              "type": "string"
            }
          },
          "metadata": {},
          "execution_count": 80
        }
      ]
    },
    {
      "cell_type": "markdown",
      "source": [
        "#### Experiments"
      ],
      "metadata": {
        "id": "H-AtX9Mk_aLD"
      }
    },
    {
      "cell_type": "code",
      "source": [
        "# 1 - Fit the model.\n",
        "# Fit all the transformers one after the other and transform the data. Finally, fit the transformed data using the final estimator.\n",
        "\n",
        "%%time\n",
        "description = 'LightGBMClassifier without tuned hyperparameters, all pipeline steps and perform under-sampling using ENN.'\n",
        "with mlflow.start_run(run_name = \"12-LightGBMClassifier_not_tuned_ENN\", description = description) as run:\n",
        "  full_pipeline.fit(X_train, y_train)\n",
        "  y_pred_raw = full_pipeline.predict(X_test)\n",
        "\n",
        "  # Evaluation metrics\n",
        "  y_prob_pred = full_pipeline.predict_proba(X_test)[:, 1]\n",
        "  test_auc = roc_auc_score(y_true = y_test, y_score = y_prob_pred)\n",
        "  tn, fp, fn, tp = confusion_matrix(y_test, y_pred_raw).ravel()\n",
        "  test_specificity = tn / (tn + fp)\n",
        "  test_npv = tn / (tn + fp) # Negative Predictive Value\n",
        "  test_accuracy_score = accuracy_score(y_test, y_pred_raw)\n",
        "  test_precision_score = precision_score(y_test, y_pred_raw)\n",
        "  test_recall_score = recall_score(y_test, y_pred_raw)\n",
        "  test_f1_score = f1_score(y_test, y_pred_raw)\n",
        "  test_balanced_accuracy_score = balanced_accuracy_score(y_test, y_pred_raw)\n",
        "  test_jaccard_score = jaccard_score(y_test, y_pred_raw)\n",
        "  test_matthews_corrcoef = matthews_corrcoef(y_test, y_pred_raw)\n",
        "  test_cohen_kappa_score = cohen_kappa_score(y1 = y_test, y2 = y_pred_raw)\n",
        "\n",
        "  mlflow.log_metric('testing_accuracy_score', test_accuracy_score)\n",
        "  mlflow.log_metric('testing_precision_score', test_precision_score)\n",
        "  mlflow.log_metric('testing_recall_score', test_recall_score)\n",
        "  mlflow.log_metric('testing_specificityt', test_specificity)\n",
        "  mlflow.log_metric('testing_npv_X_test', test_npv)\n",
        "  mlflow.log_metric('testing_f1_score', test_f1_score)\n",
        "  mlflow.log_metric('testing_balanced_accuracy_score', test_balanced_accuracy_score)\n",
        "  mlflow.log_metric('testing_jaccard_score', test_jaccard_score)\n",
        "  mlflow.log_metric('testing_matthews_corrcoef', test_matthews_corrcoef)\n",
        "  mlflow.log_metric('testing_cohen_kappa_score', test_cohen_kappa_score)\n",
        "  mlflow.log_metric('testing_roc_auc', test_auc)"
      ],
      "metadata": {
        "id": "x-PKp9dpsCod"
      },
      "execution_count": null,
      "outputs": []
    },
    {
      "cell_type": "code",
      "source": [
        "# 2 - Open a secure tunnels from public MLflow URL to localhost:\n",
        "ngrok.kill()\n",
        "ngrok_tunnel = ngrok.connect(addr=\"5000\", proto= \"http\", bind_tls = True)\n",
        "ngrok.set_auth_token(\"2Siae72MMz4I2KtDOd9oxxV52gU_4UHBVTbE7bFnfYw4PDvuv\")\n",
        "print(\"MLflow Tracking UI: \", ngrok_tunnel.public_url)\n",
        "\n",
        "# 3. View MLflow runs and experiments\n",
        "!mlflow ui"
      ],
      "metadata": {
        "id": "VV7oQafZUd98",
        "outputId": "4776c0f5-e31b-4720-a2b5-0b3c55f53700",
        "colab": {
          "base_uri": "https://localhost:8080/"
        }
      },
      "execution_count": null,
      "outputs": [
        {
          "output_type": "stream",
          "name": "stderr",
          "text": [
            "WARNING:pyngrok.process.ngrok:t=2023-07-31T01:18:37+0000 lvl=warn msg=\"ngrok config file found at legacy location, move to XDG location\" xdg_path=/root/.config/ngrok/ngrok.yml legacy_path=/root/.ngrok2/ngrok.yml\n"
          ]
        },
        {
          "output_type": "stream",
          "name": "stdout",
          "text": [
            "MLflow Tracking UI:  https://60d2-34-23-72-32.ngrok-free.app\n",
            "[2023-07-31 01:18:40 +0000] [7090] [INFO] Starting gunicorn 20.1.0\n",
            "[2023-07-31 01:18:40 +0000] [7090] [INFO] Listening at: http://127.0.0.1:5000 (7090)\n",
            "[2023-07-31 01:18:40 +0000] [7090] [INFO] Using worker: sync\n",
            "[2023-07-31 01:18:40 +0000] [7095] [INFO] Booting worker with pid: 7095\n",
            "[2023-07-31 01:18:40 +0000] [7096] [INFO] Booting worker with pid: 7096\n",
            "[2023-07-31 01:18:40 +0000] [7097] [INFO] Booting worker with pid: 7097\n",
            "[2023-07-31 01:18:40 +0000] [7098] [INFO] Booting worker with pid: 7098\n",
            "[2023-07-31 01:19:57 +0000] [7090] [INFO] Handling signal: int\n",
            "\n",
            "Aborted!\n",
            "[2023-07-31 01:19:57 +0000] [7098] [INFO] Worker exiting (pid: 7098)\n",
            "[2023-07-31 01:19:57 +0000] [7095] [INFO] Worker exiting (pid: 7095)\n",
            "[2023-07-31 01:19:57 +0000] [7096] [INFO] Worker exiting (pid: 7096)\n",
            "[2023-07-31 01:19:57 +0000] [7097] [INFO] Worker exiting (pid: 7097)\n",
            "[2023-07-31 01:19:58 +0000] [7090] [INFO] Shutting down: Master\n"
          ]
        }
      ]
    },
    {
      "cell_type": "markdown",
      "source": [
        "### 2.14 - Predictions"
      ],
      "metadata": {
        "id": "ExgT7T1Ze62R"
      }
    },
    {
      "cell_type": "code",
      "source": [
        "# Transform the data, and apply predict with the final estimator.\n",
        "\n",
        "# Call transform of each transformer in the pipeline.\n",
        "# The transformed data are finally passed to the final estimator that calls predict method.\n",
        "# Only valid if the final estimator implements predict.\n",
        "\n",
        "# Raw Predictions\n",
        "# target_encoder.inverse_transform to reverse label encoding, in this case not necessary.\n",
        "y_test_pred_raw = pd.DataFrame(BayesSearchCV_pipeline.predict(X_test),\n",
        "                               columns = [\"churn_pred\"])\n",
        "\n",
        "# Probability predictions\n",
        "y_test_pred_prob = pd.DataFrame(BayesSearchCV_pipeline.predict_proba(X_test), columns = [\"0\", \"1\"]).round(2)\n",
        "\n",
        "# Original classification\n",
        "#y_test_original = pd.DataFrame(target_encoder.inverse_transform(y_test),\n",
        "#                               columns = [\"target\"])\n",
        "y_test_original = y_test.reset_index(drop = True)\n",
        "\n",
        "# Original predictors\n",
        "X_test_original = X_test.reset_index(drop = True)\n",
        "\n",
        "# Prediction\n",
        "predictions = pd.concat([X_test_original,\n",
        "                         y_test_original,\n",
        "                         y_test_pred_raw,\n",
        "                         y_test_pred_prob],\n",
        "                         axis = 1)\n",
        "\n",
        "print(predictions.head().to_markdown())"
      ],
      "metadata": {
        "id": "Gfo_wBvifAIU"
      },
      "execution_count": null,
      "outputs": []
    },
    {
      "cell_type": "markdown",
      "source": [
        "### 2.15 - Evaluation Metrics"
      ],
      "metadata": {
        "id": "AeMd7fCBfrKH"
      }
    },
    {
      "cell_type": "code",
      "source": [
        "cm = confusion_matrix(y_true = y_test_original,\n",
        "                      y_pred = y_test_pred_raw,\n",
        "                      #labels = target_encoder.classes_\n",
        "                      #labels = [\"Promotor\", \"Detractor\"]\n",
        "                      )\n",
        "\n",
        "plt.figure(figsize=(6, 4))\n",
        "heatmap = sns.heatmap(cm,\n",
        "                      annot = True,\n",
        "                      fmt = 'd',\n",
        "                      linewidths = 0.5,\n",
        "                      linecolor='black',\n",
        "                      cmap = sns.color_palette(\"viridis\", as_cmap = True),\n",
        "                      xticklabels = [\"No\", \"Sí\"],\n",
        "                      yticklabels = [\"No\", \"Sí\"],\n",
        "                      #xticklabels = target_encoder.classes_,\n",
        "                      #yticklabels = target_encoder.classes_\n",
        "                      )\n",
        "\n",
        "plt.ylabel(\"True label\")\n",
        "plt.xlabel(\"Predicted label\")\n",
        "\n",
        "plt.show()"
      ],
      "metadata": {
        "colab": {
          "base_uri": "https://localhost:8080/",
          "height": 392
        },
        "id": "3B_Qys5Nft8O",
        "outputId": "41e98f2d-5ca8-4e63-f41e-af31ae99fe2e"
      },
      "execution_count": 51,
      "outputs": [
        {
          "output_type": "display_data",
          "data": {
            "text/plain": [
              "<Figure size 600x400 with 2 Axes>"
            ],
            "image/png": "[encoded data removed]"
          },
          "metadata": {}
        }
      ]
    },
    {
      "cell_type": "code",
      "source": [
        "# Classification report\n",
        "report = classification_report(y_true = y_test_original,\n",
        "                               y_pred = y_test_pred_raw,\n",
        "                               target_names = [\"No\", \"Sí\"])\n",
        "\n",
        "print(report)"
      ],
      "metadata": {
        "colab": {
          "base_uri": "https://localhost:8080/"
        },
        "id": "SPUfc9-qf29g",
        "outputId": "808710fa-8faa-4afb-a681-59737b226ef5"
      },
      "execution_count": 52,
      "outputs": [
        {
          "output_type": "stream",
          "name": "stdout",
          "text": [
            "              precision    recall  f1-score   support\n",
            "\n",
            "          No       0.98      0.76      0.85    115185\n",
            "          Sí       0.07      0.52      0.12      3948\n",
            "\n",
            "    accuracy                           0.75    119133\n",
            "   macro avg       0.52      0.64      0.49    119133\n",
            "weighted avg       0.95      0.75      0.83    119133\n",
            "\n"
          ]
        }
      ]
    },
    {
      "cell_type": "code",
      "source": [
        "# Metrics for positive class: Detractors\n",
        "binary_classification_metrics(y_true = y_test_original,\n",
        "                              y_pred = y_test_pred_raw,\n",
        "                              average = \"binary\",\n",
        "                              pos_label = 1)"
      ],
      "metadata": {
        "colab": {
          "base_uri": "https://localhost:8080/",
          "height": 363
        },
        "id": "5O06eeqZgAjJ",
        "outputId": "aaced687-dc03-4c31-be25-1953c3c4a1bb"
      },
      "execution_count": 53,
      "outputs": [
        {
          "output_type": "execute_result",
          "data": {
            "text/plain": [
              "                      Metric  Value\n",
              "0                   Accuracy  0.748\n",
              "1                  Precision  0.068\n",
              "2                     Recall  0.517\n",
              "3                Specificity  0.756\n",
              "4  Negative Predictive Value  0.979\n",
              "5                   F1-Score  0.119\n",
              "6           Balance Accuracy  0.636\n",
              "7              Jaccard-Score  0.064\n",
              "8         Matthews Corr Coef  0.112\n",
              "9              Cohen’s kappa  0.065"
            ],
            "text/html": [
              "\n",
              "\n",
              "  <div id=\"df-ec91a8a2-21ef-4b5a-bdf9-ac7e3afecf87\">\n",
              "    <div class=\"colab-df-container\">\n",
              "      <div>\n",
              "<style scoped>\n",
              "    .dataframe tbody tr th:only-of-type {\n",
              "        vertical-align: middle;\n",
              "    }\n",
              "\n",
              "    .dataframe tbody tr th {\n",
              "        vertical-align: top;\n",
              "    }\n",
              "\n",
              "    .dataframe thead th {\n",
              "        text-align: right;\n",
              "    }\n",
              "</style>\n",
              "<table border=\"1\" class=\"dataframe\">\n",
              "  <thead>\n",
              "    <tr style=\"text-align: right;\">\n",
              "      <th></th>\n",
              "      <th>Metric</th>\n",
              "      <th>Value</th>\n",
              "    </tr>\n",
              "  </thead>\n",
              "  <tbody>\n",
              "    <tr>\n",
              "      <th>0</th>\n",
              "      <td>Accuracy</td>\n",
              "      <td>0.748</td>\n",
              "    </tr>\n",
              "    <tr>\n",
              "      <th>1</th>\n",
              "      <td>Precision</td>\n",
              "      <td>0.068</td>\n",
              "    </tr>\n",
              "    <tr>\n",
              "      <th>2</th>\n",
              "      <td>Recall</td>\n",
              "      <td>0.517</td>\n",
              "    </tr>\n",
              "    <tr>\n",
              "      <th>3</th>\n",
              "      <td>Specificity</td>\n",
              "      <td>0.756</td>\n",
              "    </tr>\n",
              "    <tr>\n",
              "      <th>4</th>\n",
              "      <td>Negative Predictive Value</td>\n",
              "      <td>0.979</td>\n",
              "    </tr>\n",
              "    <tr>\n",
              "      <th>5</th>\n",
              "      <td>F1-Score</td>\n",
              "      <td>0.119</td>\n",
              "    </tr>\n",
              "    <tr>\n",
              "      <th>6</th>\n",
              "      <td>Balance Accuracy</td>\n",
              "      <td>0.636</td>\n",
              "    </tr>\n",
              "    <tr>\n",
              "      <th>7</th>\n",
              "      <td>Jaccard-Score</td>\n",
              "      <td>0.064</td>\n",
              "    </tr>\n",
              "    <tr>\n",
              "      <th>8</th>\n",
              "      <td>Matthews Corr Coef</td>\n",
              "      <td>0.112</td>\n",
              "    </tr>\n",
              "    <tr>\n",
              "      <th>9</th>\n",
              "      <td>Cohen’s kappa</td>\n",
              "      <td>0.065</td>\n",
              "    </tr>\n",
              "  </tbody>\n",
              "</table>\n",
              "</div>\n",
              "      <button class=\"colab-df-convert\" onclick=\"convertToInteractive('df-ec91a8a2-21ef-4b5a-bdf9-ac7e3afecf87')\"\n",
              "              title=\"Convert this dataframe to an interactive table.\"\n",
              "              style=\"display:none;\">\n",
              "\n",
              "  <svg xmlns=\"http://www.w3.org/2000/svg\" height=\"24px\"viewBox=\"0 0 24 24\"\n",
              "       width=\"24px\">\n",
              "    <path d=\"M0 0h24v24H0V0z\" fill=\"none\"/>\n",
              "    <path d=\"M18.56 5.44l.94 2.06.94-2.06 2.06-.94-2.06-.94-.94-2.06-.94 2.06-2.06.94zm-11 1L8.5 8.5l.94-2.06 2.06-.94-2.06-.94L8.5 2.5l-.94 2.06-2.06.94zm10 10l.94 2.06.94-2.06 2.06-.94-2.06-.94-.94-2.06-.94 2.06-2.06.94z\"/><path d=\"M17.41 7.96l-1.37-1.37c-.4-.4-.92-.59-1.43-.59-.52 0-1.04.2-1.43.59L10.3 9.45l-7.72 7.72c-.78.78-.78 2.05 0 2.83L4 21.41c.39.39.9.59 1.41.59.51 0 1.02-.2 1.41-.59l7.78-7.78 2.81-2.81c.8-.78.8-2.07 0-2.86zM5.41 20L4 18.59l7.72-7.72 1.47 1.35L5.41 20z\"/>\n",
              "  </svg>\n",
              "      </button>\n",
              "\n",
              "\n",
              "\n",
              "    <div id=\"df-d78de6ed-e26b-4b88-917a-e25b95c6b9f1\">\n",
              "      <button class=\"colab-df-quickchart\" onclick=\"quickchart('df-d78de6ed-e26b-4b88-917a-e25b95c6b9f1')\"\n",
              "              title=\"Suggest charts.\"\n",
              "              style=\"display:none;\">\n",
              "\n",
              "<svg xmlns=\"http://www.w3.org/2000/svg\" height=\"24px\"viewBox=\"0 0 24 24\"\n",
              "     width=\"24px\">\n",
              "    <g>\n",
              "        <path d=\"M19 3H5c-1.1 0-2 .9-2 2v14c0 1.1.9 2 2 2h14c1.1 0 2-.9 2-2V5c0-1.1-.9-2-2-2zM9 17H7v-7h2v7zm4 0h-2V7h2v10zm4 0h-2v-4h2v4z\"/>\n",
              "    </g>\n",
              "</svg>\n",
              "      </button>\n",
              "    </div>\n",
              "\n",
              "<style>\n",
              "  .colab-df-quickchart {\n",
              "    background-color: #E8F0FE;\n",
              "    border: none;\n",
              "    border-radius: 50%;\n",
              "    cursor: pointer;\n",
              "    display: none;\n",
              "    fill: #1967D2;\n",
              "    height: 32px;\n",
              "    padding: 0 0 0 0;\n",
              "    width: 32px;\n",
              "  }\n",
              "\n",
              "  .colab-df-quickchart:hover {\n",
              "    background-color: #E2EBFA;\n",
              "    box-shadow: 0px 1px 2px rgba(60, 64, 67, 0.3), 0px 1px 3px 1px rgba(60, 64, 67, 0.15);\n",
              "    fill: #174EA6;\n",
              "  }\n",
              "\n",
              "  [theme=dark] .colab-df-quickchart {\n",
              "    background-color: #3B4455;\n",
              "    fill: #D2E3FC;\n",
              "  }\n",
              "\n",
              "  [theme=dark] .colab-df-quickchart:hover {\n",
              "    background-color: #434B5C;\n",
              "    box-shadow: 0px 1px 3px 1px rgba(0, 0, 0, 0.15);\n",
              "    filter: drop-shadow(0px 1px 2px rgba(0, 0, 0, 0.3));\n",
              "    fill: #FFFFFF;\n",
              "  }\n",
              "</style>\n",
              "\n",
              "    <script>\n",
              "      async function quickchart(key) {\n",
              "        const containerElement = document.querySelector('#' + key);\n",
              "        const charts = await google.colab.kernel.invokeFunction(\n",
              "            'suggestCharts', [key], {});\n",
              "      }\n",
              "    </script>\n",
              "\n",
              "      <script>\n",
              "\n",
              "function displayQuickchartButton(domScope) {\n",
              "  let quickchartButtonEl =\n",
              "    domScope.querySelector('#df-d78de6ed-e26b-4b88-917a-e25b95c6b9f1 button.colab-df-quickchart');\n",
              "  quickchartButtonEl.style.display =\n",
              "    google.colab.kernel.accessAllowed ? 'block' : 'none';\n",
              "}\n",
              "\n",
              "        displayQuickchartButton(document);\n",
              "      </script>\n",
              "      <style>\n",
              "    .colab-df-container {\n",
              "      display:flex;\n",
              "      flex-wrap:wrap;\n",
              "      gap: 12px;\n",
              "    }\n",
              "\n",
              "    .colab-df-convert {\n",
              "      background-color: #E8F0FE;\n",
              "      border: none;\n",
              "      border-radius: 50%;\n",
              "      cursor: pointer;\n",
              "      display: none;\n",
              "      fill: #1967D2;\n",
              "      height: 32px;\n",
              "      padding: 0 0 0 0;\n",
              "      width: 32px;\n",
              "    }\n",
              "\n",
              "    .colab-df-convert:hover {\n",
              "      background-color: #E2EBFA;\n",
              "      box-shadow: 0px 1px 2px rgba(60, 64, 67, 0.3), 0px 1px 3px 1px rgba(60, 64, 67, 0.15);\n",
              "      fill: #174EA6;\n",
              "    }\n",
              "\n",
              "    [theme=dark] .colab-df-convert {\n",
              "      background-color: #3B4455;\n",
              "      fill: #D2E3FC;\n",
              "    }\n",
              "\n",
              "    [theme=dark] .colab-df-convert:hover {\n",
              "      background-color: #434B5C;\n",
              "      box-shadow: 0px 1px 3px 1px rgba(0, 0, 0, 0.15);\n",
              "      filter: drop-shadow(0px 1px 2px rgba(0, 0, 0, 0.3));\n",
              "      fill: #FFFFFF;\n",
              "    }\n",
              "  </style>\n",
              "\n",
              "      <script>\n",
              "        const buttonEl =\n",
              "          document.querySelector('#df-ec91a8a2-21ef-4b5a-bdf9-ac7e3afecf87 button.colab-df-convert');\n",
              "        buttonEl.style.display =\n",
              "          google.colab.kernel.accessAllowed ? 'block' : 'none';\n",
              "\n",
              "        async function convertToInteractive(key) {\n",
              "          const element = document.querySelector('#df-ec91a8a2-21ef-4b5a-bdf9-ac7e3afecf87');\n",
              "          const dataTable =\n",
              "            await google.colab.kernel.invokeFunction('convertToInteractive',\n",
              "                                                     [key], {});\n",
              "          if (!dataTable) return;\n",
              "\n",
              "          const docLinkHtml = 'Like what you see? Visit the ' +\n",
              "            '<a target=\"_blank\" href=https://colab.research.google.com/notebooks/data_table.ipynb>data table notebook</a>'\n",
              "            + ' to learn more about interactive tables.';\n",
              "          element.innerHTML = '';\n",
              "          dataTable['output_type'] = 'display_data';\n",
              "          await google.colab.output.renderOutput(dataTable, element);\n",
              "          const docLink = document.createElement('div');\n",
              "          docLink.innerHTML = docLinkHtml;\n",
              "          element.appendChild(docLink);\n",
              "        }\n",
              "      </script>\n",
              "    </div>\n",
              "  </div>\n"
            ]
          },
          "metadata": {},
          "execution_count": 53
        }
      ]
    },
    {
      "cell_type": "code",
      "source": [
        "# Area under Receiver Operating Characteristic Curve (ROC AUC)\n",
        "\n",
        "# Probability predictions\n",
        "y_prob_pred = BayesSearchCV_pipeline.predict_proba(X_test)[:, 1]\n",
        "\n",
        "# Area Under the Receiver Operating Characteristic Curve (ROC AUC)\n",
        "auc = roc_auc_score(y_true = y_test_original,\n",
        "                    y_score = y_prob_pred)\n",
        "\n",
        "print(f\"{Fore.BLUE} ROC AUC: {auc:.2f} {Style.RESET_ALL}\")"
      ],
      "metadata": {
        "colab": {
          "base_uri": "https://localhost:8080/"
        },
        "id": "v7WJzGiOgHF5",
        "outputId": "faf46ca7-26e6-4bc3-93b9-835078159aa4"
      },
      "execution_count": 38,
      "outputs": [
        {
          "output_type": "stream",
          "name": "stdout",
          "text": [
            "\u001b[34m ROC AUC: 0.68 \u001b[0m\n"
          ]
        }
      ]
    },
    {
      "cell_type": "code",
      "source": [
        "# Receiver Operating Characteristic Curve - RUC\n",
        "fpr, tpr, thresholds = roc_curve(y_true = y_test_original,\n",
        "                                 y_score = y_prob_pred, # Lookup in code above\n",
        "                                 pos_label = 1)\n",
        "# RUC\n",
        "plt.figure(figsize = (5, 4))\n",
        "sns.set_palette(palette = \"viridis\") # Viridis pallete\n",
        "sns.lineplot(data = None,\n",
        "             x = fpr,\n",
        "             y = tpr,\n",
        "             linewidth = 1.2)\n",
        "\n",
        "plt.xlabel(\"False Positive Rate\")\n",
        "plt.ylabel(\"True Positive Rate\")\n",
        "plt.title(f\"ROC AUC: {auc:.2f}\")\n",
        "\n",
        "# Change level: 0.5\n",
        "sns.lineplot(data = None,\n",
        "             x = [0, 1],\n",
        "             y = [0, 1],\n",
        "             linewidth = 1.2,\n",
        "             linestyle = '--',\n",
        "             color = \"black\")\n",
        "\n",
        "\"\"\"# Legend\n",
        "plt.legend(title = 'Tipo NPS',\n",
        "           loc = 'best',\n",
        "           bbox_to_anchor=(1, 1))\"\"\"\n",
        "\n",
        "plt.show()"
      ],
      "metadata": {
        "colab": {
          "base_uri": "https://localhost:8080/",
          "height": 415
        },
        "id": "1OTFvmO7gWXF",
        "outputId": "8f1dd0c5-11df-4fe8-b588-8cbbde4f0d3f"
      },
      "execution_count": 39,
      "outputs": [
        {
          "output_type": "display_data",
          "data": {
            "text/plain": [
              "<Figure size 500x400 with 1 Axes>"
            ],
            "image/png": "[encoded data removed]"
          },
          "metadata": {}
        }
      ]
    },
    {
      "cell_type": "markdown",
      "source": [
        "### 2.16 - Feature Importance"
      ],
      "metadata": {
        "id": "KTKfn_uKgkma"
      }
    },
    {
      "cell_type": "code",
      "source": [
        "# Feature importance\n",
        "\n",
        "# Get the feature importance scores from the feature selection step\n",
        "feature_importances = BayesSearchCV_pipeline.named_steps['logisticregression'].feature_importances_\n",
        "\n",
        "# Final features colnames if removemulticollinearity is apply\n",
        "\n",
        "# Results feature indices after remove multicollinearity\n",
        "# mask2 = full_pipeline.named_steps[\"removemulticollinearity\"].feature_indices_\n",
        "\n",
        "# Results feature indices after select features\n",
        "# mask3 = [int(i.strip(\"x\")) for i in full_pipeline.named_steps['selectkbest'].get_feature_names_out()]\n",
        "\n",
        "# Filters\n",
        "#feature_names = [i[i.find(\"_\") + 2:] for i in full_pipeline.named_steps['columntransformer'].get_feature_names_out()[mask2].tolist()]\n",
        "# feature_names = [feature_names[i] for i in mask3]\n",
        "\n",
        "# Because removemulticollinearity isn't apply\n",
        "feature_names = [i[i.find(\"_\") + 2:] for i in full_pipeline.named_steps['columntransformer'].get_feature_names_out().tolist()]\n",
        "mask = [int(i.strip(\"x\")) for i in full_pipeline.named_steps['selectkbest'].get_feature_names_out()]\n",
        "feature_names = [feature_names[i] for i in mask]\n",
        "\n",
        "# DataFrame\n",
        "importances_df = pd.DataFrame(data = {\"feature\": feature_names,\n",
        "                                      \"importance\": feature_importances}) \\\n",
        "                   .sort_values(by = \"importance\", ascending = False) \\\n",
        "                   .query(\"importance != 0\")\n",
        "\n",
        "# Plot\n",
        "sns.set_palette(palette = \"viridis\") # Viridis pallete\n",
        "plt.subplots(figsize=(5, 7))\n",
        "sns.barplot(data = importances_df,\n",
        "            y = \"feature\",\n",
        "            x = \"importance\",\n",
        "            orient = \"h\",\n",
        "            alpha = 0.85,\n",
        "            palette = sns.color_palette(palette = \"viridis\", n_colors = len(feature_names)),\n",
        "            edgecolor = \"black\")\n",
        "\n",
        "plt.title(\"Feature importance\")\n",
        "plt.xlabel(\"Importance\")\n",
        "plt.ylabel(\"Feature\")\n",
        "plt.show()"
      ],
      "metadata": {
        "id": "WUJbzlOVgf8f"
      },
      "execution_count": null,
      "outputs": []
    },
    {
      "cell_type": "markdown",
      "source": [
        "## 3 - Churn prediction: Deep Learning\n"
      ],
      "metadata": {
        "id": "0_ScbnMzjeL0"
      }
    },
    {
      "cell_type": "markdown",
      "source": [
        "### 3.0 - Libraries"
      ],
      "metadata": {
        "id": "CKa_-roNkVCE"
      }
    },
    {
      "cell_type": "code",
      "source": [
        "# Install libraries\n",
        "%%capture\n",
        "!pip install tensorflow"
      ],
      "metadata": {
        "id": "1yFjMGnjkZgq"
      },
      "execution_count": null,
      "outputs": []
    },
    {
      "cell_type": "code",
      "source": [
        "# Import libraries\n",
        "import tensorflow\n",
        "from tensorflow.keras.layers import Dense\n",
        "from tensorflow.keras.models import Sequential\n",
        "from tensorflow.keras.utils import to_categorical\n",
        "from tensorflow.keras.optimizers import Adam\n",
        "from tensorflow.keras.metrics import Recall\n",
        "from tensorflow.random import set_seed\n",
        "from tensorflow.keras.regularizers import l1, l2"
      ],
      "metadata": {
        "id": "paQP98uuknLp"
      },
      "execution_count": null,
      "outputs": []
    },
    {
      "cell_type": "markdown",
      "source": [
        "### 3.1 - Data preprocessing pipeline"
      ],
      "metadata": {
        "id": "pDu97pW0jtf0"
      }
    },
    {
      "cell_type": "code",
      "source": [
        "# Imbalance learn pipelien\n",
        "\n",
        "\n",
        "# a) Nominal pipeline\n",
        "nominal_pipeline = make_pipeline(\n",
        "    # 1. Nominal encoder\n",
        "    OneHotEncoder(categories = \"auto\",\n",
        "                  drop = \"first\", # \"first\" or \"None\", Specifies a methodology to use to drop one of the categories per feature\n",
        "                  sparse_output = False,\n",
        "                  dtype = \"float\", # Desired dtype of output\n",
        "                  handle_unknown = 'infrequent_if_exist',\n",
        "                  min_frequency = 0.03,\n",
        "                  max_categories = 30)\n",
        ")\n",
        "\n",
        "# b) Ordinal pipeline\n",
        "\"\"\"\n",
        "ordinal_pipeline = make_pipeline(\n",
        "    # 1. Ordinal encoder, if neccesary more steps, aggregate them inside pipeline\n",
        "    OrdinalEncoder(categories = [[\"Entre 2 meses y 6 meses\", \"Entre 7 meses y 1 año\", \"Entre 1 y 2 años\", \"Más de 2 años\"],\n",
        "                                 [\"De 18 a 25 años\", \"De 26 a 35 años\", \"De 36 a 45 años\", \"De 46 a 55 años\", \"De 56 a 65 años\", \"Más de 66\"]],\n",
        "                   dtype = 'float',\n",
        "                   handle_unknown = 'use_encoded_value',\n",
        "                   unknown_value = np.nan,\n",
        "                   encoded_missing_value = np.nan),\n",
        ")\n",
        "\"\"\"\n",
        "\n",
        "# c) Categorical transformations\n",
        "transformations = ColumnTransformer(\n",
        "    transformers=[(\"numerical\", \"passthrough\", numerical_vars), # No transformation required for numerical variables\n",
        "                  # (\"ordinal\", ordinal_pipeline, ordinal_vars), # No ordinal data\n",
        "                  (\"nominal\", nominal_pipeline, nominal_vars)],\n",
        "    #remainder = 'passthrough'\n",
        ")\n",
        "\n",
        "\n",
        "# d) Pipeline to use imbalanced learn function\n",
        "deep_pipeline = make_pipeline(\n",
        "    # 1. Numerical and categorical (nominal + ordinal) transformers\n",
        "    transformations,\n",
        "\n",
        "    # 2. Impute missing values\n",
        "    IterativeImputer(estimator = BayesianRidge(),\n",
        "                     max_iter = 10,\n",
        "                     random_state = 123456),\n",
        "\n",
        "    # 3. Scale features\n",
        "    RobustScaler(with_centering = True,\n",
        "                 with_scaling = True,\n",
        "                 quantile_range = (25.0, 75.0),\n",
        "                 copy = True,\n",
        "                 unit_variance = False),\n",
        "\n",
        "    # 4. Transform features\n",
        "    PowerTransformer(method = 'yeo-johnson',\n",
        "                     standardize = True,\n",
        "                     copy = True),\n",
        "\n",
        "    # 5. PCA\n",
        "    PCA()\n",
        ")\n",
        "\n",
        "deep_pipeline"
      ],
      "metadata": {
        "colab": {
          "base_uri": "https://localhost:8080/",
          "height": 362
        },
        "id": "LZumxaWSjicW",
        "outputId": "489c2e38-43ee-4b36-b53a-af9b2f0489a7"
      },
      "execution_count": null,
      "outputs": [
        {
          "output_type": "execute_result",
          "data": {
            "text/plain": [
              "Pipeline(steps=[('columntransformer',\n",
              "                 ColumnTransformer(transformers=[('numerical', 'passthrough',\n",
              "                                                  ['cant_sem_datos',\n",
              "                                                   'prom_gb_tt', 'prom_gb_ran',\n",
              "                                                   'prom_%_propia',\n",
              "                                                   'continuidad_traf',\n",
              "                                                   'variacion_datos_8s',\n",
              "                                                   'cons_ult_sem', 'contrafico',\n",
              "                                                   'mean_minutos_voz_in',\n",
              "                                                   'mean_llamadas_in',\n",
              "                                                   'mean_llamadas_in_num_dif',\n",
              "                                                   'mean_porcent_llamadas_fallidas_in',\n",
              "                                                   'mean_porcent_minutos...\n",
              "                                                                   OneHotEncoder(drop='first',\n",
              "                                                                                 dtype='float',\n",
              "                                                                                 handle_unknown='infrequent_if_exist',\n",
              "                                                                                 max_categories=30,\n",
              "                                                                                 min_frequency=0.03,\n",
              "                                                                                 sparse_output=False))]),\n",
              "                                                  ['canal', 'region', 'bandas',\n",
              "                                                   'tipo_gross_adds'])])),\n",
              "                ('iterativeimputer',\n",
              "                 IterativeImputer(estimator=BayesianRidge(),\n",
              "                                  random_state=123456)),\n",
              "                ('robustscaler', RobustScaler()),\n",
              "                ('powertransformer', PowerTransformer()), ('pca', PCA())])"
            ],
            "text/html": [
              "<style>#sk-container-id-3 {color: black;background-color: white;}#sk-container-id-3 pre{padding: 0;}#sk-container-id-3 div.sk-toggleable {background-color: white;}#sk-container-id-3 label.sk-toggleable__label {cursor: pointer;display: block;width: 100%;margin-bottom: 0;padding: 0.3em;box-sizing: border-box;text-align: center;}#sk-container-id-3 label.sk-toggleable__label-arrow:before {content: \"▸\";float: left;margin-right: 0.25em;color: #696969;}#sk-container-id-3 label.sk-toggleable__label-arrow:hover:before {color: black;}#sk-container-id-3 div.sk-estimator:hover label.sk-toggleable__label-arrow:before {color: black;}#sk-container-id-3 div.sk-toggleable__content {max-height: 0;max-width: 0;overflow: hidden;text-align: left;background-color: #f0f8ff;}#sk-container-id-3 div.sk-toggleable__content pre {margin: 0.2em;color: black;border-radius: 0.25em;background-color: #f0f8ff;}#sk-container-id-3 input.sk-toggleable__control:checked~div.sk-toggleable__content {max-height: 200px;max-width: 100%;overflow: auto;}#sk-container-id-3 input.sk-toggleable__control:checked~label.sk-toggleable__label-arrow:before {content: \"▾\";}#sk-container-id-3 div.sk-estimator input.sk-toggleable__control:checked~label.sk-toggleable__label {background-color: #d4ebff;}#sk-container-id-3 div.sk-label input.sk-toggleable__control:checked~label.sk-toggleable__label {background-color: #d4ebff;}#sk-container-id-3 input.sk-hidden--visually {border: 0;clip: rect(1px 1px 1px 1px);clip: rect(1px, 1px, 1px, 1px);height: 1px;margin: -1px;overflow: hidden;padding: 0;position: absolute;width: 1px;}#sk-container-id-3 div.sk-estimator {font-family: monospace;background-color: #f0f8ff;border: 1px dotted black;border-radius: 0.25em;box-sizing: border-box;margin-bottom: 0.5em;}#sk-container-id-3 div.sk-estimator:hover {background-color: #d4ebff;}#sk-container-id-3 div.sk-parallel-item::after {content: \"\";width: 100%;border-bottom: 1px solid gray;flex-grow: 1;}#sk-container-id-3 div.sk-label:hover label.sk-toggleable__label {background-color: #d4ebff;}#sk-container-id-3 div.sk-serial::before {content: \"\";position: absolute;border-left: 1px solid gray;box-sizing: border-box;top: 0;bottom: 0;left: 50%;z-index: 0;}#sk-container-id-3 div.sk-serial {display: flex;flex-direction: column;align-items: center;background-color: white;padding-right: 0.2em;padding-left: 0.2em;position: relative;}#sk-container-id-3 div.sk-item {position: relative;z-index: 1;}#sk-container-id-3 div.sk-parallel {display: flex;align-items: stretch;justify-content: center;background-color: white;position: relative;}#sk-container-id-3 div.sk-item::before, #sk-container-id-3 div.sk-parallel-item::before {content: \"\";position: absolute;border-left: 1px solid gray;box-sizing: border-box;top: 0;bottom: 0;left: 50%;z-index: -1;}#sk-container-id-3 div.sk-parallel-item {display: flex;flex-direction: column;z-index: 1;position: relative;background-color: white;}#sk-container-id-3 div.sk-parallel-item:first-child::after {align-self: flex-end;width: 50%;}#sk-container-id-3 div.sk-parallel-item:last-child::after {align-self: flex-start;width: 50%;}#sk-container-id-3 div.sk-parallel-item:only-child::after {width: 0;}#sk-container-id-3 div.sk-dashed-wrapped {border: 1px dashed gray;margin: 0 0.4em 0.5em 0.4em;box-sizing: border-box;padding-bottom: 0.4em;background-color: white;}#sk-container-id-3 div.sk-label label {font-family: monospace;font-weight: bold;display: inline-block;line-height: 1.2em;}#sk-container-id-3 div.sk-label-container {text-align: center;}#sk-container-id-3 div.sk-container {/* jupyter's `normalize.less` sets `[hidden] { display: none; }` but bootstrap.min.css set `[hidden] { display: none !important; }` so we also need the `!important` here to be able to override the default hidden behavior on the sphinx rendered scikit-learn.org. See: https://github.com/scikit-learn/scikit-learn/issues/21755 */display: inline-block !important;position: relative;}#sk-container-id-3 div.sk-text-repr-fallback {display: none;}</style><div id=\"sk-container-id-3\" class=\"sk-top-container\"><div class=\"sk-text-repr-fallback\"><pre>Pipeline(steps=[(&#x27;columntransformer&#x27;,\n",
              "                 ColumnTransformer(transformers=[(&#x27;numerical&#x27;, &#x27;passthrough&#x27;,\n",
              "                                                  [&#x27;cant_sem_datos&#x27;,\n",
              "                                                   &#x27;prom_gb_tt&#x27;, &#x27;prom_gb_ran&#x27;,\n",
              "                                                   &#x27;prom_%_propia&#x27;,\n",
              "                                                   &#x27;continuidad_traf&#x27;,\n",
              "                                                   &#x27;variacion_datos_8s&#x27;,\n",
              "                                                   &#x27;cons_ult_sem&#x27;, &#x27;contrafico&#x27;,\n",
              "                                                   &#x27;mean_minutos_voz_in&#x27;,\n",
              "                                                   &#x27;mean_llamadas_in&#x27;,\n",
              "                                                   &#x27;mean_llamadas_in_num_dif&#x27;,\n",
              "                                                   &#x27;mean_porcent_llamadas_fallidas_in&#x27;,\n",
              "                                                   &#x27;mean_porcent_minutos...\n",
              "                                                                   OneHotEncoder(drop=&#x27;first&#x27;,\n",
              "                                                                                 dtype=&#x27;float&#x27;,\n",
              "                                                                                 handle_unknown=&#x27;infrequent_if_exist&#x27;,\n",
              "                                                                                 max_categories=30,\n",
              "                                                                                 min_frequency=0.03,\n",
              "                                                                                 sparse_output=False))]),\n",
              "                                                  [&#x27;canal&#x27;, &#x27;region&#x27;, &#x27;bandas&#x27;,\n",
              "                                                   &#x27;tipo_gross_adds&#x27;])])),\n",
              "                (&#x27;iterativeimputer&#x27;,\n",
              "                 IterativeImputer(estimator=BayesianRidge(),\n",
              "                                  random_state=123456)),\n",
              "                (&#x27;robustscaler&#x27;, RobustScaler()),\n",
              "                (&#x27;powertransformer&#x27;, PowerTransformer()), (&#x27;pca&#x27;, PCA())])</pre><b>In a Jupyter environment, please rerun this cell to show the HTML representation or trust the notebook. <br />On GitHub, the HTML representation is unable to render, please try loading this page with nbviewer.org.</b></div><div class=\"sk-container\" hidden><div class=\"sk-item sk-dashed-wrapped\"><div class=\"sk-label-container\"><div class=\"sk-label sk-toggleable\"><input class=\"sk-toggleable__control sk-hidden--visually\" id=\"sk-estimator-id-15\" type=\"checkbox\" ><label for=\"sk-estimator-id-15\" class=\"sk-toggleable__label sk-toggleable__label-arrow\">Pipeline</label><div class=\"sk-toggleable__content\"><pre>Pipeline(steps=[(&#x27;columntransformer&#x27;,\n",
              "                 ColumnTransformer(transformers=[(&#x27;numerical&#x27;, &#x27;passthrough&#x27;,\n",
              "                                                  [&#x27;cant_sem_datos&#x27;,\n",
              "                                                   &#x27;prom_gb_tt&#x27;, &#x27;prom_gb_ran&#x27;,\n",
              "                                                   &#x27;prom_%_propia&#x27;,\n",
              "                                                   &#x27;continuidad_traf&#x27;,\n",
              "                                                   &#x27;variacion_datos_8s&#x27;,\n",
              "                                                   &#x27;cons_ult_sem&#x27;, &#x27;contrafico&#x27;,\n",
              "                                                   &#x27;mean_minutos_voz_in&#x27;,\n",
              "                                                   &#x27;mean_llamadas_in&#x27;,\n",
              "                                                   &#x27;mean_llamadas_in_num_dif&#x27;,\n",
              "                                                   &#x27;mean_porcent_llamadas_fallidas_in&#x27;,\n",
              "                                                   &#x27;mean_porcent_minutos...\n",
              "                                                                   OneHotEncoder(drop=&#x27;first&#x27;,\n",
              "                                                                                 dtype=&#x27;float&#x27;,\n",
              "                                                                                 handle_unknown=&#x27;infrequent_if_exist&#x27;,\n",
              "                                                                                 max_categories=30,\n",
              "                                                                                 min_frequency=0.03,\n",
              "                                                                                 sparse_output=False))]),\n",
              "                                                  [&#x27;canal&#x27;, &#x27;region&#x27;, &#x27;bandas&#x27;,\n",
              "                                                   &#x27;tipo_gross_adds&#x27;])])),\n",
              "                (&#x27;iterativeimputer&#x27;,\n",
              "                 IterativeImputer(estimator=BayesianRidge(),\n",
              "                                  random_state=123456)),\n",
              "                (&#x27;robustscaler&#x27;, RobustScaler()),\n",
              "                (&#x27;powertransformer&#x27;, PowerTransformer()), (&#x27;pca&#x27;, PCA())])</pre></div></div></div><div class=\"sk-serial\"><div class=\"sk-item sk-dashed-wrapped\"><div class=\"sk-label-container\"><div class=\"sk-label sk-toggleable\"><input class=\"sk-toggleable__control sk-hidden--visually\" id=\"sk-estimator-id-16\" type=\"checkbox\" ><label for=\"sk-estimator-id-16\" class=\"sk-toggleable__label sk-toggleable__label-arrow\">columntransformer: ColumnTransformer</label><div class=\"sk-toggleable__content\"><pre>ColumnTransformer(transformers=[(&#x27;numerical&#x27;, &#x27;passthrough&#x27;,\n",
              "                                 [&#x27;cant_sem_datos&#x27;, &#x27;prom_gb_tt&#x27;, &#x27;prom_gb_ran&#x27;,\n",
              "                                  &#x27;prom_%_propia&#x27;, &#x27;continuidad_traf&#x27;,\n",
              "                                  &#x27;variacion_datos_8s&#x27;, &#x27;cons_ult_sem&#x27;,\n",
              "                                  &#x27;contrafico&#x27;, &#x27;mean_minutos_voz_in&#x27;,\n",
              "                                  &#x27;mean_llamadas_in&#x27;,\n",
              "                                  &#x27;mean_llamadas_in_num_dif&#x27;,\n",
              "                                  &#x27;mean_porcent_llamadas_fallidas_in&#x27;,\n",
              "                                  &#x27;mean_porcent_minutos_origen_wom&#x27;,\n",
              "                                  &#x27;mean_porcent_minutos_or...\n",
              "                                  &#x27;mean_porcent_minutos_otros_out&#x27;,\n",
              "                                  &#x27;var_minutos_out_4sem&#x27;,\n",
              "                                  &#x27;var_llamadas_out_4sem&#x27;,\n",
              "                                  &#x27;var_minutos_out_8sem&#x27;,\n",
              "                                  &#x27;var_llamadas_out_8sem&#x27;, ...]),\n",
              "                                (&#x27;nominal&#x27;,\n",
              "                                 Pipeline(steps=[(&#x27;onehotencoder&#x27;,\n",
              "                                                  OneHotEncoder(drop=&#x27;first&#x27;,\n",
              "                                                                dtype=&#x27;float&#x27;,\n",
              "                                                                handle_unknown=&#x27;infrequent_if_exist&#x27;,\n",
              "                                                                max_categories=30,\n",
              "                                                                min_frequency=0.03,\n",
              "                                                                sparse_output=False))]),\n",
              "                                 [&#x27;canal&#x27;, &#x27;region&#x27;, &#x27;bandas&#x27;,\n",
              "                                  &#x27;tipo_gross_adds&#x27;])])</pre></div></div></div><div class=\"sk-parallel\"><div class=\"sk-parallel-item\"><div class=\"sk-item\"><div class=\"sk-label-container\"><div class=\"sk-label sk-toggleable\"><input class=\"sk-toggleable__control sk-hidden--visually\" id=\"sk-estimator-id-17\" type=\"checkbox\" ><label for=\"sk-estimator-id-17\" class=\"sk-toggleable__label sk-toggleable__label-arrow\">numerical</label><div class=\"sk-toggleable__content\"><pre>[&#x27;cant_sem_datos&#x27;, &#x27;prom_gb_tt&#x27;, &#x27;prom_gb_ran&#x27;, &#x27;prom_%_propia&#x27;, &#x27;continuidad_traf&#x27;, &#x27;variacion_datos_8s&#x27;, &#x27;cons_ult_sem&#x27;, &#x27;contrafico&#x27;, &#x27;mean_minutos_voz_in&#x27;, &#x27;mean_llamadas_in&#x27;, &#x27;mean_llamadas_in_num_dif&#x27;, &#x27;mean_porcent_llamadas_fallidas_in&#x27;, &#x27;mean_porcent_minutos_origen_wom&#x27;, &#x27;mean_porcent_minutos_origen_otros&#x27;, &#x27;var_minutos_in_4sem&#x27;, &#x27;var_llamadas_in_4sem&#x27;, &#x27;var_minutos_in_8sem&#x27;, &#x27;var_llamadas_in_8sem&#x27;, &#x27;mean_minutos_voz_out&#x27;, &#x27;mean_llamadas_out&#x27;, &#x27;mean_llamadas_out_num_dif&#x27;, &#x27;mean_porcent_minutos_ran_out&#x27;, &#x27;mean_porcent_minutos_volte_out&#x27;, &#x27;mean_porcent_llamadas_fallidas_out&#x27;, &#x27;mean_porcent_minutos_wom_out&#x27;, &#x27;mean_porcent_minutos_otros_out&#x27;, &#x27;var_minutos_out_4sem&#x27;, &#x27;var_llamadas_out_4sem&#x27;, &#x27;var_minutos_out_8sem&#x27;, &#x27;var_llamadas_out_8sem&#x27;, &#x27;lineas_cliente&#x27;, &#x27;semanas_antiguedad&#x27;, &#x27;semanas_contactos_pqr&#x27;, &#x27;contactos_ult_semana_pqr&#x27;, &#x27;seg_llamadas_ofertas_ult_semana&#x27;, &#x27;var_seg_llamadas_ofertas_4_semanas&#x27;, &#x27;porc_descuento_activo&#x27;, &#x27;jineteo&#x27;]</pre></div></div></div><div class=\"sk-serial\"><div class=\"sk-item\"><div class=\"sk-estimator sk-toggleable\"><input class=\"sk-toggleable__control sk-hidden--visually\" id=\"sk-estimator-id-18\" type=\"checkbox\" ><label for=\"sk-estimator-id-18\" class=\"sk-toggleable__label sk-toggleable__label-arrow\">passthrough</label><div class=\"sk-toggleable__content\"><pre>passthrough</pre></div></div></div></div></div></div><div class=\"sk-parallel-item\"><div class=\"sk-item\"><div class=\"sk-label-container\"><div class=\"sk-label sk-toggleable\"><input class=\"sk-toggleable__control sk-hidden--visually\" id=\"sk-estimator-id-19\" type=\"checkbox\" ><label for=\"sk-estimator-id-19\" class=\"sk-toggleable__label sk-toggleable__label-arrow\">nominal</label><div class=\"sk-toggleable__content\"><pre>[&#x27;canal&#x27;, &#x27;region&#x27;, &#x27;bandas&#x27;, &#x27;tipo_gross_adds&#x27;]</pre></div></div></div><div class=\"sk-serial\"><div class=\"sk-item\"><div class=\"sk-serial\"><div class=\"sk-item\"><div class=\"sk-estimator sk-toggleable\"><input class=\"sk-toggleable__control sk-hidden--visually\" id=\"sk-estimator-id-20\" type=\"checkbox\" ><label for=\"sk-estimator-id-20\" class=\"sk-toggleable__label sk-toggleable__label-arrow\">OneHotEncoder</label><div class=\"sk-toggleable__content\"><pre>OneHotEncoder(drop=&#x27;first&#x27;, dtype=&#x27;float&#x27;, handle_unknown=&#x27;infrequent_if_exist&#x27;,\n",
              "              max_categories=30, min_frequency=0.03, sparse_output=False)</pre></div></div></div></div></div></div></div></div></div></div><div class=\"sk-item sk-dashed-wrapped\"><div class=\"sk-label-container\"><div class=\"sk-label sk-toggleable\"><input class=\"sk-toggleable__control sk-hidden--visually\" id=\"sk-estimator-id-21\" type=\"checkbox\" ><label for=\"sk-estimator-id-21\" class=\"sk-toggleable__label sk-toggleable__label-arrow\">iterativeimputer: IterativeImputer</label><div class=\"sk-toggleable__content\"><pre>IterativeImputer(estimator=BayesianRidge(), random_state=123456)</pre></div></div></div><div class=\"sk-parallel\"><div class=\"sk-parallel-item\"><div class=\"sk-item\"><div class=\"sk-label-container\"><div class=\"sk-label sk-toggleable\"><input class=\"sk-toggleable__control sk-hidden--visually\" id=\"sk-estimator-id-22\" type=\"checkbox\" ><label for=\"sk-estimator-id-22\" class=\"sk-toggleable__label sk-toggleable__label-arrow\">estimator: BayesianRidge</label><div class=\"sk-toggleable__content\"><pre>BayesianRidge()</pre></div></div></div><div class=\"sk-serial\"><div class=\"sk-item\"><div class=\"sk-estimator sk-toggleable\"><input class=\"sk-toggleable__control sk-hidden--visually\" id=\"sk-estimator-id-23\" type=\"checkbox\" ><label for=\"sk-estimator-id-23\" class=\"sk-toggleable__label sk-toggleable__label-arrow\">BayesianRidge</label><div class=\"sk-toggleable__content\"><pre>BayesianRidge()</pre></div></div></div></div></div></div></div></div><div class=\"sk-item\"><div class=\"sk-estimator sk-toggleable\"><input class=\"sk-toggleable__control sk-hidden--visually\" id=\"sk-estimator-id-24\" type=\"checkbox\" ><label for=\"sk-estimator-id-24\" class=\"sk-toggleable__label sk-toggleable__label-arrow\">RobustScaler</label><div class=\"sk-toggleable__content\"><pre>RobustScaler()</pre></div></div></div><div class=\"sk-item\"><div class=\"sk-estimator sk-toggleable\"><input class=\"sk-toggleable__control sk-hidden--visually\" id=\"sk-estimator-id-25\" type=\"checkbox\" ><label for=\"sk-estimator-id-25\" class=\"sk-toggleable__label sk-toggleable__label-arrow\">PowerTransformer</label><div class=\"sk-toggleable__content\"><pre>PowerTransformer()</pre></div></div></div><div class=\"sk-item\"><div class=\"sk-estimator sk-toggleable\"><input class=\"sk-toggleable__control sk-hidden--visually\" id=\"sk-estimator-id-26\" type=\"checkbox\" ><label for=\"sk-estimator-id-26\" class=\"sk-toggleable__label sk-toggleable__label-arrow\">PCA</label><div class=\"sk-toggleable__content\"><pre>PCA()</pre></div></div></div></div></div></div></div>"
            ]
          },
          "metadata": {},
          "execution_count": 20
        }
      ]
    },
    {
      "cell_type": "code",
      "source": [
        "X_train_deep = deep_pipeline.fit_transform(X_train)"
      ],
      "metadata": {
        "id": "uMH8RQ0Oj8uM"
      },
      "execution_count": null,
      "outputs": []
    },
    {
      "cell_type": "code",
      "source": [
        "X_test_deep = deep_pipeline.transform(X_test)"
      ],
      "metadata": {
        "id": "H1FcRnQXme1S"
      },
      "execution_count": null,
      "outputs": []
    },
    {
      "cell_type": "markdown",
      "source": [
        "### 3.2 - Target variable\n"
      ],
      "metadata": {
        "id": "dcngldt_nXFd"
      }
    },
    {
      "cell_type": "code",
      "source": [
        "target = to_categorical(y_train)"
      ],
      "metadata": {
        "id": "3tWb6c9Qn8Wy"
      },
      "execution_count": null,
      "outputs": []
    },
    {
      "cell_type": "code",
      "source": [
        "target"
      ],
      "metadata": {
        "id": "-fYp32QVowVk"
      },
      "execution_count": null,
      "outputs": []
    },
    {
      "cell_type": "code",
      "source": [
        "class_weights = compute_class_weight(class_weight = 'balanced',\n",
        "                                     classes = np.unique(y_train),\n",
        "                                     y = y_train.values.reshape(-1))\n",
        "class_weights = {0: class_weights[0], 1: class_weights[1]}\n",
        "class_weights"
      ],
      "metadata": {
        "id": "ngdw2TQeBNLM",
        "outputId": "782655cc-3e6f-49ae-c2ff-dc2358e444c3",
        "colab": {
          "base_uri": "https://localhost:8080/"
        }
      },
      "execution_count": null,
      "outputs": [
        {
          "output_type": "execute_result",
          "data": {
            "text/plain": [
              "{0: 0.5171377225234298, 1: 15.087702634245188}"
            ]
          },
          "metadata": {},
          "execution_count": 47
        }
      ]
    },
    {
      "cell_type": "markdown",
      "source": [
        "### 3.3 - Model"
      ],
      "metadata": {
        "id": "5HHJGhRio16d"
      }
    },
    {
      "cell_type": "code",
      "source": [
        "set_seed(123456)\n",
        "\n",
        "# Predictors: columns\n",
        "n_cols = X_train_deep.shape[1]\n",
        "\n",
        "# Model: Specify Architecture\n",
        "model = Sequential()\n",
        "model.add(Dense(100, activation = 'relu', input_shape = (n_cols,)))\n",
        "model.add(Dense(100, activation = 'relu'))\n",
        "model.add(Dense(100, activation = 'relu'))\n",
        "model.add(Dense(1, activation = 'sigmoid'))\n",
        "\n",
        "# Compile\n",
        "model.compile(optimizer = Adam(learning_rate = 0.001),\n",
        "              loss = 'binary_crossentropy',\n",
        "              metrics = ['accuracy', Recall()])"
      ],
      "metadata": {
        "id": "jB0X8uRHpFJ6"
      },
      "execution_count": null,
      "outputs": []
    },
    {
      "cell_type": "code",
      "source": [
        "# Create a learning rate scheduler callback\n",
        "lr_scheduler = tensorflow.keras.callbacks.LearningRateScheduler(lambda epoch: 1e-4 * 10**(epoch/20)) # traverse a set of learning rate values starting from 1e-4, increasing by 10**(epoch/20) every epoch"
      ],
      "metadata": {
        "id": "Iuyb1B4fPT_5"
      },
      "execution_count": null,
      "outputs": []
    },
    {
      "cell_type": "code",
      "source": [
        "# Fitting the model\n",
        "# Applying backpropagation and gradient descent with your data to update the weights\n",
        "model.fit(x = X_train_deep,\n",
        "          y = y_train,\n",
        "          epochs = 15,\n",
        "          callbacks = [lr_scheduler],\n",
        "          batch_size = 32,\n",
        "          validation_split = 0.2,\n",
        "          class_weight = class_weights)"
      ],
      "metadata": {
        "colab": {
          "base_uri": "https://localhost:8080/"
        },
        "id": "eOcK8D7KrLY5",
        "outputId": "ade00ce3-b6b5-40fb-c7ac-44470d4c9e67"
      },
      "execution_count": null,
      "outputs": [
        {
          "output_type": "stream",
          "name": "stdout",
          "text": [
            "Epoch 1/15\n",
            "11914/11914 [==============================] - 36s 3ms/step - loss: 0.7645 - accuracy: 0.8323 - recall: 0.4246 - val_loss: 0.4879 - val_accuracy: 0.8049 - val_recall: 0.4561 - lr: 1.0000e-04\n",
            "Epoch 2/15\n",
            "11914/11914 [==============================] - 34s 3ms/step - loss: 0.7560 - accuracy: 0.8333 - recall: 0.4362 - val_loss: 0.4585 - val_accuracy: 0.8372 - val_recall: 0.4003 - lr: 1.1220e-04\n",
            "Epoch 3/15\n",
            "11914/11914 [==============================] - 34s 3ms/step - loss: 0.7486 - accuracy: 0.8340 - recall: 0.4434 - val_loss: 0.4458 - val_accuracy: 0.8451 - val_recall: 0.3949 - lr: 1.2589e-04\n",
            "Epoch 4/15\n",
            "11914/11914 [==============================] - 33s 3ms/step - loss: 0.7417 - accuracy: 0.8339 - recall: 0.4552 - val_loss: 0.4541 - val_accuracy: 0.8314 - val_recall: 0.4125 - lr: 1.4125e-04\n",
            "Epoch 5/15\n",
            "11914/11914 [==============================] - 36s 3ms/step - loss: 0.7360 - accuracy: 0.8328 - recall: 0.4650 - val_loss: 0.4584 - val_accuracy: 0.8116 - val_recall: 0.4501 - lr: 1.5849e-04\n",
            "Epoch 6/15\n",
            "11914/11914 [==============================] - 34s 3ms/step - loss: 0.7302 - accuracy: 0.8315 - recall: 0.4741 - val_loss: 0.4778 - val_accuracy: 0.8020 - val_recall: 0.4592 - lr: 1.7783e-04\n",
            "Epoch 7/15\n",
            "11914/11914 [==============================] - 33s 3ms/step - loss: 0.7250 - accuracy: 0.8298 - recall: 0.4871 - val_loss: 0.3602 - val_accuracy: 0.8790 - val_recall: 0.3199 - lr: 1.9953e-04\n",
            "Epoch 8/15\n",
            "11914/11914 [==============================] - 34s 3ms/step - loss: 0.7195 - accuracy: 0.8292 - recall: 0.5000 - val_loss: 0.4552 - val_accuracy: 0.8314 - val_recall: 0.4093 - lr: 2.2387e-04\n",
            "Epoch 9/15\n",
            "11914/11914 [==============================] - 33s 3ms/step - loss: 0.7148 - accuracy: 0.8286 - recall: 0.5049 - val_loss: 0.4207 - val_accuracy: 0.8343 - val_recall: 0.3990 - lr: 2.5119e-04\n",
            "Epoch 10/15\n",
            "11914/11914 [==============================] - 35s 3ms/step - loss: 0.7093 - accuracy: 0.8229 - recall: 0.5177 - val_loss: 0.3681 - val_accuracy: 0.8717 - val_recall: 0.3259 - lr: 2.8184e-04\n",
            "Epoch 11/15\n",
            "11914/11914 [==============================] - 34s 3ms/step - loss: 0.7048 - accuracy: 0.8217 - recall: 0.5260 - val_loss: 0.3877 - val_accuracy: 0.8580 - val_recall: 0.3476 - lr: 3.1623e-04\n",
            "Epoch 12/15\n",
            "11914/11914 [==============================] - 33s 3ms/step - loss: 0.7018 - accuracy: 0.8223 - recall: 0.5319 - val_loss: 0.4456 - val_accuracy: 0.8193 - val_recall: 0.4134 - lr: 3.5481e-04\n",
            "Epoch 13/15\n",
            "11914/11914 [==============================] - 33s 3ms/step - loss: 0.6987 - accuracy: 0.8202 - recall: 0.5383 - val_loss: 0.4521 - val_accuracy: 0.7975 - val_recall: 0.4417 - lr: 3.9811e-04\n",
            "Epoch 14/15\n",
            "11914/11914 [==============================] - 36s 3ms/step - loss: 0.6964 - accuracy: 0.8201 - recall: 0.5463 - val_loss: 0.4345 - val_accuracy: 0.8162 - val_recall: 0.4147 - lr: 4.4668e-04\n",
            "Epoch 15/15\n",
            "11914/11914 [==============================] - 33s 3ms/step - loss: 0.6952 - accuracy: 0.8175 - recall: 0.5466 - val_loss: 0.3980 - val_accuracy: 0.8389 - val_recall: 0.3752 - lr: 5.0119e-04\n"
          ]
        },
        {
          "output_type": "execute_result",
          "data": {
            "text/plain": [
              "<keras.callbacks.History at 0x7b1aaa267280>"
            ]
          },
          "metadata": {},
          "execution_count": 31
        }
      ]
    },
    {
      "cell_type": "code",
      "source": [
        "model.summary()"
      ],
      "metadata": {
        "id": "bP7TX669PUfQ",
        "outputId": "2080e699-c652-4879-b3a9-51e07f8c4eac",
        "colab": {
          "base_uri": "https://localhost:8080/"
        }
      },
      "execution_count": null,
      "outputs": [
        {
          "output_type": "stream",
          "name": "stdout",
          "text": [
            "Model: \"sequential\"\n",
            "_________________________________________________________________\n",
            " Layer (type)                Output Shape              Param #   \n",
            "=================================================================\n",
            " dense (Dense)               (None, 100)               5600      \n",
            "                                                                 \n",
            " dense_1 (Dense)             (None, 100)               10100     \n",
            "                                                                 \n",
            " dense_2 (Dense)             (None, 100)               10100     \n",
            "                                                                 \n",
            " dense_3 (Dense)             (None, 1)                 101       \n",
            "                                                                 \n",
            "=================================================================\n",
            "Total params: 25,901\n",
            "Trainable params: 25,901\n",
            "Non-trainable params: 0\n",
            "_________________________________________________________________\n"
          ]
        }
      ]
    },
    {
      "cell_type": "code",
      "source": [
        "model.evaluate(x = X_test_deep,\n",
        "               y = y_test)"
      ],
      "metadata": {
        "colab": {
          "base_uri": "https://localhost:8080/"
        },
        "id": "Kw3TJrx_Dg5Q",
        "outputId": "831dfd4c-384b-435a-f3ed-6b56b5177c02"
      },
      "execution_count": null,
      "outputs": [
        {
          "output_type": "stream",
          "name": "stdout",
          "text": [
            "3723/3723 [==============================] - 6s 1ms/step - loss: 0.3952 - accuracy: 0.8411 - recall: 0.3891\n"
          ]
        },
        {
          "output_type": "execute_result",
          "data": {
            "text/plain": [
              "[0.3952101767063141, 0.8410515785217285, 0.3890577554702759]"
            ]
          },
          "metadata": {},
          "execution_count": 33
        }
      ]
    },
    {
      "cell_type": "markdown",
      "source": [
        "### 3.4 - Predictions"
      ],
      "metadata": {
        "id": "EEiEEImYsoqx"
      }
    },
    {
      "cell_type": "code",
      "source": [
        "# Prediction probabilities\n",
        "y_test_pred_deep = model.predict(X_test_deep)"
      ],
      "metadata": {
        "colab": {
          "base_uri": "https://localhost:8080/"
        },
        "id": "WJuaDUU2stnF",
        "outputId": "a708c8bb-fd50-4518-8b45-24bc6ee7087c"
      },
      "execution_count": null,
      "outputs": [
        {
          "output_type": "stream",
          "name": "stdout",
          "text": [
            "3723/3723 [==============================] - 5s 1ms/step\n"
          ]
        }
      ]
    },
    {
      "cell_type": "code",
      "source": [
        "predictions = pd.DataFrame(y_test_pred_deep, columns = ['churn_prob']) \\\n",
        "                .assign(churn = y_test) \\\n",
        "                .assign(churn_pred = lambda x: (x['churn_prob'] >= 0.5).astype(int))"
      ],
      "metadata": {
        "id": "eMG5pAUDs_OJ"
      },
      "execution_count": null,
      "outputs": []
    },
    {
      "cell_type": "code",
      "source": [
        "predictions.sort_values(by = 'churn_prob', ascending = False)"
      ],
      "metadata": {
        "colab": {
          "base_uri": "https://localhost:8080/",
          "height": 424
        },
        "id": "0nNlcq1jzrVx",
        "outputId": "216af7ff-67a5-48b4-dc35-5324df20fe4c"
      },
      "execution_count": null,
      "outputs": [
        {
          "output_type": "execute_result",
          "data": {
            "text/plain": [
              "        churn_prob  churn  churn_pred\n",
              "70776     0.987820      1           1\n",
              "32050     0.986286      1           1\n",
              "96043     0.982881      0           1\n",
              "110888    0.978240      1           1\n",
              "74860     0.978118      1           1\n",
              "...            ...    ...         ...\n",
              "84866     0.000155      0           0\n",
              "116927    0.000125      0           0\n",
              "85241     0.000120      0           0\n",
              "12714     0.000106      0           0\n",
              "22415     0.000080      0           0\n",
              "\n",
              "[119133 rows x 3 columns]"
            ],
            "text/html": [
              "\n",
              "\n",
              "  <div id=\"df-542d4879-be0d-40f0-bc84-5cab5aca12ac\">\n",
              "    <div class=\"colab-df-container\">\n",
              "      <div>\n",
              "<style scoped>\n",
              "    .dataframe tbody tr th:only-of-type {\n",
              "        vertical-align: middle;\n",
              "    }\n",
              "\n",
              "    .dataframe tbody tr th {\n",
              "        vertical-align: top;\n",
              "    }\n",
              "\n",
              "    .dataframe thead th {\n",
              "        text-align: right;\n",
              "    }\n",
              "</style>\n",
              "<table border=\"1\" class=\"dataframe\">\n",
              "  <thead>\n",
              "    <tr style=\"text-align: right;\">\n",
              "      <th></th>\n",
              "      <th>churn_prob</th>\n",
              "      <th>churn</th>\n",
              "      <th>churn_pred</th>\n",
              "    </tr>\n",
              "  </thead>\n",
              "  <tbody>\n",
              "    <tr>\n",
              "      <th>70776</th>\n",
              "      <td>0.987820</td>\n",
              "      <td>1</td>\n",
              "      <td>1</td>\n",
              "    </tr>\n",
              "    <tr>\n",
              "      <th>32050</th>\n",
              "      <td>0.986286</td>\n",
              "      <td>1</td>\n",
              "      <td>1</td>\n",
              "    </tr>\n",
              "    <tr>\n",
              "      <th>96043</th>\n",
              "      <td>0.982881</td>\n",
              "      <td>0</td>\n",
              "      <td>1</td>\n",
              "    </tr>\n",
              "    <tr>\n",
              "      <th>110888</th>\n",
              "      <td>0.978240</td>\n",
              "      <td>1</td>\n",
              "      <td>1</td>\n",
              "    </tr>\n",
              "    <tr>\n",
              "      <th>74860</th>\n",
              "      <td>0.978118</td>\n",
              "      <td>1</td>\n",
              "      <td>1</td>\n",
              "    </tr>\n",
              "    <tr>\n",
              "      <th>...</th>\n",
              "      <td>...</td>\n",
              "      <td>...</td>\n",
              "      <td>...</td>\n",
              "    </tr>\n",
              "    <tr>\n",
              "      <th>84866</th>\n",
              "      <td>0.000155</td>\n",
              "      <td>0</td>\n",
              "      <td>0</td>\n",
              "    </tr>\n",
              "    <tr>\n",
              "      <th>116927</th>\n",
              "      <td>0.000125</td>\n",
              "      <td>0</td>\n",
              "      <td>0</td>\n",
              "    </tr>\n",
              "    <tr>\n",
              "      <th>85241</th>\n",
              "      <td>0.000120</td>\n",
              "      <td>0</td>\n",
              "      <td>0</td>\n",
              "    </tr>\n",
              "    <tr>\n",
              "      <th>12714</th>\n",
              "      <td>0.000106</td>\n",
              "      <td>0</td>\n",
              "      <td>0</td>\n",
              "    </tr>\n",
              "    <tr>\n",
              "      <th>22415</th>\n",
              "      <td>0.000080</td>\n",
              "      <td>0</td>\n",
              "      <td>0</td>\n",
              "    </tr>\n",
              "  </tbody>\n",
              "</table>\n",
              "<p>119133 rows × 3 columns</p>\n",
              "</div>\n",
              "      <button class=\"colab-df-convert\" onclick=\"convertToInteractive('df-542d4879-be0d-40f0-bc84-5cab5aca12ac')\"\n",
              "              title=\"Convert this dataframe to an interactive table.\"\n",
              "              style=\"display:none;\">\n",
              "\n",
              "  <svg xmlns=\"http://www.w3.org/2000/svg\" height=\"24px\"viewBox=\"0 0 24 24\"\n",
              "       width=\"24px\">\n",
              "    <path d=\"M0 0h24v24H0V0z\" fill=\"none\"/>\n",
              "    <path d=\"M18.56 5.44l.94 2.06.94-2.06 2.06-.94-2.06-.94-.94-2.06-.94 2.06-2.06.94zm-11 1L8.5 8.5l.94-2.06 2.06-.94-2.06-.94L8.5 2.5l-.94 2.06-2.06.94zm10 10l.94 2.06.94-2.06 2.06-.94-2.06-.94-.94-2.06-.94 2.06-2.06.94z\"/><path d=\"M17.41 7.96l-1.37-1.37c-.4-.4-.92-.59-1.43-.59-.52 0-1.04.2-1.43.59L10.3 9.45l-7.72 7.72c-.78.78-.78 2.05 0 2.83L4 21.41c.39.39.9.59 1.41.59.51 0 1.02-.2 1.41-.59l7.78-7.78 2.81-2.81c.8-.78.8-2.07 0-2.86zM5.41 20L4 18.59l7.72-7.72 1.47 1.35L5.41 20z\"/>\n",
              "  </svg>\n",
              "      </button>\n",
              "\n",
              "\n",
              "\n",
              "    <div id=\"df-27b9bb2b-4aa7-42cd-9278-ed637c2e0bf8\">\n",
              "      <button class=\"colab-df-quickchart\" onclick=\"quickchart('df-27b9bb2b-4aa7-42cd-9278-ed637c2e0bf8')\"\n",
              "              title=\"Suggest charts.\"\n",
              "              style=\"display:none;\">\n",
              "\n",
              "<svg xmlns=\"http://www.w3.org/2000/svg\" height=\"24px\"viewBox=\"0 0 24 24\"\n",
              "     width=\"24px\">\n",
              "    <g>\n",
              "        <path d=\"M19 3H5c-1.1 0-2 .9-2 2v14c0 1.1.9 2 2 2h14c1.1 0 2-.9 2-2V5c0-1.1-.9-2-2-2zM9 17H7v-7h2v7zm4 0h-2V7h2v10zm4 0h-2v-4h2v4z\"/>\n",
              "    </g>\n",
              "</svg>\n",
              "      </button>\n",
              "    </div>\n",
              "\n",
              "<style>\n",
              "  .colab-df-quickchart {\n",
              "    background-color: #E8F0FE;\n",
              "    border: none;\n",
              "    border-radius: 50%;\n",
              "    cursor: pointer;\n",
              "    display: none;\n",
              "    fill: #1967D2;\n",
              "    height: 32px;\n",
              "    padding: 0 0 0 0;\n",
              "    width: 32px;\n",
              "  }\n",
              "\n",
              "  .colab-df-quickchart:hover {\n",
              "    background-color: #E2EBFA;\n",
              "    box-shadow: 0px 1px 2px rgba(60, 64, 67, 0.3), 0px 1px 3px 1px rgba(60, 64, 67, 0.15);\n",
              "    fill: #174EA6;\n",
              "  }\n",
              "\n",
              "  [theme=dark] .colab-df-quickchart {\n",
              "    background-color: #3B4455;\n",
              "    fill: #D2E3FC;\n",
              "  }\n",
              "\n",
              "  [theme=dark] .colab-df-quickchart:hover {\n",
              "    background-color: #434B5C;\n",
              "    box-shadow: 0px 1px 3px 1px rgba(0, 0, 0, 0.15);\n",
              "    filter: drop-shadow(0px 1px 2px rgba(0, 0, 0, 0.3));\n",
              "    fill: #FFFFFF;\n",
              "  }\n",
              "</style>\n",
              "\n",
              "    <script>\n",
              "      async function quickchart(key) {\n",
              "        const containerElement = document.querySelector('#' + key);\n",
              "        const charts = await google.colab.kernel.invokeFunction(\n",
              "            'suggestCharts', [key], {});\n",
              "      }\n",
              "    </script>\n",
              "\n",
              "      <script>\n",
              "\n",
              "function displayQuickchartButton(domScope) {\n",
              "  let quickchartButtonEl =\n",
              "    domScope.querySelector('#df-27b9bb2b-4aa7-42cd-9278-ed637c2e0bf8 button.colab-df-quickchart');\n",
              "  quickchartButtonEl.style.display =\n",
              "    google.colab.kernel.accessAllowed ? 'block' : 'none';\n",
              "}\n",
              "\n",
              "        displayQuickchartButton(document);\n",
              "      </script>\n",
              "      <style>\n",
              "    .colab-df-container {\n",
              "      display:flex;\n",
              "      flex-wrap:wrap;\n",
              "      gap: 12px;\n",
              "    }\n",
              "\n",
              "    .colab-df-convert {\n",
              "      background-color: #E8F0FE;\n",
              "      border: none;\n",
              "      border-radius: 50%;\n",
              "      cursor: pointer;\n",
              "      display: none;\n",
              "      fill: #1967D2;\n",
              "      height: 32px;\n",
              "      padding: 0 0 0 0;\n",
              "      width: 32px;\n",
              "    }\n",
              "\n",
              "    .colab-df-convert:hover {\n",
              "      background-color: #E2EBFA;\n",
              "      box-shadow: 0px 1px 2px rgba(60, 64, 67, 0.3), 0px 1px 3px 1px rgba(60, 64, 67, 0.15);\n",
              "      fill: #174EA6;\n",
              "    }\n",
              "\n",
              "    [theme=dark] .colab-df-convert {\n",
              "      background-color: #3B4455;\n",
              "      fill: #D2E3FC;\n",
              "    }\n",
              "\n",
              "    [theme=dark] .colab-df-convert:hover {\n",
              "      background-color: #434B5C;\n",
              "      box-shadow: 0px 1px 3px 1px rgba(0, 0, 0, 0.15);\n",
              "      filter: drop-shadow(0px 1px 2px rgba(0, 0, 0, 0.3));\n",
              "      fill: #FFFFFF;\n",
              "    }\n",
              "  </style>\n",
              "\n",
              "      <script>\n",
              "        const buttonEl =\n",
              "          document.querySelector('#df-542d4879-be0d-40f0-bc84-5cab5aca12ac button.colab-df-convert');\n",
              "        buttonEl.style.display =\n",
              "          google.colab.kernel.accessAllowed ? 'block' : 'none';\n",
              "\n",
              "        async function convertToInteractive(key) {\n",
              "          const element = document.querySelector('#df-542d4879-be0d-40f0-bc84-5cab5aca12ac');\n",
              "          const dataTable =\n",
              "            await google.colab.kernel.invokeFunction('convertToInteractive',\n",
              "                                                     [key], {});\n",
              "          if (!dataTable) return;\n",
              "\n",
              "          const docLinkHtml = 'Like what you see? Visit the ' +\n",
              "            '<a target=\"_blank\" href=https://colab.research.google.com/notebooks/data_table.ipynb>data table notebook</a>'\n",
              "            + ' to learn more about interactive tables.';\n",
              "          element.innerHTML = '';\n",
              "          dataTable['output_type'] = 'display_data';\n",
              "          await google.colab.output.renderOutput(dataTable, element);\n",
              "          const docLink = document.createElement('div');\n",
              "          docLink.innerHTML = docLinkHtml;\n",
              "          element.appendChild(docLink);\n",
              "        }\n",
              "      </script>\n",
              "    </div>\n",
              "  </div>\n"
            ]
          },
          "metadata": {},
          "execution_count": 36
        }
      ]
    },
    {
      "cell_type": "markdown",
      "source": [
        "### 3.5 - Evaluation metrics"
      ],
      "metadata": {
        "id": "RVY3xkvQ03Sq"
      }
    },
    {
      "cell_type": "code",
      "source": [
        "# Confusion matrix\n",
        "cm = confusion_matrix(y_true = predictions.loc[:, 'churn'],\n",
        "                      y_pred = predictions.loc[:, 'churn_pred'],\n",
        "                      #labels = target_encoder.classes_\n",
        "                      #labels = [\"Promotor\", \"Detractor\"]\n",
        "                      )\n",
        "\n",
        "plt.figure(figsize=(6, 4))\n",
        "heatmap = sns.heatmap(cm,\n",
        "                      annot = True,\n",
        "                      fmt = 'd',\n",
        "                      linewidths = 0.5,\n",
        "                      linecolor='black',\n",
        "                      cmap = sns.color_palette(\"viridis\", as_cmap = True),\n",
        "                      xticklabels = [\"No\", \"Sí\"],\n",
        "                      yticklabels = [\"No\", \"Sí\"],\n",
        "                      #xticklabels = target_encoder.classes_,\n",
        "                      #yticklabels = target_encoder.classes_\n",
        "                      )\n",
        "\n",
        "plt.ylabel(\"True label\")\n",
        "plt.xlabel(\"Predicted label\")\n",
        "\n",
        "plt.show()"
      ],
      "metadata": {
        "colab": {
          "base_uri": "https://localhost:8080/",
          "height": 392
        },
        "id": "7OPpldyd06pL",
        "outputId": "5a83452b-7216-4a70-8403-d0fa645a30df"
      },
      "execution_count": null,
      "outputs": [
        {
          "output_type": "display_data",
          "data": {
            "text/plain": [
              "<Figure size 600x400 with 2 Axes>"
            ],
            "image/png": "[encoded data removed]"
          },
          "metadata": {}
        }
      ]
    },
    {
      "cell_type": "code",
      "source": [
        "# Classification report\n",
        "report = classification_report(y_true = predictions.loc[:, 'churn'],\n",
        "                               y_pred = predictions.loc[:, 'churn_pred'],\n",
        "                               target_names = [\"No\", \"Sí\"])\n",
        "\n",
        "print(report)"
      ],
      "metadata": {
        "colab": {
          "base_uri": "https://localhost:8080/"
        },
        "id": "y2fAKw2L1P2Z",
        "outputId": "842caf83-b8bd-4ea6-e8a1-16d022782e0c"
      },
      "execution_count": null,
      "outputs": [
        {
          "output_type": "stream",
          "name": "stdout",
          "text": [
            "              precision    recall  f1-score   support\n",
            "\n",
            "          No       0.98      0.86      0.91    115185\n",
            "          Sí       0.09      0.39      0.14      3948\n",
            "\n",
            "    accuracy                           0.84    119133\n",
            "   macro avg       0.53      0.62      0.53    119133\n",
            "weighted avg       0.95      0.84      0.89    119133\n",
            "\n"
          ]
        }
      ]
    },
    {
      "cell_type": "code",
      "source": [
        "# Metrics for positive class: Detractors\n",
        "binary_classification_metrics(y_true = predictions.loc[:, 'churn'],\n",
        "                              y_pred = predictions.loc[:, 'churn_pred'],\n",
        "                              average = \"binary\",\n",
        "                              pos_label = 1)"
      ],
      "metadata": {
        "colab": {
          "base_uri": "https://localhost:8080/",
          "height": 363
        },
        "id": "ZsELiILo1a8g",
        "outputId": "1654fede-f972-4a74-d97a-5bced15b7872"
      },
      "execution_count": null,
      "outputs": [
        {
          "output_type": "execute_result",
          "data": {
            "text/plain": [
              "                      Metric  Value\n",
              "0                   Accuracy  0.841\n",
              "1                  Precision  0.085\n",
              "2                     Recall  0.389\n",
              "3                Specificity  0.857\n",
              "4  Negative Predictive Value  0.976\n",
              "5                   F1-Score  0.140\n",
              "6           Balance Accuracy  0.623\n",
              "7              Jaccard-Score  0.075\n",
              "8         Matthews Corr Coef  0.123\n",
              "9              Cohen’s kappa  0.090"
            ],
            "text/html": [
              "\n",
              "\n",
              "  <div id=\"df-1a1e5dc9-00d8-41bc-b29b-ea6cf480bbbe\">\n",
              "    <div class=\"colab-df-container\">\n",
              "      <div>\n",
              "<style scoped>\n",
              "    .dataframe tbody tr th:only-of-type {\n",
              "        vertical-align: middle;\n",
              "    }\n",
              "\n",
              "    .dataframe tbody tr th {\n",
              "        vertical-align: top;\n",
              "    }\n",
              "\n",
              "    .dataframe thead th {\n",
              "        text-align: right;\n",
              "    }\n",
              "</style>\n",
              "<table border=\"1\" class=\"dataframe\">\n",
              "  <thead>\n",
              "    <tr style=\"text-align: right;\">\n",
              "      <th></th>\n",
              "      <th>Metric</th>\n",
              "      <th>Value</th>\n",
              "    </tr>\n",
              "  </thead>\n",
              "  <tbody>\n",
              "    <tr>\n",
              "      <th>0</th>\n",
              "      <td>Accuracy</td>\n",
              "      <td>0.841</td>\n",
              "    </tr>\n",
              "    <tr>\n",
              "      <th>1</th>\n",
              "      <td>Precision</td>\n",
              "      <td>0.085</td>\n",
              "    </tr>\n",
              "    <tr>\n",
              "      <th>2</th>\n",
              "      <td>Recall</td>\n",
              "      <td>0.389</td>\n",
              "    </tr>\n",
              "    <tr>\n",
              "      <th>3</th>\n",
              "      <td>Specificity</td>\n",
              "      <td>0.857</td>\n",
              "    </tr>\n",
              "    <tr>\n",
              "      <th>4</th>\n",
              "      <td>Negative Predictive Value</td>\n",
              "      <td>0.976</td>\n",
              "    </tr>\n",
              "    <tr>\n",
              "      <th>5</th>\n",
              "      <td>F1-Score</td>\n",
              "      <td>0.140</td>\n",
              "    </tr>\n",
              "    <tr>\n",
              "      <th>6</th>\n",
              "      <td>Balance Accuracy</td>\n",
              "      <td>0.623</td>\n",
              "    </tr>\n",
              "    <tr>\n",
              "      <th>7</th>\n",
              "      <td>Jaccard-Score</td>\n",
              "      <td>0.075</td>\n",
              "    </tr>\n",
              "    <tr>\n",
              "      <th>8</th>\n",
              "      <td>Matthews Corr Coef</td>\n",
              "      <td>0.123</td>\n",
              "    </tr>\n",
              "    <tr>\n",
              "      <th>9</th>\n",
              "      <td>Cohen’s kappa</td>\n",
              "      <td>0.090</td>\n",
              "    </tr>\n",
              "  </tbody>\n",
              "</table>\n",
              "</div>\n",
              "      <button class=\"colab-df-convert\" onclick=\"convertToInteractive('df-1a1e5dc9-00d8-41bc-b29b-ea6cf480bbbe')\"\n",
              "              title=\"Convert this dataframe to an interactive table.\"\n",
              "              style=\"display:none;\">\n",
              "\n",
              "  <svg xmlns=\"http://www.w3.org/2000/svg\" height=\"24px\"viewBox=\"0 0 24 24\"\n",
              "       width=\"24px\">\n",
              "    <path d=\"M0 0h24v24H0V0z\" fill=\"none\"/>\n",
              "    <path d=\"M18.56 5.44l.94 2.06.94-2.06 2.06-.94-2.06-.94-.94-2.06-.94 2.06-2.06.94zm-11 1L8.5 8.5l.94-2.06 2.06-.94-2.06-.94L8.5 2.5l-.94 2.06-2.06.94zm10 10l.94 2.06.94-2.06 2.06-.94-2.06-.94-.94-2.06-.94 2.06-2.06.94z\"/><path d=\"M17.41 7.96l-1.37-1.37c-.4-.4-.92-.59-1.43-.59-.52 0-1.04.2-1.43.59L10.3 9.45l-7.72 7.72c-.78.78-.78 2.05 0 2.83L4 21.41c.39.39.9.59 1.41.59.51 0 1.02-.2 1.41-.59l7.78-7.78 2.81-2.81c.8-.78.8-2.07 0-2.86zM5.41 20L4 18.59l7.72-7.72 1.47 1.35L5.41 20z\"/>\n",
              "  </svg>\n",
              "      </button>\n",
              "\n",
              "\n",
              "\n",
              "    <div id=\"df-8f75c23a-9b59-4f04-ab31-2004d87a92be\">\n",
              "      <button class=\"colab-df-quickchart\" onclick=\"quickchart('df-8f75c23a-9b59-4f04-ab31-2004d87a92be')\"\n",
              "              title=\"Suggest charts.\"\n",
              "              style=\"display:none;\">\n",
              "\n",
              "<svg xmlns=\"http://www.w3.org/2000/svg\" height=\"24px\"viewBox=\"0 0 24 24\"\n",
              "     width=\"24px\">\n",
              "    <g>\n",
              "        <path d=\"M19 3H5c-1.1 0-2 .9-2 2v14c0 1.1.9 2 2 2h14c1.1 0 2-.9 2-2V5c0-1.1-.9-2-2-2zM9 17H7v-7h2v7zm4 0h-2V7h2v10zm4 0h-2v-4h2v4z\"/>\n",
              "    </g>\n",
              "</svg>\n",
              "      </button>\n",
              "    </div>\n",
              "\n",
              "<style>\n",
              "  .colab-df-quickchart {\n",
              "    background-color: #E8F0FE;\n",
              "    border: none;\n",
              "    border-radius: 50%;\n",
              "    cursor: pointer;\n",
              "    display: none;\n",
              "    fill: #1967D2;\n",
              "    height: 32px;\n",
              "    padding: 0 0 0 0;\n",
              "    width: 32px;\n",
              "  }\n",
              "\n",
              "  .colab-df-quickchart:hover {\n",
              "    background-color: #E2EBFA;\n",
              "    box-shadow: 0px 1px 2px rgba(60, 64, 67, 0.3), 0px 1px 3px 1px rgba(60, 64, 67, 0.15);\n",
              "    fill: #174EA6;\n",
              "  }\n",
              "\n",
              "  [theme=dark] .colab-df-quickchart {\n",
              "    background-color: #3B4455;\n",
              "    fill: #D2E3FC;\n",
              "  }\n",
              "\n",
              "  [theme=dark] .colab-df-quickchart:hover {\n",
              "    background-color: #434B5C;\n",
              "    box-shadow: 0px 1px 3px 1px rgba(0, 0, 0, 0.15);\n",
              "    filter: drop-shadow(0px 1px 2px rgba(0, 0, 0, 0.3));\n",
              "    fill: #FFFFFF;\n",
              "  }\n",
              "</style>\n",
              "\n",
              "    <script>\n",
              "      async function quickchart(key) {\n",
              "        const containerElement = document.querySelector('#' + key);\n",
              "        const charts = await google.colab.kernel.invokeFunction(\n",
              "            'suggestCharts', [key], {});\n",
              "      }\n",
              "    </script>\n",
              "\n",
              "      <script>\n",
              "\n",
              "function displayQuickchartButton(domScope) {\n",
              "  let quickchartButtonEl =\n",
              "    domScope.querySelector('#df-8f75c23a-9b59-4f04-ab31-2004d87a92be button.colab-df-quickchart');\n",
              "  quickchartButtonEl.style.display =\n",
              "    google.colab.kernel.accessAllowed ? 'block' : 'none';\n",
              "}\n",
              "\n",
              "        displayQuickchartButton(document);\n",
              "      </script>\n",
              "      <style>\n",
              "    .colab-df-container {\n",
              "      display:flex;\n",
              "      flex-wrap:wrap;\n",
              "      gap: 12px;\n",
              "    }\n",
              "\n",
              "    .colab-df-convert {\n",
              "      background-color: #E8F0FE;\n",
              "      border: none;\n",
              "      border-radius: 50%;\n",
              "      cursor: pointer;\n",
              "      display: none;\n",
              "      fill: #1967D2;\n",
              "      height: 32px;\n",
              "      padding: 0 0 0 0;\n",
              "      width: 32px;\n",
              "    }\n",
              "\n",
              "    .colab-df-convert:hover {\n",
              "      background-color: #E2EBFA;\n",
              "      box-shadow: 0px 1px 2px rgba(60, 64, 67, 0.3), 0px 1px 3px 1px rgba(60, 64, 67, 0.15);\n",
              "      fill: #174EA6;\n",
              "    }\n",
              "\n",
              "    [theme=dark] .colab-df-convert {\n",
              "      background-color: #3B4455;\n",
              "      fill: #D2E3FC;\n",
              "    }\n",
              "\n",
              "    [theme=dark] .colab-df-convert:hover {\n",
              "      background-color: #434B5C;\n",
              "      box-shadow: 0px 1px 3px 1px rgba(0, 0, 0, 0.15);\n",
              "      filter: drop-shadow(0px 1px 2px rgba(0, 0, 0, 0.3));\n",
              "      fill: #FFFFFF;\n",
              "    }\n",
              "  </style>\n",
              "\n",
              "      <script>\n",
              "        const buttonEl =\n",
              "          document.querySelector('#df-1a1e5dc9-00d8-41bc-b29b-ea6cf480bbbe button.colab-df-convert');\n",
              "        buttonEl.style.display =\n",
              "          google.colab.kernel.accessAllowed ? 'block' : 'none';\n",
              "\n",
              "        async function convertToInteractive(key) {\n",
              "          const element = document.querySelector('#df-1a1e5dc9-00d8-41bc-b29b-ea6cf480bbbe');\n",
              "          const dataTable =\n",
              "            await google.colab.kernel.invokeFunction('convertToInteractive',\n",
              "                                                     [key], {});\n",
              "          if (!dataTable) return;\n",
              "\n",
              "          const docLinkHtml = 'Like what you see? Visit the ' +\n",
              "            '<a target=\"_blank\" href=https://colab.research.google.com/notebooks/data_table.ipynb>data table notebook</a>'\n",
              "            + ' to learn more about interactive tables.';\n",
              "          element.innerHTML = '';\n",
              "          dataTable['output_type'] = 'display_data';\n",
              "          await google.colab.output.renderOutput(dataTable, element);\n",
              "          const docLink = document.createElement('div');\n",
              "          docLink.innerHTML = docLinkHtml;\n",
              "          element.appendChild(docLink);\n",
              "        }\n",
              "      </script>\n",
              "    </div>\n",
              "  </div>\n"
            ]
          },
          "metadata": {},
          "execution_count": 39
        }
      ]
    },
    {
      "cell_type": "code",
      "source": [
        "# Area under Receiver Operating Characteristic Curve (ROC AUC)\n",
        "\n",
        "# Probability predictions\n",
        "y_prob_pred = predictions.loc[:, 'churn_pred']\n",
        "\n",
        "# Area Under the Receiver Operating Characteristic Curve (ROC AUC)\n",
        "auc = roc_auc_score(y_true = predictions.loc[:, 'churn'],\n",
        "                    y_score = y_prob_pred)\n",
        "\n",
        "print(f\"{Fore.BLUE} ROC AUC: {auc:.2f} {Style.RESET_ALL}\")"
      ],
      "metadata": {
        "id": "VVuciRlVACVb",
        "outputId": "aa437f74-2578-4bca-9aa8-ac4dfe6423c8",
        "colab": {
          "base_uri": "https://localhost:8080/"
        }
      },
      "execution_count": null,
      "outputs": [
        {
          "output_type": "stream",
          "name": "stdout",
          "text": [
            "\u001b[34m ROC AUC: 0.62 \u001b[0m\n"
          ]
        }
      ]
    },
    {
      "cell_type": "code",
      "source": [
        "# Receiver Operating Characteristic Curve - RUC\n",
        "fpr, tpr, thresholds = roc_curve(y_true = predictions.loc[:, 'churn'],\n",
        "                                 y_score = predictions.loc[:, 'churn_pred'], # Lookup in code above\n",
        "                                 pos_label = 1)\n",
        "# RUC\n",
        "plt.figure(figsize = (5, 4))\n",
        "sns.set_palette(palette = \"viridis\") # Viridis pallete\n",
        "sns.lineplot(data = None,\n",
        "             x = fpr,\n",
        "             y = tpr,\n",
        "             linewidth = 1.2)\n",
        "\n",
        "plt.xlabel(\"False Positive Rate\")\n",
        "plt.ylabel(\"True Positive Rate\")\n",
        "plt.title(f\"ROC AUC: {auc:.2f}\")\n",
        "\n",
        "# Change level: 0.5\n",
        "sns.lineplot(data = None,\n",
        "             x = [0, 1],\n",
        "             y = [0, 1],\n",
        "             linewidth = 1.2,\n",
        "             linestyle = '--',\n",
        "             color = \"black\")\n",
        "\n",
        "\"\"\"# Legend\n",
        "plt.legend(title = 'Tipo NPS',\n",
        "           loc = 'best',\n",
        "           bbox_to_anchor=(1, 1))\"\"\"\n",
        "\n",
        "plt.show()"
      ],
      "metadata": {
        "id": "sbDNHQHF_0Lp",
        "outputId": "c50edd00-af02-467d-cffd-d2c3570c1666",
        "colab": {
          "base_uri": "https://localhost:8080/",
          "height": 415
        }
      },
      "execution_count": null,
      "outputs": [
        {
          "output_type": "display_data",
          "data": {
            "text/plain": [
              "<Figure size 500x400 with 1 Axes>"
            ],
            "image/png": "[encoded data removed]"
          },
          "metadata": {}
        }
      ]
    }
  ]
}