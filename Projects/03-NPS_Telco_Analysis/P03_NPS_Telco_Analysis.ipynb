{
  "nbformat": 4,
  "nbformat_minor": 0,
  "metadata": {
    "colab": {
      "provenance": [],
      "toc_visible": true,
      "authorship_tag": "ABX9TyOOFDYVdi0RKOTPSAiGEIES",
      "include_colab_link": true
    },
    "kernelspec": {
      "name": "python3",
      "display_name": "Python 3"
    },
    "language_info": {
      "name": "python"
    }
  },
  "cells": [
    {
      "cell_type": "markdown",
      "metadata": {
        "id": "view-in-github",
        "colab_type": "text"
      },
      "source": [
        "<a href=\"https://colab.research.google.com/github/leandroaguazaco/data_science_portfolio/blob/main/Projects/03-NPS_Telco_Analysis/P03_NPS_Telco_Analysis.ipynb\" target=\"_parent\"><img src=\"https://colab.research.google.com/assets/colab-badge.svg\" alt=\"Open In Colab\"/></a>"
      ]
    },
    {
      "cell_type": "markdown",
      "source": [
        "<h1 align=\"center\"> 3 - NPS TELCO ANALYSIS </h1>\n",
        "\n",
        "<div align=\"center\">\n",
        "\n",
        "  <img alt=\"Static Badge\" src=\"https://img.shields.io/badge/active_project-true-blue\">\n",
        "\n",
        "  <img alt=\"Static Badge\" src=\"https://img.shields.io/badge/status-in progress-green\">\n",
        "\n",
        "</div>  \n",
        "\n",
        "<object\n",
        "data=\"https://img.shields.io/badge/contact-Felipe_Leandro_Aguazaco-blue?style=flat&link=https%3A%2F%2Fwww.linkedin.com%2Fin%2Ffelipe-leandro-aguazaco%2F\">\n",
        "</object>"
      ],
      "metadata": {
        "id": "L0-c2Ql_uFdY"
      }
    },
    {
      "cell_type": "markdown",
      "source": [
        "## Summary\n",
        "\n",
        "Another NPS analysis, in this case corresponding to the telco industry. The dataset is high-dimensional and contains a mix of categorical and numerical variables. The aim is to predict whether a client will be a promoter or a detractor.\n",
        "\n",
        "* Binary classificaciont problem.\n",
        "* Not missing values.\n",
        "* Mix categorical and numerical features.\n",
        "* High-dimensional data.\n"
      ],
      "metadata": {
        "id": "gMPxy9ug2Uzm"
      }
    },
    {
      "cell_type": "code",
      "source": [],
      "metadata": {
        "id": "xOwC2Vk543w1"
      },
      "execution_count": null,
      "outputs": []
    }
  ]
}