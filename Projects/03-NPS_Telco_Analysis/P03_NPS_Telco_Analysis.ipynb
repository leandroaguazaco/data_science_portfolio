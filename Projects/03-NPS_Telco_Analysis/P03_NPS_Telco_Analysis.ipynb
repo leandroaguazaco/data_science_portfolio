{
  "nbformat": 4,
  "nbformat_minor": 0,
  "metadata": {
    "colab": {
      "provenance": [],
      "authorship_tag": "ABX9TyNEAK4UxmSEIEGY7jTqiEN3",
      "include_colab_link": true
    },
    "kernelspec": {
      "name": "python3",
      "display_name": "Python 3"
    },
    "language_info": {
      "name": "python"
    }
  },
  "cells": [
    {
      "cell_type": "markdown",
      "metadata": {
        "id": "view-in-github",
        "colab_type": "text"
      },
      "source": [
        "<a href=\"https://colab.research.google.com/github/leandroaguazaco/data_science_portfolio/blob/main/Projects/03-NPS_Telco_Analysis/P03_NPS_Telco_Analysis.ipynb\" target=\"_parent\"><img src=\"https://colab.research.google.com/assets/colab-badge.svg\" alt=\"Open In Colab\"/></a>"
      ]
    },
    {
      "cell_type": "markdown",
      "source": [
        "<h1 align=\"center\"> 3 - NPS TELCO ANALYSIS </h1>\n",
        "\n",
        "<div align=\"center\">\n",
        "\n",
        "  <img alt=\"Static Badge\" src=\"https://img.shields.io/badge/active_project-true-blue\">\n",
        "\n",
        "  <img alt=\"Static Badge\" src=\"https://img.shields.io/badge/status-in progress-green\">\n",
        "\n",
        "</div>  \n",
        "\n",
        "<object\n",
        "data=\"https://img.shields.io/badge/contact-Felipe_Leandro_Aguazaco-blue?style=flat&link=https%3A%2F%2Fwww.linkedin.com%2Fin%2Ffelipe-leandro-aguazaco%2F\">\n",
        "</object>"
      ],
      "metadata": {
        "id": "L0-c2Ql_uFdY"
      }
    },
    {
      "cell_type": "markdown",
      "source": [
        "## a. Summary\n",
        "\n",
        "Another NPS analysis, in this case corresponding to the telco industry. The dataset is high-dimensional and contains a mix of categorical and numerical variables. The aim is to predict whether a client will be a promoter or a detractor.\n",
        "\n",
        "* Automated EDA\n",
        "* Binary classificacion problem\n",
        "* Not missing values\n",
        "* Mix categorical and numerical features\n",
        "* High-dimensional data\n",
        "* Main libraries: PyCaret, Scikit-Learn, pyjanitor\n"
      ],
      "metadata": {
        "id": "gMPxy9ug2Uzm"
      }
    },
    {
      "cell_type": "markdown",
      "source": [
        "## b. Install librarires"
      ],
      "metadata": {
        "id": "kCrzfeDhTsbR"
      }
    },
    {
      "cell_type": "code",
      "source": [
        "%%capture\n",
        "!pip install polars\n",
        "!pip install xlsx2csv\n",
        "!pip install pyjanitor\n",
        "!pip install colorama\n",
        "!pip install adjustText\n",
        "!pip install -U ydata-profiling"
      ],
      "metadata": {
        "id": "WaCuv732Txwq"
      },
      "execution_count": null,
      "outputs": []
    },
    {
      "cell_type": "markdown",
      "source": [
        "## c. Import libraries"
      ],
      "metadata": {
        "id": "MxuuiZeDUulb"
      }
    },
    {
      "cell_type": "code",
      "source": [
        "# c.1 Python Utilies\n",
        "import pandas as pd\n",
        "import polars as pl\n",
        "import numpy as np\n",
        "import warnings\n",
        "from janitor import clean_names, remove_empty\n",
        "\n",
        "# c.2 Visulization libraries\n",
        "import matplotlib.pyplot as plt\n",
        "import seaborn as sns\n",
        "from adjustText import adjust_text\n",
        "from colorama import Fore, Style\n",
        "\n",
        "# c.3 Automated EDA\n",
        "from ydata_profiling import ProfileReport\n",
        "\n",
        "# c.3 Setups\n",
        "%matplotlib inline\n",
        "plt.style.use(\"ggplot\")\n",
        "warnings.simplefilter(\"ignore\")"
      ],
      "metadata": {
        "id": "iB5Z6tD8Tqbv"
      },
      "execution_count": 9,
      "outputs": []
    },
    {
      "cell_type": "markdown",
      "source": [
        "## d. Custom functions"
      ],
      "metadata": {
        "id": "0i01d6OIW3Xq"
      }
    },
    {
      "cell_type": "code",
      "source": [
        "# d.1 dtypes conversion and memory reduce function.\n",
        "def dtype_conversion(df: pd.DataFrame = None, verbose: bool = True)-> pd.DataFrame:\n",
        "    \"\"\"\n",
        "    Summary:\n",
        "      Function to dtypes conversion and save reduce memory usage; takes a DataFrame as argument, returns DataFrame.\n",
        "      For more details, visit: https://towardsdatascience.com/how-to-work-with-million-row-datasets-like-a-pro-76fb5c381cdd.\n",
        "      The modifications include type casting for numerical and object variables.\n",
        "    Parameters:\n",
        "      df (pandas.DataFrame): DataFrame containing information.\n",
        "      verbose (bool, default = True): If true, display results (conversions and warnings)\n",
        "    Returns:\n",
        "      pandas.DataFrame: original DataFrame with dtypes conversions\n",
        "      Plot original dtypes status, variable warning due high cardinality, save memory usage, final dtypes status.\n",
        "    \"\"\"\n",
        "    # 0- Original dtypes\n",
        "    print(Fore.GREEN + \"Input dtypes\" + Style.RESET_ALL)\n",
        "    print(df.dtypes)\n",
        "    print(\"\\n\")\n",
        "    print(Fore.RED + \"High Cardinality, categorical features with levels > 15\" + Style.RESET_ALL)\n",
        "\n",
        "    # 1- Original memory_usage in MB\n",
        "    start_mem = df.memory_usage().sum() / 1024 ** 2\n",
        "\n",
        "    # 2- Numerical Types\n",
        "    numerics = [\"int8\", \"int16\", \"int32\", \"int64\", \"float16\", \"float32\", \"float64\"]\n",
        "    for col in df.columns:\n",
        "        col_type = df[col].dtypes\n",
        "        if col_type in numerics:\n",
        "            c_min = df[col].min()\n",
        "            c_max = df[col].max()\n",
        "            if str(col_type)[:3] == \"int\": # First 3 characters\n",
        "                if c_min > np.iinfo(np.int8).min and c_max < np.iinfo(np.int8).max:\n",
        "                    df[col] = df[col].astype(np.int8)\n",
        "                elif c_min > np.iinfo(np.int16).min and c_max < np.iinfo(np.int16).max:\n",
        "                    df[col] = df[col].astype(np.int16)\n",
        "                elif c_min > np.iinfo(np.int32).min and c_max < np.iinfo(np.int32).max:\n",
        "                    df[col] = df[col].astype(np.int32)\n",
        "                elif c_min > np.iinfo(np.int64).min and c_max < np.iinfo(np.int64).max:\n",
        "                    df[col] = df[col].astype(np.int64)\n",
        "            else:\n",
        "                if (c_min > np.finfo(np.float16).min and c_max < np.finfo(np.float16).max):\n",
        "                    df[col] = df[col].astype(np.float16)\n",
        "                elif (c_min > np.finfo(np.float32).min and c_max < np.finfo(np.float32).max):\n",
        "                    df[col] = df[col].astype(np.float32)\n",
        "                else:\n",
        "                    df[col] = df[col].astype(np.float64)\n",
        "\n",
        "    # 3- Categorical Types\n",
        "    high_card_vars = 0\n",
        "    for col in df.select_dtypes(exclude = [\"int8\", \"int16\", \"int32\", \"int64\", \"float16\", \"float32\", \"float64\", \"datetime64[ns]\"]):\n",
        "        categories = list(df[col].unique())\n",
        "        cat_len = len(categories)\n",
        "        if cat_len >= 2 and cat_len < 15:\n",
        "           df[col] = df[col].astype(\"category\")\n",
        "        else:\n",
        "          high_card_vars =+ 1\n",
        "          # Print hight cardinality variables, amount of levels and a sample of 50 firts categories\n",
        "          print(f\"Look at: {Fore.RED + col + Style.RESET_ALL}, {cat_len} levels = {categories[:50]}\")\n",
        "    if high_card_vars == 0:\n",
        "      print(Fore.GREEN + \"None\" + Style.RESET_ALL)\n",
        "    else:\n",
        "      pass\n",
        "\n",
        "    # 4- Final memory_usage in MB\n",
        "    end_mem = df.memory_usage().sum() / 1024 ** 2\n",
        "    if verbose:\n",
        "        print(\"\\n\")\n",
        "        print(f\"{Fore.BLUE}Initial memory usage: {start_mem:.2f} MB{Style.RESET_ALL}\")\n",
        "        print(f\"{Fore.BLUE}Memory usage decreased to {end_mem:.2f} MB ({ 100 * (start_mem - end_mem) / start_mem:.1f}% reduction){Style.RESET_ALL}\")\n",
        "        print(\"\\n\")\n",
        "        print(Fore.GREEN + \"Output dtypes\" + Style.RESET_ALL)\n",
        "        print(df.dtypes)\n",
        "        print(\"\\n\")\n",
        "\n",
        "    return df"
      ],
      "metadata": {
        "id": "PuYrorpvW7Ub"
      },
      "execution_count": 52,
      "outputs": []
    },
    {
      "cell_type": "markdown",
      "source": [
        "## 1 - Load data"
      ],
      "metadata": {
        "id": "zwNvfIQvWxVP"
      }
    },
    {
      "cell_type": "code",
      "source": [
        "telco_nps_df = pl.read_excel(source = \"BD_NPS_PERSONAS_sample.xlsx\",\n",
        "                             sheet_id = 1,\n",
        "                             xlsx2csv_options = {\"skip_empty_lines\": True},\n",
        "                             read_csv_options ={\"has_header\": True,\n",
        "                                                \"try_parse_dates\": True, # Important\n",
        "                                                \"encoding\": \"utf8\"}) \\\n",
        "                 .to_pandas() \\\n",
        "                 .pipe(clean_names) \\\n",
        "                 .pipe(remove_empty) \\\n",
        "                 .set_index(\"id\") \\\n",
        "                 .drop_duplicates() \\\n",
        "                 .pipe(dtype_conversion) # Custom function"
      ],
      "metadata": {
        "id": "gSNom2Y_YR0q",
        "outputId": "1ea1974e-999f-49bc-a7e1-b0feae3df68e",
        "colab": {
          "base_uri": "https://localhost:8080/"
        }
      },
      "execution_count": 53,
      "outputs": [
        {
          "output_type": "stream",
          "name": "stdout",
          "text": [
            "\u001b[32mInput dtypes\u001b[0m\n",
            "antigued                object\n",
            "grupo_edad              object\n",
            "gener                   object\n",
            "estado_civil            object\n",
            "region                  object\n",
            "calidad_produc           int64\n",
            "calif_voz                int64\n",
            "senal_voz                int64\n",
            "estabil_llamada          int64\n",
            "uso_serv_cliente        object\n",
            "data_usur               object\n",
            "technology              object\n",
            "band_7                  object\n",
            "max_network_voice       object\n",
            "calls_drop_s             int64\n",
            "calls_failure_s          int64\n",
            "calls_out_month_p        int64\n",
            "calls_in_month_p         int64\n",
            "calls_out_tot_p          int64\n",
            "calls_in_tot_p           int64\n",
            "no_answer_calls_p        int64\n",
            "month_voice_out_c        int64\n",
            "duration_all_in_a        int64\n",
            "duration_all_out_a       int64\n",
            "duration_all_inout_c     int64\n",
            "setup_time_avg_a         int64\n",
            "setup_failure_perc_a     int64\n",
            "dropped_calls_perc_a     int64\n",
            "mo_mos_avg_a             int64\n",
            "recharges_month_a        int64\n",
            "nr_recharges_month_a     int64\n",
            "tipo_m1                 object\n",
            "paq_datos_m1             int64\n",
            "paq_990_m1               int64\n",
            "paq_min_m1               int64\n",
            "paq_bund_m1              int64\n",
            "consumo_granel_m1        int64\n",
            "consumos_voz_m1          int64\n",
            "vlr_cargas_m1            int64\n",
            "cant_cargas_m1           int64\n",
            "pyp_m1                   int64\n",
            "promo_recarga_m1         int64\n",
            "dia_sorpresa_m1          int64\n",
            "max_rech                object\n",
            "target                   int64\n",
            "dtype: object\n",
            "\n",
            "\n",
            "\u001b[31mHigh Cardinality, categorical features with levels > 15\u001b[0m\n",
            "\u001b[32mNone\u001b[0m\n",
            "\n",
            "\n",
            "\u001b[34mInitial memory usage: 0.11 MB\u001b[0m\n",
            "\u001b[34mMemory usage decreased to 0.04 MB (67.6% reduction)\u001b[0m\n",
            "\n",
            "\n",
            "\u001b[32mOutput dtypes\u001b[0m\n",
            "antigued                category\n",
            "grupo_edad              category\n",
            "gener                   category\n",
            "estado_civil            category\n",
            "region                  category\n",
            "calidad_produc              int8\n",
            "calif_voz                   int8\n",
            "senal_voz                   int8\n",
            "estabil_llamada             int8\n",
            "uso_serv_cliente        category\n",
            "data_usur               category\n",
            "technology              category\n",
            "band_7                  category\n",
            "max_network_voice       category\n",
            "calls_drop_s                int8\n",
            "calls_failure_s             int8\n",
            "calls_out_month_p          int16\n",
            "calls_in_month_p           int16\n",
            "calls_out_tot_p            int32\n",
            "calls_in_tot_p             int32\n",
            "no_answer_calls_p          int32\n",
            "month_voice_out_c           int8\n",
            "duration_all_in_a          int64\n",
            "duration_all_out_a         int64\n",
            "duration_all_inout_c        int8\n",
            "setup_time_avg_a           int64\n",
            "setup_failure_perc_a       int64\n",
            "dropped_calls_perc_a       int64\n",
            "mo_mos_avg_a               int64\n",
            "recharges_month_a          int32\n",
            "nr_recharges_month_a       int16\n",
            "tipo_m1                 category\n",
            "paq_datos_m1                int8\n",
            "paq_990_m1                  int8\n",
            "paq_min_m1                  int8\n",
            "paq_bund_m1                 int8\n",
            "consumo_granel_m1           int8\n",
            "consumos_voz_m1             int8\n",
            "vlr_cargas_m1              int32\n",
            "cant_cargas_m1              int8\n",
            "pyp_m1                      int8\n",
            "promo_recarga_m1            int8\n",
            "dia_sorpresa_m1             int8\n",
            "max_rech                category\n",
            "target                      int8\n",
            "dtype: object\n",
            "\n",
            "\n"
          ]
        }
      ]
    }
  ]
}